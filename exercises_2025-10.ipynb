{
 "cells": [
  {
   "cell_type": "markdown",
   "id": "35320df3-4231-46c4-b145-29b711f423db",
   "metadata": {},
   "source": [
    "# Walkthroughs and Exercises for Fundamentals of Statistics with Python\n",
    "\n",
    "Dr. Chester Ismay"
   ]
  },
  {
   "cell_type": "code",
   "execution_count": null,
   "id": "edbe09ec-485f-4364-9f39-d3aa837bed6a",
   "metadata": {},
   "outputs": [],
   "source": [
    "# Install the packages directly if needed with pip\n",
    "# Check the repo's README below for more information\n",
    "!pip install numpy pandas scipy matplotlib seaborn statsmodels scikit-learn jupyter"
   ]
  },
  {
   "cell_type": "code",
   "execution_count": 1,
   "id": "bc8321fa-0d7c-4dc6-8391-8f3156e457fa",
   "metadata": {},
   "outputs": [],
   "source": [
    "import pandas as pd\n",
    "\n",
    "# Display all columns\n",
    "pd.set_option('display.max_columns', None)\n",
    "\n",
    "# Display all outputs from each cell\n",
    "from IPython.core.interactiveshell import InteractiveShell\n",
    "InteractiveShell.ast_node_interactivity = \"all\""
   ]
  },
  {
   "cell_type": "markdown",
   "id": "b2df140f-a17d-4bcd-8ea7-dc363e393fc7",
   "metadata": {},
   "source": [
    "# Week 1\n",
    "\n",
    "## Walkthrough 1.1: Getting Started\n",
    "\n",
    "### Setting Up the Python Environment\n",
    "\n",
    "If you haven’t already installed Python, Jupyter, and the necessary\n",
    "packages, there are instructions on the course repo in the README to do\n",
    "so\n",
    "[here](https://github.com/ismayc/oreilly-fundamentals-of-statistics-with-python/blob/main/README.md).\n",
    "\n",
    "If you aren’t able to do this on your machine, you may want to check out\n",
    "[Google Colab](https://colab.research.google.com/). It’s a free service\n",
    "that allows you to run Jupyter notebooks in the cloud. Alternatively,\n",
    "I’ve set up some temporary notebooks on Binder\n",
    "([![()](https://mybinder.org/badge_logo.svg)](https://mybinder.org/v2/gh/ismayc/oreilly-fundamentals-of-statistics-with-python/main?urlpath=%2Fdoc%2Ftree%2Fexercises.ipynb))\n",
    "that you can work with online as well."
   ]
  },
  {
   "cell_type": "code",
   "execution_count": 3,
   "id": "626fc7f4-cea9-4321-ad5e-dab6809ff9c0",
   "metadata": {},
   "outputs": [],
   "source": [
    "# Importing libraries/modules and aliasing them as needed\n",
    "import numpy as np\n",
    "import pandas as pd\n",
    "import scipy.stats as stats\n",
    "import matplotlib.pyplot as plt\n",
    "import seaborn as sns\n",
    "import statsmodels.api as sm\n",
    "from sklearn.preprocessing import MinMaxScaler, StandardScaler"
   ]
  },
  {
   "cell_type": "markdown",
   "id": "2e2eaec7-c6b8-4d62-a8ea-90f60d3a4808",
   "metadata": {},
   "source": [
    "### Exploring a dataset"
   ]
  },
  {
   "cell_type": "code",
   "execution_count": 4,
   "id": "990bbb58-5647-4504-b947-a108ad380033",
   "metadata": {},
   "outputs": [],
   "source": [
    "# Load in the dataset\n",
    "data_dev_survey = pd.read_csv(\"data_dev_survey.csv\")"
   ]
  },
  {
   "cell_type": "code",
   "execution_count": 6,
   "id": "401869b2-668e-4164-81c6-ae33f60efd7d",
   "metadata": {},
   "outputs": [
    {
     "name": "stdout",
     "output_type": "stream",
     "text": [
      "<class 'pandas.core.frame.DataFrame'>\n",
      "RangeIndex: 1183 entries, 0 to 1182\n",
      "Data columns (total 24 columns):\n",
      " #   Column                      Non-Null Count  Dtype  \n",
      "---  ------                      --------------  -----  \n",
      " 0   response_id                 1183 non-null   int64  \n",
      " 1   work_as_dev                 1183 non-null   object \n",
      " 2   age                         1183 non-null   object \n",
      " 3   employment                  1183 non-null   object \n",
      " 4   remote_work                 1183 non-null   object \n",
      " 5   coding_activities           1182 non-null   object \n",
      " 6   ed_level                    1183 non-null   object \n",
      " 7   dev_type                    1183 non-null   object \n",
      " 8   years_code                  1182 non-null   float64\n",
      " 9   years_code_pro              1183 non-null   int64  \n",
      " 10  org_size                    1183 non-null   object \n",
      " 11  country                     1183 non-null   object \n",
      " 12  language_have_worked_with   1183 non-null   object \n",
      " 13  language_want_to_work_with  1116 non-null   object \n",
      " 14  op_sys_professional_use     1110 non-null   object \n",
      " 15  ai_view                     1183 non-null   object \n",
      " 16  ai_trust                    1183 non-null   object \n",
      " 17  ic_or_manager               1183 non-null   object \n",
      " 18  work_exp                    1183 non-null   int64  \n",
      " 19  industry                    949 non-null    object \n",
      " 20  us_or_not                   1183 non-null   object \n",
      " 21  plans_to_use_ai             1183 non-null   object \n",
      " 22  converted_comp_yearly       1183 non-null   int64  \n",
      " 23  survey_completion_date      1183 non-null   object \n",
      "dtypes: float64(1), int64(4), object(19)\n",
      "memory usage: 221.9+ KB\n"
     ]
    }
   ],
   "source": [
    "# Display information about the DataFrame\n",
    "data_dev_survey.info()"
   ]
  },
  {
   "cell_type": "markdown",
   "id": "c20b265a-2178-4e3a-ad72-4f4720999b0d",
   "metadata": {},
   "source": [
    "### Performing basic statistical functions using NumPy, Pandas, and SciPy.\n",
    "\n",
    "#### Using NumPy"
   ]
  },
  {
   "cell_type": "code",
   "execution_count": 10,
   "id": "8930a6f5-30e9-425b-84f9-de9c16bf6c4a",
   "metadata": {},
   "outputs": [
    {
     "data": {
      "text/plain": [
       "np.float64(7.961115807269653)"
      ]
     },
     "execution_count": 10,
     "metadata": {},
     "output_type": "execute_result"
    },
    {
     "data": {
      "text/plain": [
       "np.float64(6.0)"
      ]
     },
     "execution_count": 10,
     "metadata": {},
     "output_type": "execute_result"
    }
   ],
   "source": [
    "# Calculate the mean and the median of the years_code_pro column\n",
    "np.mean(data_dev_survey['years_code_pro'])\n",
    "np.median(data_dev_survey['years_code_pro'])"
   ]
  },
  {
   "cell_type": "code",
   "execution_count": 8,
   "id": "540be9dc-1c2e-4a26-9d1d-827e3edb2212",
   "metadata": {},
   "outputs": [
    {
     "data": {
      "text/plain": [
       "np.float64(7.0)"
      ]
     },
     "execution_count": 8,
     "metadata": {},
     "output_type": "execute_result"
    }
   ],
   "source": [
    "# Calculate the median of the work_exp column\n",
    "np.median(data_dev_survey['work_exp'])"
   ]
  },
  {
   "cell_type": "code",
   "execution_count": 12,
   "id": "ce3455f9-437b-4c80-a19f-f7ba8b9d0676",
   "metadata": {},
   "outputs": [
    {
     "data": {
      "text/plain": [
       "np.float64(81861.24268446874)"
      ]
     },
     "execution_count": 12,
     "metadata": {},
     "output_type": "execute_result"
    }
   ],
   "source": [
    "# Calculate the standard deviation of the converted_comp_yearly column\n",
    "np.std(data_dev_survey['converted_comp_yearly'])"
   ]
  },
  {
   "cell_type": "markdown",
   "id": "f118417e-9d8e-464f-a1eb-a283e990805d",
   "metadata": {},
   "source": [
    "#### Using Pandas"
   ]
  },
  {
   "cell_type": "code",
   "execution_count": 13,
   "id": "8897e6d4-8a0a-46f0-bd57-fb59d121a39e",
   "metadata": {},
   "outputs": [
    {
     "data": {
      "text/html": [
       "<div>\n",
       "<style scoped>\n",
       "    .dataframe tbody tr th:only-of-type {\n",
       "        vertical-align: middle;\n",
       "    }\n",
       "\n",
       "    .dataframe tbody tr th {\n",
       "        vertical-align: top;\n",
       "    }\n",
       "\n",
       "    .dataframe thead th {\n",
       "        text-align: right;\n",
       "    }\n",
       "</style>\n",
       "<table border=\"1\" class=\"dataframe\">\n",
       "  <thead>\n",
       "    <tr style=\"text-align: right;\">\n",
       "      <th></th>\n",
       "      <th>response_id</th>\n",
       "      <th>years_code</th>\n",
       "      <th>years_code_pro</th>\n",
       "      <th>work_exp</th>\n",
       "      <th>converted_comp_yearly</th>\n",
       "    </tr>\n",
       "  </thead>\n",
       "  <tbody>\n",
       "    <tr>\n",
       "      <th>count</th>\n",
       "      <td>1183.000000</td>\n",
       "      <td>1182.000000</td>\n",
       "      <td>1183.000000</td>\n",
       "      <td>1183.000000</td>\n",
       "      <td>1.183000e+03</td>\n",
       "    </tr>\n",
       "    <tr>\n",
       "      <th>mean</th>\n",
       "      <td>43949.774303</td>\n",
       "      <td>12.534687</td>\n",
       "      <td>7.961116</td>\n",
       "      <td>9.650042</td>\n",
       "      <td>9.068442e+04</td>\n",
       "    </tr>\n",
       "    <tr>\n",
       "      <th>std</th>\n",
       "      <td>25327.979423</td>\n",
       "      <td>8.384094</td>\n",
       "      <td>7.153751</td>\n",
       "      <td>8.189750</td>\n",
       "      <td>8.189586e+04</td>\n",
       "    </tr>\n",
       "    <tr>\n",
       "      <th>min</th>\n",
       "      <td>164.000000</td>\n",
       "      <td>1.000000</td>\n",
       "      <td>0.000000</td>\n",
       "      <td>0.000000</td>\n",
       "      <td>3.000000e+00</td>\n",
       "    </tr>\n",
       "    <tr>\n",
       "      <th>25%</th>\n",
       "      <td>22733.000000</td>\n",
       "      <td>7.000000</td>\n",
       "      <td>3.000000</td>\n",
       "      <td>4.000000</td>\n",
       "      <td>4.159300e+04</td>\n",
       "    </tr>\n",
       "    <tr>\n",
       "      <th>50%</th>\n",
       "      <td>43305.000000</td>\n",
       "      <td>10.000000</td>\n",
       "      <td>6.000000</td>\n",
       "      <td>7.000000</td>\n",
       "      <td>7.271400e+04</td>\n",
       "    </tr>\n",
       "    <tr>\n",
       "      <th>75%</th>\n",
       "      <td>65791.000000</td>\n",
       "      <td>16.000000</td>\n",
       "      <td>10.000000</td>\n",
       "      <td>13.000000</td>\n",
       "      <td>1.200000e+05</td>\n",
       "    </tr>\n",
       "    <tr>\n",
       "      <th>max</th>\n",
       "      <td>89072.000000</td>\n",
       "      <td>50.000000</td>\n",
       "      <td>50.000000</td>\n",
       "      <td>48.000000</td>\n",
       "      <td>1.200000e+06</td>\n",
       "    </tr>\n",
       "  </tbody>\n",
       "</table>\n",
       "</div>"
      ],
      "text/plain": [
       "        response_id   years_code  years_code_pro     work_exp  \\\n",
       "count   1183.000000  1182.000000     1183.000000  1183.000000   \n",
       "mean   43949.774303    12.534687        7.961116     9.650042   \n",
       "std    25327.979423     8.384094        7.153751     8.189750   \n",
       "min      164.000000     1.000000        0.000000     0.000000   \n",
       "25%    22733.000000     7.000000        3.000000     4.000000   \n",
       "50%    43305.000000    10.000000        6.000000     7.000000   \n",
       "75%    65791.000000    16.000000       10.000000    13.000000   \n",
       "max    89072.000000    50.000000       50.000000    48.000000   \n",
       "\n",
       "       converted_comp_yearly  \n",
       "count           1.183000e+03  \n",
       "mean            9.068442e+04  \n",
       "std             8.189586e+04  \n",
       "min             3.000000e+00  \n",
       "25%             4.159300e+04  \n",
       "50%             7.271400e+04  \n",
       "75%             1.200000e+05  \n",
       "max             1.200000e+06  "
      ]
     },
     "execution_count": 13,
     "metadata": {},
     "output_type": "execute_result"
    }
   ],
   "source": [
    "# Display summary statistics on the numeric columns of the DataFrame\n",
    "data_dev_survey.describe()"
   ]
  },
  {
   "cell_type": "markdown",
   "id": "e5239ff7-1469-4754-8943-62c2751d705a",
   "metadata": {},
   "source": [
    "#### Using SciPy"
   ]
  },
  {
   "cell_type": "code",
   "execution_count": 14,
   "id": "3d868365-39f4-4c83-80a4-14929f1d862f",
   "metadata": {},
   "outputs": [
    {
     "data": {
      "text/plain": [
       "np.float64(0.9293366153676751)"
      ]
     },
     "execution_count": 14,
     "metadata": {},
     "output_type": "execute_result"
    },
    {
     "data": {
      "text/plain": [
       "np.float64(0.3529304815725288)"
      ]
     },
     "execution_count": 14,
     "metadata": {},
     "output_type": "execute_result"
    }
   ],
   "source": [
    "# Separate the data into two groups\n",
    "using_ai = data_dev_survey[data_dev_survey['plans_to_use_ai'] == 'Using']['converted_comp_yearly']\n",
    "plan_to_use_ai = data_dev_survey[data_dev_survey['plans_to_use_ai'] == 'Plan to use']['converted_comp_yearly']\n",
    "\n",
    "# Perform the t-test looking for a difference in mean salary for the groups\n",
    "t_stat, p_value = stats.ttest_ind(using_ai, plan_to_use_ai, equal_var=False)\n",
    "\n",
    "# Print the results\n",
    "t_stat\n",
    "p_value"
   ]
  },
  {
   "cell_type": "markdown",
   "id": "189ebb77-bb78-44e7-ab3b-5004a53a43c7",
   "metadata": {},
   "source": [
    "The p-value of 0.35 is quite large. We do not have statistical evidence for a difference in the mean salaries of the two groups depending on whether or not they plan to use AI in their work."
   ]
  },
  {
   "cell_type": "markdown",
   "id": "65afe6b1-9561-4510-988c-0318408843b9",
   "metadata": {},
   "source": [
    "## Exercise 1.1: Getting Started\n",
    "\n",
    "### Setting Up the Python Environment\n",
    "\n",
    "If you ran the `# Importing libraries and aliasing them` code above, you\n",
    "should be good to proceed here. If not, scroll up and run it.\n",
    "\n",
    "### Exploring a dataset"
   ]
  },
  {
   "cell_type": "code",
   "execution_count": 5,
   "id": "d2092729-80a4-4ed3-a67f-1f5d83ddd5c7",
   "metadata": {},
   "outputs": [],
   "source": [
    "# Load in the coffee_quality dataset\n",
    "coffee_quality = pd.read_csv(\"coffee_quality.csv\")"
   ]
  },
  {
   "cell_type": "code",
   "execution_count": null,
   "id": "91d1ce5a-bfe1-4b7d-a7ea-9cf360cbf953",
   "metadata": {},
   "outputs": [],
   "source": [
    "# Display information about the DataFrame"
   ]
  },
  {
   "cell_type": "markdown",
   "id": "92cd36f1-cc10-469c-9ff4-632b353ef038",
   "metadata": {},
   "source": [
    "### Performing basic statistical functions using NumPy, Pandas, and SciPy.\n",
    "\n",
    "#### Using NumPy"
   ]
  },
  {
   "cell_type": "code",
   "execution_count": null,
   "id": "1b6cb058-7f30-409b-bfcd-186f55f60dc5",
   "metadata": {},
   "outputs": [],
   "source": [
    "# Calculate the mean of the aroma column"
   ]
  },
  {
   "cell_type": "code",
   "execution_count": null,
   "id": "fafdea82-fd4a-4261-9860-c7abb624ea40",
   "metadata": {},
   "outputs": [],
   "source": [
    "# Calculate the median of the total_cup_points column"
   ]
  },
  {
   "cell_type": "code",
   "execution_count": null,
   "id": "f1761093-1732-4b44-b9ae-075a86c2fa7f",
   "metadata": {},
   "outputs": [],
   "source": [
    "# Calculate the standard deviation of the moisture_percentage column"
   ]
  },
  {
   "cell_type": "markdown",
   "id": "6af17d57-7cec-4655-8b1a-fee9773675ca",
   "metadata": {},
   "source": [
    "#### Using Pandas"
   ]
  },
  {
   "cell_type": "code",
   "execution_count": null,
   "id": "d8c5de04-5232-425c-b4ef-8b9aad121ee4",
   "metadata": {},
   "outputs": [],
   "source": [
    "# Display summary statistics on the numeric columns of the DataFrame"
   ]
  },
  {
   "cell_type": "markdown",
   "id": "aec60a6b-19e8-4959-b4fd-4f3012bc59ae",
   "metadata": {},
   "source": [
    "#### Using SciPy"
   ]
  },
  {
   "cell_type": "code",
   "execution_count": null,
   "id": "5caaaa46-babc-416b-a8df-e34f2aa1a060",
   "metadata": {},
   "outputs": [],
   "source": [
    "# Focus on only Asia and North America entries\n",
    "\n",
    "# Separate the data into two groups\n",
    "\n",
    "\n",
    "# Perform the t-test to test for difference in total_cup_points\n",
    "\n",
    "\n",
    "# Print the results\n"
   ]
  },
  {
   "cell_type": "markdown",
   "id": "3fd61e6f-d261-42b0-b463-63a7b4db041a",
   "metadata": {},
   "source": [
    "------------------------------------------------------------------------\n",
    "\n",
    "## Walkthrough 1.2: Data Summarizing\n",
    "\n",
    "### Compute and interpret measures of central tendency"
   ]
  },
  {
   "cell_type": "code",
   "execution_count": 16,
   "id": "5cc12b3d-89f8-4382-87b5-3d153ffc110b",
   "metadata": {},
   "outputs": [
    {
     "data": {
      "text/plain": [
       "np.float64(7.961115807269653)"
      ]
     },
     "execution_count": 16,
     "metadata": {},
     "output_type": "execute_result"
    },
    {
     "data": {
      "text/plain": [
       "np.float64(6.0)"
      ]
     },
     "execution_count": 16,
     "metadata": {},
     "output_type": "execute_result"
    },
    {
     "data": {
      "text/plain": [
       "0    2\n",
       "Name: years_code_pro, dtype: int64"
      ]
     },
     "execution_count": 16,
     "metadata": {},
     "output_type": "execute_result"
    },
    {
     "data": {
      "text/plain": [
       "np.int64(2)"
      ]
     },
     "execution_count": 16,
     "metadata": {},
     "output_type": "execute_result"
    }
   ],
   "source": [
    "# Calculate center statistics for years_code_pro\n",
    "data_dev_survey.years_code_pro.mean()\n",
    "data_dev_survey.years_code_pro.median()\n",
    "data_dev_survey.years_code_pro.mode()\n",
    "\n",
    "# To extract just the value for mode\n",
    "data_dev_survey.years_code_pro.mode()[0]"
   ]
  },
  {
   "cell_type": "markdown",
   "id": "6a9642b2-5c6b-4ef3-9d8f-bb69544ba46a",
   "metadata": {},
   "source": [
    "### Compute and interpret measures of variation"
   ]
  },
  {
   "cell_type": "code",
   "execution_count": 18,
   "id": "d7793af8-83af-40f2-9451-3b90867455fd",
   "metadata": {},
   "outputs": [
    {
     "data": {
      "text/plain": [
       "np.int64(50)"
      ]
     },
     "execution_count": 18,
     "metadata": {},
     "output_type": "execute_result"
    },
    {
     "data": {
      "text/plain": [
       "np.float64(51.17615171500372)"
      ]
     },
     "execution_count": 18,
     "metadata": {},
     "output_type": "execute_result"
    },
    {
     "data": {
      "text/plain": [
       "np.float64(7.153750884326607)"
      ]
     },
     "execution_count": 18,
     "metadata": {},
     "output_type": "execute_result"
    }
   ],
   "source": [
    "# Calculate spread statistics for years_code_pro\n",
    "\n",
    "# Range\n",
    "data_dev_survey.years_code_pro.max() - data_dev_survey.years_code_pro.min()\n",
    "\n",
    "# Variance\n",
    "data_dev_survey.years_code_pro.var()\n",
    "\n",
    "# Standard deviation\n",
    "data_dev_survey.years_code_pro.std()"
   ]
  },
  {
   "cell_type": "code",
   "execution_count": 20,
   "id": "3dbeaa91-32f0-47fd-ba6c-ba450476e787",
   "metadata": {},
   "outputs": [
    {
     "data": {
      "text/plain": [
       "np.float64(0.0)"
      ]
     },
     "execution_count": 20,
     "metadata": {},
     "output_type": "execute_result"
    },
    {
     "data": {
      "text/plain": [
       "np.float64(3.0)"
      ]
     },
     "execution_count": 20,
     "metadata": {},
     "output_type": "execute_result"
    },
    {
     "data": {
      "text/plain": [
       "np.float64(6.0)"
      ]
     },
     "execution_count": 20,
     "metadata": {},
     "output_type": "execute_result"
    },
    {
     "data": {
      "text/plain": [
       "np.float64(10.0)"
      ]
     },
     "execution_count": 20,
     "metadata": {},
     "output_type": "execute_result"
    },
    {
     "data": {
      "text/plain": [
       "np.float64(50.0)"
      ]
     },
     "execution_count": 20,
     "metadata": {},
     "output_type": "execute_result"
    }
   ],
   "source": [
    "# Calculate the five-number summary for years_code_pro\n",
    "data_dev_survey.years_code_pro.quantile(0) #min()\n",
    "data_dev_survey.years_code_pro.quantile(0.25)\n",
    "data_dev_survey.years_code_pro.quantile(0.50) # median()\n",
    "data_dev_survey.years_code_pro.quantile(0.75)\n",
    "data_dev_survey.years_code_pro.quantile(1) #max()\n",
    "\n",
    "# Print them out"
   ]
  },
  {
   "cell_type": "markdown",
   "id": "7a72aca0-689d-47fe-8c5e-0f8f96280670",
   "metadata": {},
   "source": [
    "## Exercise 1.2: Data Summarizing"
   ]
  },
  {
   "cell_type": "code",
   "execution_count": null,
   "id": "f906888a-83d4-454b-a763-2c4f12bdf1f8",
   "metadata": {},
   "outputs": [],
   "source": [
    "# Calculate center statistics for aroma"
   ]
  },
  {
   "cell_type": "code",
   "execution_count": null,
   "id": "a135e190-32f2-4c4c-b59e-20ffce0dacc8",
   "metadata": {},
   "outputs": [],
   "source": [
    "# Calculate spread statistics for aroma"
   ]
  },
  {
   "cell_type": "code",
   "execution_count": null,
   "id": "90575748-8c7f-4560-9f3c-1df23978fa1e",
   "metadata": {},
   "outputs": [],
   "source": [
    "# Calculate the five-number summary for aroma"
   ]
  },
  {
   "cell_type": "markdown",
   "id": "7a32b4fc-8b44-4678-b07a-82e67070ffca",
   "metadata": {},
   "source": [
    "------------------------------------------------------------------------\n",
    "\n",
    "## Walkthrough 1.3: Cleaning and Preparing Data with Pandas"
   ]
  },
  {
   "cell_type": "code",
   "execution_count": 26,
   "id": "f5781638-9192-4ab3-98d8-c1a1b5bfb464",
   "metadata": {},
   "outputs": [
    {
     "data": {
      "image/png": "[encoded data removed]",
      "text/plain": [
       "<Figure size 1000x300 with 1 Axes>"
      ]
     },
     "metadata": {},
     "output_type": "display_data"
    }
   ],
   "source": [
    "# Histogram for years_code_pro\n",
    "plt.figure(figsize=(10, 3))\n",
    "sns.histplot(data_dev_survey.years_code_pro);\n",
    "plt.title('Histogram of Years of Professional Coding Experience');\n",
    "plt.xlabel('Years of Professional Coding Experience');\n",
    "plt.ylabel('Frequency');\n",
    "plt.show();"
   ]
  },
  {
   "cell_type": "code",
   "execution_count": 27,
   "id": "8292735e-b825-44ee-ae37-be91c843a570",
   "metadata": {},
   "outputs": [],
   "source": [
    "# Set the default figure size for all plots\n",
    "plt.rcParams['figure.figsize'] = (10, 3)"
   ]
  },
  {
   "cell_type": "code",
   "execution_count": 29,
   "id": "9ab6f1e4-c497-4370-a4f0-d0e141334441",
   "metadata": {},
   "outputs": [
    {
     "data": {
      "image/png": "[encoded data removed]",
      "text/plain": [
       "<Figure size 1000x300 with 1 Axes>"
      ]
     },
     "metadata": {},
     "output_type": "display_data"
    }
   ],
   "source": [
    "# Box plot for work_exp\n",
    "# Vertical\n",
    "sns.boxplot(y=data_dev_survey.work_exp);\n",
    "\n",
    "# Horizontal\n",
    "sns.boxplot(x=data_dev_survey.work_exp);"
   ]
  },
  {
   "cell_type": "code",
   "execution_count": 31,
   "id": "7a23d2fa-4000-4b80-b972-77a2219f9d29",
   "metadata": {},
   "outputs": [
    {
     "data": {
      "image/png": "[encoded data removed]",
      "text/plain": [
       "<Figure size 1000x300 with 1 Axes>"
      ]
     },
     "metadata": {},
     "output_type": "display_data"
    }
   ],
   "source": [
    "# Scatter plot for years_code_pro vs. converted_comp_yearly\n",
    "#sns.scatterplot(x=data_dev_survey.years_code_pro,\n",
    "#                y=data_dev_survey.converted_comp_yearly);\n",
    "sns.scatterplot(x='years_code_pro', y='converted_comp_yearly', data=data_dev_survey);"
   ]
  },
  {
   "cell_type": "markdown",
   "id": "cb44b335-375e-49ad-843d-471aabea672b",
   "metadata": {},
   "source": [
    "## Exercise 1.3: Data Visualization"
   ]
  },
  {
   "cell_type": "code",
   "execution_count": null,
   "id": "15431cc8-4e02-41df-a0e1-2a914290866a",
   "metadata": {},
   "outputs": [],
   "source": [
    "# Histogram for acidity"
   ]
  },
  {
   "cell_type": "code",
   "execution_count": null,
   "id": "6a2207af-d3e4-4d82-87b4-a924d0cc3e1c",
   "metadata": {},
   "outputs": [],
   "source": [
    "# Box plot for body"
   ]
  },
  {
   "cell_type": "code",
   "execution_count": null,
   "id": "6d74a93a-7c70-4c67-a9d2-4e0495a6f209",
   "metadata": {},
   "outputs": [],
   "source": [
    "# Scatter plot for body vs. acidity"
   ]
  },
  {
   "cell_type": "markdown",
   "id": "ac9ebae7-abc3-40fd-b097-e2f874f0425b",
   "metadata": {},
   "source": [
    "------------------------------------------------------------------------\n",
    "\n",
    "## Walkthrough 1.4: Sampling Distribution Generation"
   ]
  },
  {
   "cell_type": "code",
   "execution_count": 39,
   "id": "50a71023-c027-44ba-bba8-3b60500c8b2e",
   "metadata": {},
   "outputs": [
    {
     "data": {
      "text/plain": [
       "array([  3237,  52046,  74963, ...,  14294, 175000, 201000])"
      ]
     },
     "execution_count": 39,
     "metadata": {},
     "output_type": "execute_result"
    }
   ],
   "source": [
    "# Think of our data as a population to draw from\n",
    "population = data_dev_survey.converted_comp_yearly.dropna().values\n",
    "population\n",
    "\n",
    "# Generate a large sample from the converted_comp_yearly column\n",
    "# Parameters\n",
    "sample_size = 5\n",
    "num_samples = 10000\n",
    "\n",
    "# Set a seed to make code reproducible\n",
    "np.random.seed(2025)\n",
    "\n",
    "# Simulate sampling distribution of the mean\n",
    "sample_means = []\n",
    "for _ in range(num_samples):\n",
    "    sample = np.random.choice(population, sample_size)\n",
    "    mean_of_sample = np.mean(sample)\n",
    "    sample_means.append(mean_of_sample)\n",
    "\n",
    "# Plot the sampling distribution of the sample means\n"
   ]
  },
  {
   "cell_type": "code",
   "execution_count": 40,
   "id": "f5c4da9d-e98c-42b7-9d26-32779ff04941",
   "metadata": {},
   "outputs": [
    {
     "data": {
      "image/png": "[encoded data removed]",
      "text/plain": [
       "<Figure size 1000x300 with 1 Axes>"
      ]
     },
     "metadata": {},
     "output_type": "display_data"
    }
   ],
   "source": [
    "plt.hist(sample_means, bins=100, edgecolor='black');"
   ]
  },
  {
   "cell_type": "markdown",
   "id": "d37a15d3-9289-4c6e-8492-a2b7e9a45c60",
   "metadata": {},
   "source": [
    "## Exercise 1.4: Sampling Distribution Generation"
   ]
  },
  {
   "cell_type": "code",
   "execution_count": null,
   "id": "f268cf35-dae7-4876-8b43-eec56578bc91",
   "metadata": {},
   "outputs": [],
   "source": [
    "# Think of our aroma data as a population to draw from\n",
    "\n",
    "# Parameters\n",
    "\n",
    "\n",
    "\n",
    "# Set random seed\n",
    "\n",
    "\n",
    "# Simulate sampling distribution of the mean\n",
    "\n",
    "\n",
    "\n",
    "# Plot the sampling distribution of the sample means"
   ]
  },
  {
   "cell_type": "markdown",
   "id": "be7db761-b3e5-4e15-b099-ca928bbc7ae0",
   "metadata": {},
   "source": [
    "------------------------------------------------------------------------\n",
    "\n",
    "# Week 2\n",
    "\n",
    "## Walkthrough 2.1: Advanced Plots"
   ]
  },
  {
   "cell_type": "code",
   "execution_count": 13,
   "id": "0b694a7d-6c08-4757-a610-ab0d5f2ee0a1",
   "metadata": {},
   "outputs": [
    {
     "data": {
      "image/png": "[encoded data removed]",
      "text/plain": [
       "<Figure size 1000x500 with 2 Axes>"
      ]
     },
     "metadata": {},
     "output_type": "display_data"
    }
   ],
   "source": [
    "# Select only numeric columns\n",
    "numeric_columns = data_dev_survey.select_dtypes(include=[np.number])\n",
    "# numeric_columns\n",
    "\n",
    "# Calculate the correlation matrix for numeric columns\n",
    "correlation_matrix = numeric_columns.corr()\n",
    "# correlation_matrix\n",
    "\n",
    "# Heatmap for correlation matrix\n",
    "plt.figure(figsize=(10, 5))\n",
    "sns.heatmap(correlation_matrix, cmap='coolwarm', annot=True, fmt='.2f')\n",
    "plt.title('Heatmap of the Correlation Matrix of the Data Developer Survey')\n",
    "plt.show();"
   ]
  },
  {
   "cell_type": "code",
   "execution_count": 16,
   "id": "cd5cdfbd-bcba-41b2-8128-ad8b413357c9",
   "metadata": {},
   "outputs": [
    {
     "data": {
      "image/png": "[encoded data removed]",
      "text/plain": [
       "<Figure size 750x750 with 12 Axes>"
      ]
     },
     "metadata": {},
     "output_type": "display_data"
    }
   ],
   "source": [
    "# Pair plot for selected variables years_code_pro, work_exp, converted_comp_yearly\n",
    "sns.pairplot(data_dev_survey,\n",
    "             vars=['years_code_pro', 'work_exp', 'converted_comp_yearly'])\n",
    "plt.suptitle('Pair Plot of Selected Variables', y=1)\n",
    "plt.show();"
   ]
  },
  {
   "cell_type": "code",
   "execution_count": 21,
   "id": "1f81de44-a08d-4abb-bdbd-d2afc82deb53",
   "metadata": {},
   "outputs": [
    {
     "data": {
      "image/png": "[encoded data removed]",
      "text/plain": [
       "<Figure size 640x480 with 1 Axes>"
      ]
     },
     "metadata": {},
     "output_type": "display_data"
    }
   ],
   "source": [
    "# Time series plot\n",
    "\n",
    "# Making sure survey_completion_date is stored as datetime format\n",
    "data_dev_survey['survey_completion_date'] = \\\n",
    "    pd.to_datetime(data_dev_survey['survey_completion_date'])\n",
    "\n",
    "# Count the number of surveys completed each day\n",
    "daily_counts = data_dev_survey['survey_completion_date'] \\\n",
    "    .value_counts() \\\n",
    "    .sort_index()\n",
    "\n",
    "# Plot the counts as a line chart\n",
    "plt.plot(daily_counts.index, daily_counts.values, marker='o')\n",
    "plt.xticks(rotation=90)\n",
    "plt.show();"
   ]
  },
  {
   "cell_type": "markdown",
   "id": "8765f1cc-4738-49d8-8524-0f128cf864b2",
   "metadata": {},
   "source": [
    "## Exercise 2.1: Advanced Plots"
   ]
  },
  {
   "cell_type": "code",
   "execution_count": null,
   "id": "000cfd27-4251-4df4-b194-9a491dd4d7e5",
   "metadata": {},
   "outputs": [],
   "source": [
    "# Select only numeric columns\n",
    "\n",
    "# Drop the clean_cup and sweetness columns since they are always 10\n",
    "numeric_columns = numeric_columns.drop(columns=['clean_cup', 'sweetness'], errors='ignore')\n",
    "\n",
    "# Calculate the correlation matrix for numeric columns\n",
    "\n",
    "\n",
    "# Heatmap for correlation matrix"
   ]
  },
  {
   "cell_type": "code",
   "execution_count": null,
   "id": "7ee0fc79-9db1-42ce-bfa3-212d988ab570",
   "metadata": {},
   "outputs": [],
   "source": [
    "# Pair plot for selected variables ['aroma', 'acidity', 'body']"
   ]
  },
  {
   "cell_type": "code",
   "execution_count": null,
   "id": "364f97bf-0fea-437c-ad3b-9d8a4c5dc6b8",
   "metadata": {},
   "outputs": [],
   "source": [
    "# Plot the mean total_cup_points for each grading_date\n",
    "\n",
    "# Convert to datetime\n",
    "\n",
    "# Extract the month and year from the grading_date column\n",
    "coffee_quality['month'] = coffee_quality['grading_date'].dt.to_period('M')\n",
    "\n",
    "# Aggregate the mean total_cup_points by month\n",
    "\n",
    "# Plot the mean total_cup_points by month as a line chart"
   ]
  },
  {
   "cell_type": "markdown",
   "id": "72601908-25af-4b04-bf98-76832bddbd6a",
   "metadata": {},
   "source": [
    "------------------------------------------------------------------------\n",
    "\n",
    "## Walkthrough 2.2: EDA\n",
    "\n",
    "### Data Cleaning"
   ]
  },
  {
   "cell_type": "code",
   "execution_count": 23,
   "id": "840fb0e3-e2ae-4f59-b9ce-61fc30c0c1b4",
   "metadata": {},
   "outputs": [
    {
     "data": {
      "text/plain": [
       "response_id                     0\n",
       "work_as_dev                     0\n",
       "age                             0\n",
       "employment                      0\n",
       "remote_work                     0\n",
       "coding_activities               1\n",
       "ed_level                        0\n",
       "dev_type                        0\n",
       "years_code                      1\n",
       "years_code_pro                  0\n",
       "org_size                        0\n",
       "country                         0\n",
       "language_have_worked_with       0\n",
       "language_want_to_work_with     67\n",
       "op_sys_professional_use        73\n",
       "ai_view                         0\n",
       "ai_trust                        0\n",
       "ic_or_manager                   0\n",
       "work_exp                        0\n",
       "industry                      234\n",
       "us_or_not                       0\n",
       "plans_to_use_ai                 0\n",
       "converted_comp_yearly           0\n",
       "survey_completion_date          0\n",
       "dtype: int64"
      ]
     },
     "execution_count": 23,
     "metadata": {},
     "output_type": "execute_result"
    },
    {
     "name": "stdout",
     "output_type": "stream",
     "text": [
      "<class 'pandas.core.frame.DataFrame'>\n",
      "RangeIndex: 1183 entries, 0 to 1182\n",
      "Data columns (total 24 columns):\n",
      " #   Column                      Non-Null Count  Dtype         \n",
      "---  ------                      --------------  -----         \n",
      " 0   response_id                 1183 non-null   int64         \n",
      " 1   work_as_dev                 1183 non-null   object        \n",
      " 2   age                         1183 non-null   object        \n",
      " 3   employment                  1183 non-null   object        \n",
      " 4   remote_work                 1183 non-null   object        \n",
      " 5   coding_activities           1182 non-null   object        \n",
      " 6   ed_level                    1183 non-null   object        \n",
      " 7   dev_type                    1183 non-null   object        \n",
      " 8   years_code                  1182 non-null   float64       \n",
      " 9   years_code_pro              1183 non-null   int64         \n",
      " 10  org_size                    1183 non-null   object        \n",
      " 11  country                     1183 non-null   object        \n",
      " 12  language_have_worked_with   1183 non-null   object        \n",
      " 13  language_want_to_work_with  1116 non-null   object        \n",
      " 14  op_sys_professional_use     1110 non-null   object        \n",
      " 15  ai_view                     1183 non-null   object        \n",
      " 16  ai_trust                    1183 non-null   object        \n",
      " 17  ic_or_manager               1183 non-null   object        \n",
      " 18  work_exp                    1183 non-null   int64         \n",
      " 19  industry                    949 non-null    object        \n",
      " 20  us_or_not                   1183 non-null   object        \n",
      " 21  plans_to_use_ai             1183 non-null   object        \n",
      " 22  converted_comp_yearly       1183 non-null   int64         \n",
      " 23  survey_completion_date      1183 non-null   datetime64[ns]\n",
      "dtypes: datetime64[ns](1), float64(1), int64(4), object(18)\n",
      "memory usage: 221.9+ KB\n",
      "<class 'pandas.core.frame.DataFrame'>\n",
      "RangeIndex: 1183 entries, 0 to 1182\n",
      "Data columns (total 24 columns):\n",
      " #   Column                      Non-Null Count  Dtype         \n",
      "---  ------                      --------------  -----         \n",
      " 0   response_id                 1183 non-null   int64         \n",
      " 1   work_as_dev                 1183 non-null   object        \n",
      " 2   age                         1183 non-null   object        \n",
      " 3   employment                  1183 non-null   object        \n",
      " 4   remote_work                 1183 non-null   object        \n",
      " 5   coding_activities           1182 non-null   object        \n",
      " 6   ed_level                    1183 non-null   object        \n",
      " 7   dev_type                    1183 non-null   object        \n",
      " 8   years_code                  1182 non-null   float64       \n",
      " 9   years_code_pro              1183 non-null   int64         \n",
      " 10  org_size                    1183 non-null   object        \n",
      " 11  country                     1183 non-null   object        \n",
      " 12  language_have_worked_with   1183 non-null   object        \n",
      " 13  language_want_to_work_with  1116 non-null   object        \n",
      " 14  op_sys_professional_use     1110 non-null   object        \n",
      " 15  ai_view                     1183 non-null   object        \n",
      " 16  ai_trust                    1183 non-null   object        \n",
      " 17  ic_or_manager               1183 non-null   object        \n",
      " 18  work_exp                    1183 non-null   int64         \n",
      " 19  industry                    949 non-null    object        \n",
      " 20  us_or_not                   1183 non-null   object        \n",
      " 21  plans_to_use_ai             1183 non-null   object        \n",
      " 22  converted_comp_yearly       1183 non-null   int64         \n",
      " 23  survey_completion_date      1183 non-null   datetime64[ns]\n",
      "dtypes: datetime64[ns](1), float64(1), int64(4), object(18)\n",
      "memory usage: 221.9+ KB\n"
     ]
    }
   ],
   "source": [
    "# Check for missing values\n",
    "data_dev_survey.isnull().sum()\n",
    "\n",
    "# Remove duplicates if any\n",
    "test = data_dev_survey.drop_duplicates()\n",
    "test.info()\n",
    "data_dev_survey.info()"
   ]
  },
  {
   "cell_type": "markdown",
   "id": "cc6373e3-ee94-4037-8f90-08927dc71cef",
   "metadata": {},
   "source": [
    "### Data Visualization"
   ]
  },
  {
   "cell_type": "code",
   "execution_count": 26,
   "id": "5258acf5-92e6-4f31-b743-5160b34abcf6",
   "metadata": {},
   "outputs": [
    {
     "data": {
      "image/png": "[encoded data removed]",
      "text/plain": [
       "<Figure size 640x480 with 1 Axes>"
      ]
     },
     "metadata": {},
     "output_type": "display_data"
    },
    {
     "data": {
      "image/png": "[encoded data removed]",
      "text/plain": [
       "<Figure size 640x480 with 1 Axes>"
      ]
     },
     "metadata": {},
     "output_type": "display_data"
    },
    {
     "data": {
      "image/png": "[encoded data removed]",
      "text/plain": [
       "<Figure size 640x480 with 1 Axes>"
      ]
     },
     "metadata": {},
     "output_type": "display_data"
    }
   ],
   "source": [
    "# Histogram for years_code_pro\n",
    "sns.histplot(data_dev_survey.years_code_pro)\n",
    "plt.show();\n",
    "\n",
    "# Box plot for work_exp\n",
    "sns.boxplot(x=data_dev_survey.work_exp)\n",
    "plt.show();\n",
    "\n",
    "# Scatter plot for years_code_pro vs. converted_comp_yearly\n",
    "sns.scatterplot(x=data_dev_survey.years_code_pro,\n",
    "                y=data_dev_survey.converted_comp_yearly)\n",
    "plt.show();"
   ]
  },
  {
   "cell_type": "markdown",
   "id": "611383d8-b27a-44eb-ba45-3d3370e2323c",
   "metadata": {},
   "source": [
    "### Summary Statistics"
   ]
  },
  {
   "cell_type": "code",
   "execution_count": 27,
   "id": "be757b15-743c-43ce-8295-f53175541e2f",
   "metadata": {},
   "outputs": [
    {
     "data": {
      "text/html": [
       "<div>\n",
       "<style scoped>\n",
       "    .dataframe tbody tr th:only-of-type {\n",
       "        vertical-align: middle;\n",
       "    }\n",
       "\n",
       "    .dataframe tbody tr th {\n",
       "        vertical-align: top;\n",
       "    }\n",
       "\n",
       "    .dataframe thead th {\n",
       "        text-align: right;\n",
       "    }\n",
       "</style>\n",
       "<table border=\"1\" class=\"dataframe\">\n",
       "  <thead>\n",
       "    <tr style=\"text-align: right;\">\n",
       "      <th></th>\n",
       "      <th>response_id</th>\n",
       "      <th>years_code</th>\n",
       "      <th>years_code_pro</th>\n",
       "      <th>work_exp</th>\n",
       "      <th>converted_comp_yearly</th>\n",
       "      <th>survey_completion_date</th>\n",
       "    </tr>\n",
       "  </thead>\n",
       "  <tbody>\n",
       "    <tr>\n",
       "      <th>count</th>\n",
       "      <td>1183.000000</td>\n",
       "      <td>1182.000000</td>\n",
       "      <td>1183.000000</td>\n",
       "      <td>1183.000000</td>\n",
       "      <td>1.183000e+03</td>\n",
       "      <td>1183</td>\n",
       "    </tr>\n",
       "    <tr>\n",
       "      <th>mean</th>\n",
       "      <td>43949.774303</td>\n",
       "      <td>12.534687</td>\n",
       "      <td>7.961116</td>\n",
       "      <td>9.650042</td>\n",
       "      <td>9.068442e+04</td>\n",
       "      <td>2023-05-15 19:40:43.617920512</td>\n",
       "    </tr>\n",
       "    <tr>\n",
       "      <th>min</th>\n",
       "      <td>164.000000</td>\n",
       "      <td>1.000000</td>\n",
       "      <td>0.000000</td>\n",
       "      <td>0.000000</td>\n",
       "      <td>3.000000e+00</td>\n",
       "      <td>2023-05-01 00:00:00</td>\n",
       "    </tr>\n",
       "    <tr>\n",
       "      <th>25%</th>\n",
       "      <td>22733.000000</td>\n",
       "      <td>7.000000</td>\n",
       "      <td>3.000000</td>\n",
       "      <td>4.000000</td>\n",
       "      <td>4.159300e+04</td>\n",
       "      <td>2023-05-08 00:00:00</td>\n",
       "    </tr>\n",
       "    <tr>\n",
       "      <th>50%</th>\n",
       "      <td>43305.000000</td>\n",
       "      <td>10.000000</td>\n",
       "      <td>6.000000</td>\n",
       "      <td>7.000000</td>\n",
       "      <td>7.271400e+04</td>\n",
       "      <td>2023-05-16 00:00:00</td>\n",
       "    </tr>\n",
       "    <tr>\n",
       "      <th>75%</th>\n",
       "      <td>65791.000000</td>\n",
       "      <td>16.000000</td>\n",
       "      <td>10.000000</td>\n",
       "      <td>13.000000</td>\n",
       "      <td>1.200000e+05</td>\n",
       "      <td>2023-05-24 00:00:00</td>\n",
       "    </tr>\n",
       "    <tr>\n",
       "      <th>max</th>\n",
       "      <td>89072.000000</td>\n",
       "      <td>50.000000</td>\n",
       "      <td>50.000000</td>\n",
       "      <td>48.000000</td>\n",
       "      <td>1.200000e+06</td>\n",
       "      <td>2023-05-31 00:00:00</td>\n",
       "    </tr>\n",
       "    <tr>\n",
       "      <th>std</th>\n",
       "      <td>25327.979423</td>\n",
       "      <td>8.384094</td>\n",
       "      <td>7.153751</td>\n",
       "      <td>8.189750</td>\n",
       "      <td>8.189586e+04</td>\n",
       "      <td>NaN</td>\n",
       "    </tr>\n",
       "  </tbody>\n",
       "</table>\n",
       "</div>"
      ],
      "text/plain": [
       "        response_id   years_code  years_code_pro     work_exp  \\\n",
       "count   1183.000000  1182.000000     1183.000000  1183.000000   \n",
       "mean   43949.774303    12.534687        7.961116     9.650042   \n",
       "min      164.000000     1.000000        0.000000     0.000000   \n",
       "25%    22733.000000     7.000000        3.000000     4.000000   \n",
       "50%    43305.000000    10.000000        6.000000     7.000000   \n",
       "75%    65791.000000    16.000000       10.000000    13.000000   \n",
       "max    89072.000000    50.000000       50.000000    48.000000   \n",
       "std    25327.979423     8.384094        7.153751     8.189750   \n",
       "\n",
       "       converted_comp_yearly         survey_completion_date  \n",
       "count           1.183000e+03                           1183  \n",
       "mean            9.068442e+04  2023-05-15 19:40:43.617920512  \n",
       "min             3.000000e+00            2023-05-01 00:00:00  \n",
       "25%             4.159300e+04            2023-05-08 00:00:00  \n",
       "50%             7.271400e+04            2023-05-16 00:00:00  \n",
       "75%             1.200000e+05            2023-05-24 00:00:00  \n",
       "max             1.200000e+06            2023-05-31 00:00:00  \n",
       "std             8.189586e+04                            NaN  "
      ]
     },
     "execution_count": 27,
     "metadata": {},
     "output_type": "execute_result"
    }
   ],
   "source": [
    "# Calculate summary statistics\n",
    "data_dev_survey.describe()"
   ]
  },
  {
   "cell_type": "markdown",
   "id": "b095fefc-44d3-4247-a618-82ff639134de",
   "metadata": {},
   "source": [
    "## Exercise 2.2: EDA\n",
    "\n",
    "### Data Cleaning"
   ]
  },
  {
   "cell_type": "code",
   "execution_count": 29,
   "id": "d020cd59-9f1e-4779-bca3-6f6e7918d69d",
   "metadata": {},
   "outputs": [
    {
     "data": {
      "text/plain": [
       "Index(['country_of_origin', 'continent_of_origin', 'farm_name', 'lot_number',\n",
       "       'mill', 'company', 'altitude', 'region', 'producer',\n",
       "       'in_country_partner', 'harvest_year', 'grading_date', 'owner',\n",
       "       'variety', 'processing_method', 'aroma', 'flavor', 'aftertaste',\n",
       "       'acidity', 'body', 'balance', 'uniformity', 'overall',\n",
       "       'total_cup_points', 'moisture_percentage', 'color', 'expiration',\n",
       "       'certification_body'],\n",
       "      dtype='object')"
      ]
     },
     "execution_count": 29,
     "metadata": {},
     "output_type": "execute_result"
    }
   ],
   "source": [
    "# To drop columns that are all the same value\n",
    "coffee_quality_dropped = coffee_quality.loc[:, coffee_quality.nunique() > 1]\n",
    "coffee_quality_dropped.columns"
   ]
  },
  {
   "cell_type": "code",
   "execution_count": 30,
   "id": "2f6d16ad-a772-4f2b-b063-54559e168c3e",
   "metadata": {},
   "outputs": [
    {
     "data": {
      "text/plain": [
       "Index(['country_of_origin', 'continent_of_origin', 'farm_name', 'lot_number',\n",
       "       'mill', 'company', 'altitude', 'region', 'producer',\n",
       "       'in_country_partner', 'harvest_year', 'grading_date', 'owner',\n",
       "       'variety', 'processing_method', 'aroma', 'flavor', 'aftertaste',\n",
       "       'acidity', 'body', 'balance', 'uniformity', 'clean_cup', 'sweetness',\n",
       "       'overall', 'total_cup_points', 'moisture_percentage', 'color',\n",
       "       'expiration', 'certification_body'],\n",
       "      dtype='object')"
      ]
     },
     "execution_count": 30,
     "metadata": {},
     "output_type": "execute_result"
    }
   ],
   "source": [
    "coffee_quality.columns"
   ]
  },
  {
   "cell_type": "code",
   "execution_count": null,
   "id": "c67803ee-11de-4f25-ba05-ea556ff14e73",
   "metadata": {},
   "outputs": [],
   "source": [
    "# OR\n",
    "coffee_quality.drop(columns=coffee_quality.columns[coffee_quality.nunique() == 1])\n",
    "\n",
    "# Do it in-place\n",
    "coffee_quality.drop(\n",
    "    columns=coffee_quality.columns[coffee_quality.nunique() == 1],\n",
    "    inplace=True)"
   ]
  },
  {
   "cell_type": "code",
   "execution_count": null,
   "id": "eb054b00-691c-4e86-b7f1-4b9efac7f76c",
   "metadata": {},
   "outputs": [],
   "source": [
    "# Check for missing values\n",
    "\n",
    "\n",
    "# Remove duplicates if any"
   ]
  },
  {
   "cell_type": "markdown",
   "id": "5c8d7f3a-b594-4068-a765-8f89826c051e",
   "metadata": {},
   "source": [
    "### Data Visualization"
   ]
  },
  {
   "cell_type": "code",
   "execution_count": null,
   "id": "66896dff-52fb-4937-adba-1252bbfd1a82",
   "metadata": {},
   "outputs": [],
   "source": [
    "# Histogram for aroma\n",
    "\n",
    "\n",
    "# Box plot for acidity\n",
    "\n",
    "\n",
    "# Scatter plot for aroma vs. total_cup_points"
   ]
  },
  {
   "cell_type": "markdown",
   "id": "4cf1f85e-08f2-48e0-a658-d9aab35f0fff",
   "metadata": {},
   "source": [
    "### Summary Statistics"
   ]
  },
  {
   "cell_type": "code",
   "execution_count": null,
   "id": "13e4276f-498c-4fa6-9a2c-2a638633a1b3",
   "metadata": {},
   "outputs": [],
   "source": [
    "# Calculate summary statistics"
   ]
  },
  {
   "cell_type": "markdown",
   "id": "b06155fd-d393-4ec6-9d62-c326dc3c103d",
   "metadata": {},
   "source": [
    "------------------------------------------------------------------------\n",
    "\n",
    "## Walkthrough 2.3: Data Preprocessing\n",
    "\n",
    "### Inspect the Data after Loading"
   ]
  },
  {
   "cell_type": "code",
   "execution_count": 31,
   "id": "0e4de701-91e8-43c3-928e-5de8f2f09005",
   "metadata": {},
   "outputs": [
    {
     "name": "stdout",
     "output_type": "stream",
     "text": [
      "<class 'pandas.core.frame.DataFrame'>\n",
      "RangeIndex: 1183 entries, 0 to 1182\n",
      "Data columns (total 24 columns):\n",
      " #   Column                      Non-Null Count  Dtype         \n",
      "---  ------                      --------------  -----         \n",
      " 0   response_id                 1183 non-null   int64         \n",
      " 1   work_as_dev                 1183 non-null   object        \n",
      " 2   age                         1183 non-null   object        \n",
      " 3   employment                  1183 non-null   object        \n",
      " 4   remote_work                 1183 non-null   object        \n",
      " 5   coding_activities           1182 non-null   object        \n",
      " 6   ed_level                    1183 non-null   object        \n",
      " 7   dev_type                    1183 non-null   object        \n",
      " 8   years_code                  1182 non-null   float64       \n",
      " 9   years_code_pro              1183 non-null   int64         \n",
      " 10  org_size                    1183 non-null   object        \n",
      " 11  country                     1183 non-null   object        \n",
      " 12  language_have_worked_with   1183 non-null   object        \n",
      " 13  language_want_to_work_with  1116 non-null   object        \n",
      " 14  op_sys_professional_use     1110 non-null   object        \n",
      " 15  ai_view                     1183 non-null   object        \n",
      " 16  ai_trust                    1183 non-null   object        \n",
      " 17  ic_or_manager               1183 non-null   object        \n",
      " 18  work_exp                    1183 non-null   int64         \n",
      " 19  industry                    949 non-null    object        \n",
      " 20  us_or_not                   1183 non-null   object        \n",
      " 21  plans_to_use_ai             1183 non-null   object        \n",
      " 22  converted_comp_yearly       1183 non-null   int64         \n",
      " 23  survey_completion_date      1183 non-null   datetime64[ns]\n",
      "dtypes: datetime64[ns](1), float64(1), int64(4), object(18)\n",
      "memory usage: 221.9+ KB\n"
     ]
    },
    {
     "data": {
      "text/html": [
       "<div>\n",
       "<style scoped>\n",
       "    .dataframe tbody tr th:only-of-type {\n",
       "        vertical-align: middle;\n",
       "    }\n",
       "\n",
       "    .dataframe tbody tr th {\n",
       "        vertical-align: top;\n",
       "    }\n",
       "\n",
       "    .dataframe thead th {\n",
       "        text-align: right;\n",
       "    }\n",
       "</style>\n",
       "<table border=\"1\" class=\"dataframe\">\n",
       "  <thead>\n",
       "    <tr style=\"text-align: right;\">\n",
       "      <th></th>\n",
       "      <th>response_id</th>\n",
       "      <th>work_as_dev</th>\n",
       "      <th>age</th>\n",
       "      <th>employment</th>\n",
       "      <th>remote_work</th>\n",
       "      <th>coding_activities</th>\n",
       "      <th>ed_level</th>\n",
       "      <th>dev_type</th>\n",
       "      <th>years_code</th>\n",
       "      <th>years_code_pro</th>\n",
       "      <th>org_size</th>\n",
       "      <th>country</th>\n",
       "      <th>language_have_worked_with</th>\n",
       "      <th>language_want_to_work_with</th>\n",
       "      <th>op_sys_professional_use</th>\n",
       "      <th>ai_view</th>\n",
       "      <th>ai_trust</th>\n",
       "      <th>ic_or_manager</th>\n",
       "      <th>work_exp</th>\n",
       "      <th>industry</th>\n",
       "      <th>us_or_not</th>\n",
       "      <th>plans_to_use_ai</th>\n",
       "      <th>converted_comp_yearly</th>\n",
       "      <th>survey_completion_date</th>\n",
       "    </tr>\n",
       "  </thead>\n",
       "  <tbody>\n",
       "    <tr>\n",
       "      <th>0</th>\n",
       "      <td>164</td>\n",
       "      <td>I am a developer by profession</td>\n",
       "      <td>25-34 years old</td>\n",
       "      <td>Employed, full-time;Independent contractor, fr...</td>\n",
       "      <td>Remote</td>\n",
       "      <td>Hobby;Professional development or self-paced l...</td>\n",
       "      <td>Bachelor’s degree (B.A., B.S., B.Eng., etc.)</td>\n",
       "      <td>Engineer, data</td>\n",
       "      <td>14.0</td>\n",
       "      <td>10</td>\n",
       "      <td>1,000 to 4,999 employees</td>\n",
       "      <td>Romania</td>\n",
       "      <td>HTML/CSS;Java;JavaScript;R;SQL;VBA</td>\n",
       "      <td>PowerShell;Python;SQL</td>\n",
       "      <td>Ubuntu;Windows</td>\n",
       "      <td>Very favorable</td>\n",
       "      <td>Somewhat trust</td>\n",
       "      <td>Individual contributor</td>\n",
       "      <td>10</td>\n",
       "      <td>Information Services, IT, Software Development...</td>\n",
       "      <td>Not US</td>\n",
       "      <td>Using</td>\n",
       "      <td>3237</td>\n",
       "      <td>2023-05-02</td>\n",
       "    </tr>\n",
       "    <tr>\n",
       "      <th>1</th>\n",
       "      <td>165</td>\n",
       "      <td>I am a developer by profession</td>\n",
       "      <td>18-24 years old</td>\n",
       "      <td>Employed, full-time</td>\n",
       "      <td>Hybrid (some remote, some in-person)</td>\n",
       "      <td>Hobby;School or academic work</td>\n",
       "      <td>Bachelor’s degree (B.A., B.S., B.Eng., etc.)</td>\n",
       "      <td>Data scientist or machine learning specialist</td>\n",
       "      <td>7.0</td>\n",
       "      <td>5</td>\n",
       "      <td>10 to 19 employees</td>\n",
       "      <td>Canada</td>\n",
       "      <td>C;C++;HTML/CSS;JavaScript;Python;TypeScript</td>\n",
       "      <td>C;C++;Python</td>\n",
       "      <td>Ubuntu</td>\n",
       "      <td>Very favorable</td>\n",
       "      <td>Somewhat trust</td>\n",
       "      <td>Individual contributor</td>\n",
       "      <td>7</td>\n",
       "      <td>Information Services, IT, Software Development...</td>\n",
       "      <td>Not US</td>\n",
       "      <td>Using</td>\n",
       "      <td>52046</td>\n",
       "      <td>2023-05-05</td>\n",
       "    </tr>\n",
       "    <tr>\n",
       "      <th>2</th>\n",
       "      <td>190</td>\n",
       "      <td>I am a developer by profession</td>\n",
       "      <td>35-44 years old</td>\n",
       "      <td>Employed, full-time</td>\n",
       "      <td>Hybrid (some remote, some in-person)</td>\n",
       "      <td>Hobby;Professional development or self-paced l...</td>\n",
       "      <td>Professional degree (JD, MD, Ph.D, Ed.D, etc.)</td>\n",
       "      <td>Data scientist or machine learning specialist</td>\n",
       "      <td>8.0</td>\n",
       "      <td>8</td>\n",
       "      <td>500 to 999 employees</td>\n",
       "      <td>Cyprus</td>\n",
       "      <td>Bash/Shell (all shells);C#;HTML/CSS;MATLAB;Pyt...</td>\n",
       "      <td>Bash/Shell (all shells);HTML/CSS;Python;R;SQL</td>\n",
       "      <td>Ubuntu;Windows</td>\n",
       "      <td>Favorable</td>\n",
       "      <td>Somewhat trust</td>\n",
       "      <td>Individual contributor</td>\n",
       "      <td>16</td>\n",
       "      <td>Information Services, IT, Software Development...</td>\n",
       "      <td>Not US</td>\n",
       "      <td>Using</td>\n",
       "      <td>74963</td>\n",
       "      <td>2023-05-13</td>\n",
       "    </tr>\n",
       "    <tr>\n",
       "      <th>3</th>\n",
       "      <td>218</td>\n",
       "      <td>I am a developer by profession</td>\n",
       "      <td>35-44 years old</td>\n",
       "      <td>Employed, full-time</td>\n",
       "      <td>Hybrid (some remote, some in-person)</td>\n",
       "      <td>Professional development or self-paced learnin...</td>\n",
       "      <td>Some college/university study without earning ...</td>\n",
       "      <td>Database administrator</td>\n",
       "      <td>29.0</td>\n",
       "      <td>17</td>\n",
       "      <td>1,000 to 4,999 employees</td>\n",
       "      <td>Italy</td>\n",
       "      <td>Bash/Shell (all shells);Python;SQL</td>\n",
       "      <td>Bash/Shell (all shells);Python;SQL</td>\n",
       "      <td>Red Hat;Windows</td>\n",
       "      <td>Very favorable</td>\n",
       "      <td>Somewhat trust</td>\n",
       "      <td>Individual contributor</td>\n",
       "      <td>17</td>\n",
       "      <td>Wholesale</td>\n",
       "      <td>Not US</td>\n",
       "      <td>Plan to use</td>\n",
       "      <td>56757</td>\n",
       "      <td>2023-05-28</td>\n",
       "    </tr>\n",
       "    <tr>\n",
       "      <th>4</th>\n",
       "      <td>220</td>\n",
       "      <td>I am a developer by profession</td>\n",
       "      <td>25-34 years old</td>\n",
       "      <td>Employed, full-time;Independent contractor, fr...</td>\n",
       "      <td>Hybrid (some remote, some in-person)</td>\n",
       "      <td>Hobby;Contribute to open-source projects;Profe...</td>\n",
       "      <td>Bachelor’s degree (B.A., B.S., B.Eng., etc.)</td>\n",
       "      <td>Engineer, data</td>\n",
       "      <td>7.0</td>\n",
       "      <td>6</td>\n",
       "      <td>2 to 9 employees</td>\n",
       "      <td>Netherlands</td>\n",
       "      <td>Bash/Shell (all shells);HTML/CSS;JavaScript;Py...</td>\n",
       "      <td>Bash/Shell (all shells);HTML/CSS;JavaScript;Py...</td>\n",
       "      <td>MacOS;Windows</td>\n",
       "      <td>Favorable</td>\n",
       "      <td>Somewhat trust</td>\n",
       "      <td>Individual contributor</td>\n",
       "      <td>7</td>\n",
       "      <td>NaN</td>\n",
       "      <td>Not US</td>\n",
       "      <td>Using</td>\n",
       "      <td>74963</td>\n",
       "      <td>2023-05-31</td>\n",
       "    </tr>\n",
       "    <tr>\n",
       "      <th>...</th>\n",
       "      <td>...</td>\n",
       "      <td>...</td>\n",
       "      <td>...</td>\n",
       "      <td>...</td>\n",
       "      <td>...</td>\n",
       "      <td>...</td>\n",
       "      <td>...</td>\n",
       "      <td>...</td>\n",
       "      <td>...</td>\n",
       "      <td>...</td>\n",
       "      <td>...</td>\n",
       "      <td>...</td>\n",
       "      <td>...</td>\n",
       "      <td>...</td>\n",
       "      <td>...</td>\n",
       "      <td>...</td>\n",
       "      <td>...</td>\n",
       "      <td>...</td>\n",
       "      <td>...</td>\n",
       "      <td>...</td>\n",
       "      <td>...</td>\n",
       "      <td>...</td>\n",
       "      <td>...</td>\n",
       "      <td>...</td>\n",
       "    </tr>\n",
       "    <tr>\n",
       "      <th>1178</th>\n",
       "      <td>88680</td>\n",
       "      <td>I am a developer by profession</td>\n",
       "      <td>25-34 years old</td>\n",
       "      <td>Employed, full-time</td>\n",
       "      <td>Hybrid (some remote, some in-person)</td>\n",
       "      <td>Hobby;Professional development or self-paced l...</td>\n",
       "      <td>Bachelor’s degree (B.A., B.S., B.Eng., etc.)</td>\n",
       "      <td>Data scientist or machine learning specialist</td>\n",
       "      <td>6.0</td>\n",
       "      <td>2</td>\n",
       "      <td>100 to 499 employees</td>\n",
       "      <td>Serbia</td>\n",
       "      <td>Python;SQL</td>\n",
       "      <td>Python;SQL</td>\n",
       "      <td>MacOS</td>\n",
       "      <td>Favorable</td>\n",
       "      <td>Neither trust nor distrust</td>\n",
       "      <td>Individual contributor</td>\n",
       "      <td>3</td>\n",
       "      <td>Other</td>\n",
       "      <td>Not US</td>\n",
       "      <td>Using</td>\n",
       "      <td>183</td>\n",
       "      <td>2023-05-13</td>\n",
       "    </tr>\n",
       "    <tr>\n",
       "      <th>1179</th>\n",
       "      <td>88736</td>\n",
       "      <td>I am a developer by profession</td>\n",
       "      <td>25-34 years old</td>\n",
       "      <td>Employed, full-time</td>\n",
       "      <td>Hybrid (some remote, some in-person)</td>\n",
       "      <td>Hobby;Professional development or self-paced l...</td>\n",
       "      <td>Bachelor’s degree (B.A., B.S., B.Eng., etc.)</td>\n",
       "      <td>Engineer, data</td>\n",
       "      <td>12.0</td>\n",
       "      <td>9</td>\n",
       "      <td>5,000 to 9,999 employees</td>\n",
       "      <td>Canada</td>\n",
       "      <td>Bash/Shell (all shells);C;C#;C++;HTML/CSS;Java...</td>\n",
       "      <td>C#;HTML/CSS;JavaScript;Python;Rust;SQL;TypeScript</td>\n",
       "      <td>Ubuntu;Windows;Windows Subsystem for Linux (WSL)</td>\n",
       "      <td>Favorable</td>\n",
       "      <td>Somewhat distrust</td>\n",
       "      <td>Individual contributor</td>\n",
       "      <td>8</td>\n",
       "      <td>Information Services, IT, Software Development...</td>\n",
       "      <td>Not US</td>\n",
       "      <td>Using</td>\n",
       "      <td>81787</td>\n",
       "      <td>2023-05-09</td>\n",
       "    </tr>\n",
       "    <tr>\n",
       "      <th>1180</th>\n",
       "      <td>88816</td>\n",
       "      <td>I am a developer by profession</td>\n",
       "      <td>25-34 years old</td>\n",
       "      <td>Employed, full-time</td>\n",
       "      <td>Hybrid (some remote, some in-person)</td>\n",
       "      <td>Hobby;Contribute to open-source projects;Profe...</td>\n",
       "      <td>Bachelor’s degree (B.A., B.S., B.Eng., etc.)</td>\n",
       "      <td>Engineer, data</td>\n",
       "      <td>5.0</td>\n",
       "      <td>2</td>\n",
       "      <td>10,000 or more employees</td>\n",
       "      <td>Viet Nam</td>\n",
       "      <td>Bash/Shell (all shells);Java;Python;SQL</td>\n",
       "      <td>Bash/Shell (all shells);C;Python;Rust;SQL</td>\n",
       "      <td>Other Linux-based;Windows;Windows Subsystem fo...</td>\n",
       "      <td>Very favorable</td>\n",
       "      <td>Somewhat distrust</td>\n",
       "      <td>Individual contributor</td>\n",
       "      <td>2</td>\n",
       "      <td>Information Services, IT, Software Development...</td>\n",
       "      <td>Not US</td>\n",
       "      <td>Using</td>\n",
       "      <td>14294</td>\n",
       "      <td>2023-05-17</td>\n",
       "    </tr>\n",
       "    <tr>\n",
       "      <th>1181</th>\n",
       "      <td>88819</td>\n",
       "      <td>I am a developer by profession</td>\n",
       "      <td>25-34 years old</td>\n",
       "      <td>Employed, full-time</td>\n",
       "      <td>Hybrid (some remote, some in-person)</td>\n",
       "      <td>Professional development or self-paced learnin...</td>\n",
       "      <td>Master’s degree (M.A., M.S., M.Eng., MBA, etc.)</td>\n",
       "      <td>Engineer, data</td>\n",
       "      <td>15.0</td>\n",
       "      <td>10</td>\n",
       "      <td>10,000 or more employees</td>\n",
       "      <td>United States of America</td>\n",
       "      <td>JavaScript;Python</td>\n",
       "      <td>JavaScript;Python;SQL</td>\n",
       "      <td>MacOS</td>\n",
       "      <td>Indifferent</td>\n",
       "      <td>Somewhat distrust</td>\n",
       "      <td>Individual contributor</td>\n",
       "      <td>11</td>\n",
       "      <td>Retail and Consumer Services</td>\n",
       "      <td>US</td>\n",
       "      <td>Using</td>\n",
       "      <td>175000</td>\n",
       "      <td>2023-05-01</td>\n",
       "    </tr>\n",
       "    <tr>\n",
       "      <th>1182</th>\n",
       "      <td>89072</td>\n",
       "      <td>I am not primarily a developer, but I write co...</td>\n",
       "      <td>55-64 years old</td>\n",
       "      <td>Employed, full-time;Independent contractor, fr...</td>\n",
       "      <td>Hybrid (some remote, some in-person)</td>\n",
       "      <td>Hobby;Professional development or self-paced l...</td>\n",
       "      <td>Master’s degree (M.A., M.S., M.Eng., MBA, etc.)</td>\n",
       "      <td>Data or business analyst</td>\n",
       "      <td>39.0</td>\n",
       "      <td>38</td>\n",
       "      <td>20 to 99 employees</td>\n",
       "      <td>United States of America</td>\n",
       "      <td>Python;SQL</td>\n",
       "      <td>Python;SQL</td>\n",
       "      <td>ChromeOS;Windows</td>\n",
       "      <td>Very favorable</td>\n",
       "      <td>Somewhat trust</td>\n",
       "      <td>Individual contributor</td>\n",
       "      <td>39</td>\n",
       "      <td>Information Services, IT, Software Development...</td>\n",
       "      <td>US</td>\n",
       "      <td>Using</td>\n",
       "      <td>201000</td>\n",
       "      <td>2023-05-29</td>\n",
       "    </tr>\n",
       "  </tbody>\n",
       "</table>\n",
       "<p>1183 rows × 24 columns</p>\n",
       "</div>"
      ],
      "text/plain": [
       "      response_id                                        work_as_dev  \\\n",
       "0             164                     I am a developer by profession   \n",
       "1             165                     I am a developer by profession   \n",
       "2             190                     I am a developer by profession   \n",
       "3             218                     I am a developer by profession   \n",
       "4             220                     I am a developer by profession   \n",
       "...           ...                                                ...   \n",
       "1178        88680                     I am a developer by profession   \n",
       "1179        88736                     I am a developer by profession   \n",
       "1180        88816                     I am a developer by profession   \n",
       "1181        88819                     I am a developer by profession   \n",
       "1182        89072  I am not primarily a developer, but I write co...   \n",
       "\n",
       "                  age                                         employment  \\\n",
       "0     25-34 years old  Employed, full-time;Independent contractor, fr...   \n",
       "1     18-24 years old                                Employed, full-time   \n",
       "2     35-44 years old                                Employed, full-time   \n",
       "3     35-44 years old                                Employed, full-time   \n",
       "4     25-34 years old  Employed, full-time;Independent contractor, fr...   \n",
       "...               ...                                                ...   \n",
       "1178  25-34 years old                                Employed, full-time   \n",
       "1179  25-34 years old                                Employed, full-time   \n",
       "1180  25-34 years old                                Employed, full-time   \n",
       "1181  25-34 years old                                Employed, full-time   \n",
       "1182  55-64 years old  Employed, full-time;Independent contractor, fr...   \n",
       "\n",
       "                               remote_work  \\\n",
       "0                                   Remote   \n",
       "1     Hybrid (some remote, some in-person)   \n",
       "2     Hybrid (some remote, some in-person)   \n",
       "3     Hybrid (some remote, some in-person)   \n",
       "4     Hybrid (some remote, some in-person)   \n",
       "...                                    ...   \n",
       "1178  Hybrid (some remote, some in-person)   \n",
       "1179  Hybrid (some remote, some in-person)   \n",
       "1180  Hybrid (some remote, some in-person)   \n",
       "1181  Hybrid (some remote, some in-person)   \n",
       "1182  Hybrid (some remote, some in-person)   \n",
       "\n",
       "                                      coding_activities  \\\n",
       "0     Hobby;Professional development or self-paced l...   \n",
       "1                         Hobby;School or academic work   \n",
       "2     Hobby;Professional development or self-paced l...   \n",
       "3     Professional development or self-paced learnin...   \n",
       "4     Hobby;Contribute to open-source projects;Profe...   \n",
       "...                                                 ...   \n",
       "1178  Hobby;Professional development or self-paced l...   \n",
       "1179  Hobby;Professional development or self-paced l...   \n",
       "1180  Hobby;Contribute to open-source projects;Profe...   \n",
       "1181  Professional development or self-paced learnin...   \n",
       "1182  Hobby;Professional development or self-paced l...   \n",
       "\n",
       "                                               ed_level  \\\n",
       "0          Bachelor’s degree (B.A., B.S., B.Eng., etc.)   \n",
       "1          Bachelor’s degree (B.A., B.S., B.Eng., etc.)   \n",
       "2        Professional degree (JD, MD, Ph.D, Ed.D, etc.)   \n",
       "3     Some college/university study without earning ...   \n",
       "4          Bachelor’s degree (B.A., B.S., B.Eng., etc.)   \n",
       "...                                                 ...   \n",
       "1178       Bachelor’s degree (B.A., B.S., B.Eng., etc.)   \n",
       "1179       Bachelor’s degree (B.A., B.S., B.Eng., etc.)   \n",
       "1180       Bachelor’s degree (B.A., B.S., B.Eng., etc.)   \n",
       "1181    Master’s degree (M.A., M.S., M.Eng., MBA, etc.)   \n",
       "1182    Master’s degree (M.A., M.S., M.Eng., MBA, etc.)   \n",
       "\n",
       "                                           dev_type  years_code  \\\n",
       "0                                    Engineer, data        14.0   \n",
       "1     Data scientist or machine learning specialist         7.0   \n",
       "2     Data scientist or machine learning specialist         8.0   \n",
       "3                            Database administrator        29.0   \n",
       "4                                    Engineer, data         7.0   \n",
       "...                                             ...         ...   \n",
       "1178  Data scientist or machine learning specialist         6.0   \n",
       "1179                                 Engineer, data        12.0   \n",
       "1180                                 Engineer, data         5.0   \n",
       "1181                                 Engineer, data        15.0   \n",
       "1182                       Data or business analyst        39.0   \n",
       "\n",
       "      years_code_pro                  org_size                   country  \\\n",
       "0                 10  1,000 to 4,999 employees                   Romania   \n",
       "1                  5        10 to 19 employees                    Canada   \n",
       "2                  8      500 to 999 employees                    Cyprus   \n",
       "3                 17  1,000 to 4,999 employees                     Italy   \n",
       "4                  6          2 to 9 employees               Netherlands   \n",
       "...              ...                       ...                       ...   \n",
       "1178               2      100 to 499 employees                    Serbia   \n",
       "1179               9  5,000 to 9,999 employees                    Canada   \n",
       "1180               2  10,000 or more employees                  Viet Nam   \n",
       "1181              10  10,000 or more employees  United States of America   \n",
       "1182              38        20 to 99 employees  United States of America   \n",
       "\n",
       "                              language_have_worked_with  \\\n",
       "0                    HTML/CSS;Java;JavaScript;R;SQL;VBA   \n",
       "1           C;C++;HTML/CSS;JavaScript;Python;TypeScript   \n",
       "2     Bash/Shell (all shells);C#;HTML/CSS;MATLAB;Pyt...   \n",
       "3                    Bash/Shell (all shells);Python;SQL   \n",
       "4     Bash/Shell (all shells);HTML/CSS;JavaScript;Py...   \n",
       "...                                                 ...   \n",
       "1178                                         Python;SQL   \n",
       "1179  Bash/Shell (all shells);C;C#;C++;HTML/CSS;Java...   \n",
       "1180            Bash/Shell (all shells);Java;Python;SQL   \n",
       "1181                                  JavaScript;Python   \n",
       "1182                                         Python;SQL   \n",
       "\n",
       "                             language_want_to_work_with  \\\n",
       "0                                 PowerShell;Python;SQL   \n",
       "1                                          C;C++;Python   \n",
       "2         Bash/Shell (all shells);HTML/CSS;Python;R;SQL   \n",
       "3                    Bash/Shell (all shells);Python;SQL   \n",
       "4     Bash/Shell (all shells);HTML/CSS;JavaScript;Py...   \n",
       "...                                                 ...   \n",
       "1178                                         Python;SQL   \n",
       "1179  C#;HTML/CSS;JavaScript;Python;Rust;SQL;TypeScript   \n",
       "1180          Bash/Shell (all shells);C;Python;Rust;SQL   \n",
       "1181                              JavaScript;Python;SQL   \n",
       "1182                                         Python;SQL   \n",
       "\n",
       "                                op_sys_professional_use         ai_view  \\\n",
       "0                                        Ubuntu;Windows  Very favorable   \n",
       "1                                                Ubuntu  Very favorable   \n",
       "2                                        Ubuntu;Windows       Favorable   \n",
       "3                                       Red Hat;Windows  Very favorable   \n",
       "4                                         MacOS;Windows       Favorable   \n",
       "...                                                 ...             ...   \n",
       "1178                                              MacOS       Favorable   \n",
       "1179   Ubuntu;Windows;Windows Subsystem for Linux (WSL)       Favorable   \n",
       "1180  Other Linux-based;Windows;Windows Subsystem fo...  Very favorable   \n",
       "1181                                              MacOS     Indifferent   \n",
       "1182                                   ChromeOS;Windows  Very favorable   \n",
       "\n",
       "                        ai_trust           ic_or_manager  work_exp  \\\n",
       "0                 Somewhat trust  Individual contributor        10   \n",
       "1                 Somewhat trust  Individual contributor         7   \n",
       "2                 Somewhat trust  Individual contributor        16   \n",
       "3                 Somewhat trust  Individual contributor        17   \n",
       "4                 Somewhat trust  Individual contributor         7   \n",
       "...                          ...                     ...       ...   \n",
       "1178  Neither trust nor distrust  Individual contributor         3   \n",
       "1179           Somewhat distrust  Individual contributor         8   \n",
       "1180           Somewhat distrust  Individual contributor         2   \n",
       "1181           Somewhat distrust  Individual contributor        11   \n",
       "1182              Somewhat trust  Individual contributor        39   \n",
       "\n",
       "                                               industry us_or_not  \\\n",
       "0     Information Services, IT, Software Development...    Not US   \n",
       "1     Information Services, IT, Software Development...    Not US   \n",
       "2     Information Services, IT, Software Development...    Not US   \n",
       "3                                             Wholesale    Not US   \n",
       "4                                                   NaN    Not US   \n",
       "...                                                 ...       ...   \n",
       "1178                                              Other    Not US   \n",
       "1179  Information Services, IT, Software Development...    Not US   \n",
       "1180  Information Services, IT, Software Development...    Not US   \n",
       "1181                       Retail and Consumer Services        US   \n",
       "1182  Information Services, IT, Software Development...        US   \n",
       "\n",
       "     plans_to_use_ai  converted_comp_yearly survey_completion_date  \n",
       "0              Using                   3237             2023-05-02  \n",
       "1              Using                  52046             2023-05-05  \n",
       "2              Using                  74963             2023-05-13  \n",
       "3        Plan to use                  56757             2023-05-28  \n",
       "4              Using                  74963             2023-05-31  \n",
       "...              ...                    ...                    ...  \n",
       "1178           Using                    183             2023-05-13  \n",
       "1179           Using                  81787             2023-05-09  \n",
       "1180           Using                  14294             2023-05-17  \n",
       "1181           Using                 175000             2023-05-01  \n",
       "1182           Using                 201000             2023-05-29  \n",
       "\n",
       "[1183 rows x 24 columns]"
      ]
     },
     "execution_count": 31,
     "metadata": {},
     "output_type": "execute_result"
    }
   ],
   "source": [
    "# Display basic information about the dataset\n",
    "data_dev_survey.info()\n",
    "\n",
    "# Display the first few and last few rows of the dataset\n",
    "data_dev_survey"
   ]
  },
  {
   "cell_type": "markdown",
   "id": "d626a733-9ece-46dd-a764-95c57d00eea6",
   "metadata": {},
   "source": [
    "### Handle Missing Values"
   ]
  },
  {
   "cell_type": "code",
   "execution_count": 37,
   "id": "8d7b7bb1-c694-43ae-bbc2-2d5290c807e8",
   "metadata": {},
   "outputs": [
    {
     "data": {
      "text/html": [
       "<div>\n",
       "<style scoped>\n",
       "    .dataframe tbody tr th:only-of-type {\n",
       "        vertical-align: middle;\n",
       "    }\n",
       "\n",
       "    .dataframe tbody tr th {\n",
       "        vertical-align: top;\n",
       "    }\n",
       "\n",
       "    .dataframe thead th {\n",
       "        text-align: right;\n",
       "    }\n",
       "</style>\n",
       "<table border=\"1\" class=\"dataframe\">\n",
       "  <thead>\n",
       "    <tr style=\"text-align: right;\">\n",
       "      <th></th>\n",
       "      <th>response_id</th>\n",
       "      <th>work_as_dev</th>\n",
       "      <th>age</th>\n",
       "      <th>employment</th>\n",
       "      <th>remote_work</th>\n",
       "      <th>coding_activities</th>\n",
       "      <th>ed_level</th>\n",
       "      <th>dev_type</th>\n",
       "      <th>years_code</th>\n",
       "      <th>years_code_pro</th>\n",
       "      <th>org_size</th>\n",
       "      <th>country</th>\n",
       "      <th>language_have_worked_with</th>\n",
       "      <th>language_want_to_work_with</th>\n",
       "      <th>op_sys_professional_use</th>\n",
       "      <th>ai_view</th>\n",
       "      <th>ai_trust</th>\n",
       "      <th>ic_or_manager</th>\n",
       "      <th>work_exp</th>\n",
       "      <th>industry</th>\n",
       "      <th>us_or_not</th>\n",
       "      <th>plans_to_use_ai</th>\n",
       "      <th>converted_comp_yearly</th>\n",
       "      <th>survey_completion_date</th>\n",
       "    </tr>\n",
       "  </thead>\n",
       "  <tbody>\n",
       "    <tr>\n",
       "      <th>0</th>\n",
       "      <td>164</td>\n",
       "      <td>I am a developer by profession</td>\n",
       "      <td>25-34 years old</td>\n",
       "      <td>Employed, full-time;Independent contractor, fr...</td>\n",
       "      <td>Remote</td>\n",
       "      <td>Hobby;Professional development or self-paced l...</td>\n",
       "      <td>Bachelor’s degree (B.A., B.S., B.Eng., etc.)</td>\n",
       "      <td>Engineer, data</td>\n",
       "      <td>14.0</td>\n",
       "      <td>10</td>\n",
       "      <td>1,000 to 4,999 employees</td>\n",
       "      <td>Romania</td>\n",
       "      <td>HTML/CSS;Java;JavaScript;R;SQL;VBA</td>\n",
       "      <td>PowerShell;Python;SQL</td>\n",
       "      <td>Ubuntu;Windows</td>\n",
       "      <td>Very favorable</td>\n",
       "      <td>Somewhat trust</td>\n",
       "      <td>Individual contributor</td>\n",
       "      <td>10</td>\n",
       "      <td>Information Services, IT, Software Development...</td>\n",
       "      <td>Not US</td>\n",
       "      <td>Using</td>\n",
       "      <td>3237</td>\n",
       "      <td>2023-05-02</td>\n",
       "    </tr>\n",
       "    <tr>\n",
       "      <th>1</th>\n",
       "      <td>165</td>\n",
       "      <td>I am a developer by profession</td>\n",
       "      <td>18-24 years old</td>\n",
       "      <td>Employed, full-time</td>\n",
       "      <td>Hybrid (some remote, some in-person)</td>\n",
       "      <td>Hobby;School or academic work</td>\n",
       "      <td>Bachelor’s degree (B.A., B.S., B.Eng., etc.)</td>\n",
       "      <td>Data scientist or machine learning specialist</td>\n",
       "      <td>7.0</td>\n",
       "      <td>5</td>\n",
       "      <td>10 to 19 employees</td>\n",
       "      <td>Canada</td>\n",
       "      <td>C;C++;HTML/CSS;JavaScript;Python;TypeScript</td>\n",
       "      <td>C;C++;Python</td>\n",
       "      <td>Ubuntu</td>\n",
       "      <td>Very favorable</td>\n",
       "      <td>Somewhat trust</td>\n",
       "      <td>Individual contributor</td>\n",
       "      <td>7</td>\n",
       "      <td>Information Services, IT, Software Development...</td>\n",
       "      <td>Not US</td>\n",
       "      <td>Using</td>\n",
       "      <td>52046</td>\n",
       "      <td>2023-05-05</td>\n",
       "    </tr>\n",
       "    <tr>\n",
       "      <th>2</th>\n",
       "      <td>190</td>\n",
       "      <td>I am a developer by profession</td>\n",
       "      <td>35-44 years old</td>\n",
       "      <td>Employed, full-time</td>\n",
       "      <td>Hybrid (some remote, some in-person)</td>\n",
       "      <td>Hobby;Professional development or self-paced l...</td>\n",
       "      <td>Professional degree (JD, MD, Ph.D, Ed.D, etc.)</td>\n",
       "      <td>Data scientist or machine learning specialist</td>\n",
       "      <td>8.0</td>\n",
       "      <td>8</td>\n",
       "      <td>500 to 999 employees</td>\n",
       "      <td>Cyprus</td>\n",
       "      <td>Bash/Shell (all shells);C#;HTML/CSS;MATLAB;Pyt...</td>\n",
       "      <td>Bash/Shell (all shells);HTML/CSS;Python;R;SQL</td>\n",
       "      <td>Ubuntu;Windows</td>\n",
       "      <td>Favorable</td>\n",
       "      <td>Somewhat trust</td>\n",
       "      <td>Individual contributor</td>\n",
       "      <td>16</td>\n",
       "      <td>Information Services, IT, Software Development...</td>\n",
       "      <td>Not US</td>\n",
       "      <td>Using</td>\n",
       "      <td>74963</td>\n",
       "      <td>2023-05-13</td>\n",
       "    </tr>\n",
       "    <tr>\n",
       "      <th>3</th>\n",
       "      <td>218</td>\n",
       "      <td>I am a developer by profession</td>\n",
       "      <td>35-44 years old</td>\n",
       "      <td>Employed, full-time</td>\n",
       "      <td>Hybrid (some remote, some in-person)</td>\n",
       "      <td>Professional development or self-paced learnin...</td>\n",
       "      <td>Some college/university study without earning ...</td>\n",
       "      <td>Database administrator</td>\n",
       "      <td>29.0</td>\n",
       "      <td>17</td>\n",
       "      <td>1,000 to 4,999 employees</td>\n",
       "      <td>Italy</td>\n",
       "      <td>Bash/Shell (all shells);Python;SQL</td>\n",
       "      <td>Bash/Shell (all shells);Python;SQL</td>\n",
       "      <td>Red Hat;Windows</td>\n",
       "      <td>Very favorable</td>\n",
       "      <td>Somewhat trust</td>\n",
       "      <td>Individual contributor</td>\n",
       "      <td>17</td>\n",
       "      <td>Wholesale</td>\n",
       "      <td>Not US</td>\n",
       "      <td>Plan to use</td>\n",
       "      <td>56757</td>\n",
       "      <td>2023-05-28</td>\n",
       "    </tr>\n",
       "    <tr>\n",
       "      <th>4</th>\n",
       "      <td>220</td>\n",
       "      <td>I am a developer by profession</td>\n",
       "      <td>25-34 years old</td>\n",
       "      <td>Employed, full-time;Independent contractor, fr...</td>\n",
       "      <td>Hybrid (some remote, some in-person)</td>\n",
       "      <td>Hobby;Contribute to open-source projects;Profe...</td>\n",
       "      <td>Bachelor’s degree (B.A., B.S., B.Eng., etc.)</td>\n",
       "      <td>Engineer, data</td>\n",
       "      <td>7.0</td>\n",
       "      <td>6</td>\n",
       "      <td>2 to 9 employees</td>\n",
       "      <td>Netherlands</td>\n",
       "      <td>Bash/Shell (all shells);HTML/CSS;JavaScript;Py...</td>\n",
       "      <td>Bash/Shell (all shells);HTML/CSS;JavaScript;Py...</td>\n",
       "      <td>MacOS;Windows</td>\n",
       "      <td>Favorable</td>\n",
       "      <td>Somewhat trust</td>\n",
       "      <td>Individual contributor</td>\n",
       "      <td>7</td>\n",
       "      <td>NaN</td>\n",
       "      <td>Not US</td>\n",
       "      <td>Using</td>\n",
       "      <td>74963</td>\n",
       "      <td>2023-05-31</td>\n",
       "    </tr>\n",
       "  </tbody>\n",
       "</table>\n",
       "</div>"
      ],
      "text/plain": [
       "   response_id                     work_as_dev              age  \\\n",
       "0          164  I am a developer by profession  25-34 years old   \n",
       "1          165  I am a developer by profession  18-24 years old   \n",
       "2          190  I am a developer by profession  35-44 years old   \n",
       "3          218  I am a developer by profession  35-44 years old   \n",
       "4          220  I am a developer by profession  25-34 years old   \n",
       "\n",
       "                                          employment  \\\n",
       "0  Employed, full-time;Independent contractor, fr...   \n",
       "1                                Employed, full-time   \n",
       "2                                Employed, full-time   \n",
       "3                                Employed, full-time   \n",
       "4  Employed, full-time;Independent contractor, fr...   \n",
       "\n",
       "                            remote_work  \\\n",
       "0                                Remote   \n",
       "1  Hybrid (some remote, some in-person)   \n",
       "2  Hybrid (some remote, some in-person)   \n",
       "3  Hybrid (some remote, some in-person)   \n",
       "4  Hybrid (some remote, some in-person)   \n",
       "\n",
       "                                   coding_activities  \\\n",
       "0  Hobby;Professional development or self-paced l...   \n",
       "1                      Hobby;School or academic work   \n",
       "2  Hobby;Professional development or self-paced l...   \n",
       "3  Professional development or self-paced learnin...   \n",
       "4  Hobby;Contribute to open-source projects;Profe...   \n",
       "\n",
       "                                            ed_level  \\\n",
       "0       Bachelor’s degree (B.A., B.S., B.Eng., etc.)   \n",
       "1       Bachelor’s degree (B.A., B.S., B.Eng., etc.)   \n",
       "2     Professional degree (JD, MD, Ph.D, Ed.D, etc.)   \n",
       "3  Some college/university study without earning ...   \n",
       "4       Bachelor’s degree (B.A., B.S., B.Eng., etc.)   \n",
       "\n",
       "                                        dev_type  years_code  years_code_pro  \\\n",
       "0                                 Engineer, data        14.0              10   \n",
       "1  Data scientist or machine learning specialist         7.0               5   \n",
       "2  Data scientist or machine learning specialist         8.0               8   \n",
       "3                         Database administrator        29.0              17   \n",
       "4                                 Engineer, data         7.0               6   \n",
       "\n",
       "                   org_size      country  \\\n",
       "0  1,000 to 4,999 employees      Romania   \n",
       "1        10 to 19 employees       Canada   \n",
       "2      500 to 999 employees       Cyprus   \n",
       "3  1,000 to 4,999 employees        Italy   \n",
       "4          2 to 9 employees  Netherlands   \n",
       "\n",
       "                           language_have_worked_with  \\\n",
       "0                 HTML/CSS;Java;JavaScript;R;SQL;VBA   \n",
       "1        C;C++;HTML/CSS;JavaScript;Python;TypeScript   \n",
       "2  Bash/Shell (all shells);C#;HTML/CSS;MATLAB;Pyt...   \n",
       "3                 Bash/Shell (all shells);Python;SQL   \n",
       "4  Bash/Shell (all shells);HTML/CSS;JavaScript;Py...   \n",
       "\n",
       "                          language_want_to_work_with op_sys_professional_use  \\\n",
       "0                              PowerShell;Python;SQL          Ubuntu;Windows   \n",
       "1                                       C;C++;Python                  Ubuntu   \n",
       "2      Bash/Shell (all shells);HTML/CSS;Python;R;SQL          Ubuntu;Windows   \n",
       "3                 Bash/Shell (all shells);Python;SQL         Red Hat;Windows   \n",
       "4  Bash/Shell (all shells);HTML/CSS;JavaScript;Py...           MacOS;Windows   \n",
       "\n",
       "          ai_view        ai_trust           ic_or_manager  work_exp  \\\n",
       "0  Very favorable  Somewhat trust  Individual contributor        10   \n",
       "1  Very favorable  Somewhat trust  Individual contributor         7   \n",
       "2       Favorable  Somewhat trust  Individual contributor        16   \n",
       "3  Very favorable  Somewhat trust  Individual contributor        17   \n",
       "4       Favorable  Somewhat trust  Individual contributor         7   \n",
       "\n",
       "                                            industry us_or_not  \\\n",
       "0  Information Services, IT, Software Development...    Not US   \n",
       "1  Information Services, IT, Software Development...    Not US   \n",
       "2  Information Services, IT, Software Development...    Not US   \n",
       "3                                          Wholesale    Not US   \n",
       "4                                                NaN    Not US   \n",
       "\n",
       "  plans_to_use_ai  converted_comp_yearly survey_completion_date  \n",
       "0           Using                   3237             2023-05-02  \n",
       "1           Using                  52046             2023-05-05  \n",
       "2           Using                  74963             2023-05-13  \n",
       "3     Plan to use                  56757             2023-05-28  \n",
       "4           Using                  74963             2023-05-31  "
      ]
     },
     "execution_count": 37,
     "metadata": {},
     "output_type": "execute_result"
    }
   ],
   "source": [
    "# Check for missing values\n",
    "# data_dev_survey.isnull().sum()\n",
    "\n",
    "# Make a copy of the dataset for imputation\n",
    "data_dev_survey_imputed = data_dev_survey.copy()\n",
    "\n",
    "# Select only numeric columns\n",
    "numeric_column_names = data_dev_survey_imputed\\\n",
    "    .select_dtypes(include=[np.number])\\\n",
    "    .columns\n",
    "# numeric_column_names\n",
    "\n",
    "# Fill missing values in numeric columns with the median\n",
    "data_dev_survey_imputed[numeric_column_names] = data_dev_survey_imputed[numeric_column_names] \\\n",
    "    .fillna(data_dev_survey_imputed[numeric_column_names].median())\n",
    "\n",
    "# Display the first few rows of the imputed dataset\n",
    "data_dev_survey_imputed.head()"
   ]
  },
  {
   "cell_type": "markdown",
   "id": "05fa0db9-f7a5-47be-a18a-d8d64d76a3f4",
   "metadata": {},
   "source": [
    "### Handling Outliers"
   ]
  },
  {
   "cell_type": "code",
   "execution_count": 42,
   "id": "06682d94-babc-4aea-987d-dca750b68315",
   "metadata": {},
   "outputs": [
    {
     "data": {
      "text/html": [
       "<div>\n",
       "<style scoped>\n",
       "    .dataframe tbody tr th:only-of-type {\n",
       "        vertical-align: middle;\n",
       "    }\n",
       "\n",
       "    .dataframe tbody tr th {\n",
       "        vertical-align: top;\n",
       "    }\n",
       "\n",
       "    .dataframe thead th {\n",
       "        text-align: right;\n",
       "    }\n",
       "</style>\n",
       "<table border=\"1\" class=\"dataframe\">\n",
       "  <thead>\n",
       "    <tr style=\"text-align: right;\">\n",
       "      <th></th>\n",
       "      <th>response_id</th>\n",
       "      <th>work_as_dev</th>\n",
       "      <th>age</th>\n",
       "      <th>employment</th>\n",
       "      <th>remote_work</th>\n",
       "      <th>coding_activities</th>\n",
       "      <th>ed_level</th>\n",
       "      <th>dev_type</th>\n",
       "      <th>years_code</th>\n",
       "      <th>years_code_pro</th>\n",
       "      <th>org_size</th>\n",
       "      <th>country</th>\n",
       "      <th>language_have_worked_with</th>\n",
       "      <th>language_want_to_work_with</th>\n",
       "      <th>op_sys_professional_use</th>\n",
       "      <th>ai_view</th>\n",
       "      <th>ai_trust</th>\n",
       "      <th>ic_or_manager</th>\n",
       "      <th>work_exp</th>\n",
       "      <th>industry</th>\n",
       "      <th>us_or_not</th>\n",
       "      <th>plans_to_use_ai</th>\n",
       "      <th>converted_comp_yearly</th>\n",
       "      <th>survey_completion_date</th>\n",
       "    </tr>\n",
       "  </thead>\n",
       "  <tbody>\n",
       "    <tr>\n",
       "      <th>0</th>\n",
       "      <td>164</td>\n",
       "      <td>I am a developer by profession</td>\n",
       "      <td>25-34 years old</td>\n",
       "      <td>Employed, full-time;Independent contractor, fr...</td>\n",
       "      <td>Remote</td>\n",
       "      <td>Hobby;Professional development or self-paced l...</td>\n",
       "      <td>Bachelor’s degree (B.A., B.S., B.Eng., etc.)</td>\n",
       "      <td>Engineer, data</td>\n",
       "      <td>14.0</td>\n",
       "      <td>10</td>\n",
       "      <td>1,000 to 4,999 employees</td>\n",
       "      <td>Romania</td>\n",
       "      <td>HTML/CSS;Java;JavaScript;R;SQL;VBA</td>\n",
       "      <td>PowerShell;Python;SQL</td>\n",
       "      <td>Ubuntu;Windows</td>\n",
       "      <td>Very favorable</td>\n",
       "      <td>Somewhat trust</td>\n",
       "      <td>Individual contributor</td>\n",
       "      <td>10</td>\n",
       "      <td>Information Services, IT, Software Development...</td>\n",
       "      <td>Not US</td>\n",
       "      <td>Using</td>\n",
       "      <td>3237</td>\n",
       "      <td>2023-05-02</td>\n",
       "    </tr>\n",
       "    <tr>\n",
       "      <th>1</th>\n",
       "      <td>165</td>\n",
       "      <td>I am a developer by profession</td>\n",
       "      <td>18-24 years old</td>\n",
       "      <td>Employed, full-time</td>\n",
       "      <td>Hybrid (some remote, some in-person)</td>\n",
       "      <td>Hobby;School or academic work</td>\n",
       "      <td>Bachelor’s degree (B.A., B.S., B.Eng., etc.)</td>\n",
       "      <td>Data scientist or machine learning specialist</td>\n",
       "      <td>7.0</td>\n",
       "      <td>5</td>\n",
       "      <td>10 to 19 employees</td>\n",
       "      <td>Canada</td>\n",
       "      <td>C;C++;HTML/CSS;JavaScript;Python;TypeScript</td>\n",
       "      <td>C;C++;Python</td>\n",
       "      <td>Ubuntu</td>\n",
       "      <td>Very favorable</td>\n",
       "      <td>Somewhat trust</td>\n",
       "      <td>Individual contributor</td>\n",
       "      <td>7</td>\n",
       "      <td>Information Services, IT, Software Development...</td>\n",
       "      <td>Not US</td>\n",
       "      <td>Using</td>\n",
       "      <td>52046</td>\n",
       "      <td>2023-05-05</td>\n",
       "    </tr>\n",
       "    <tr>\n",
       "      <th>2</th>\n",
       "      <td>190</td>\n",
       "      <td>I am a developer by profession</td>\n",
       "      <td>35-44 years old</td>\n",
       "      <td>Employed, full-time</td>\n",
       "      <td>Hybrid (some remote, some in-person)</td>\n",
       "      <td>Hobby;Professional development or self-paced l...</td>\n",
       "      <td>Professional degree (JD, MD, Ph.D, Ed.D, etc.)</td>\n",
       "      <td>Data scientist or machine learning specialist</td>\n",
       "      <td>8.0</td>\n",
       "      <td>8</td>\n",
       "      <td>500 to 999 employees</td>\n",
       "      <td>Cyprus</td>\n",
       "      <td>Bash/Shell (all shells);C#;HTML/CSS;MATLAB;Pyt...</td>\n",
       "      <td>Bash/Shell (all shells);HTML/CSS;Python;R;SQL</td>\n",
       "      <td>Ubuntu;Windows</td>\n",
       "      <td>Favorable</td>\n",
       "      <td>Somewhat trust</td>\n",
       "      <td>Individual contributor</td>\n",
       "      <td>16</td>\n",
       "      <td>Information Services, IT, Software Development...</td>\n",
       "      <td>Not US</td>\n",
       "      <td>Using</td>\n",
       "      <td>74963</td>\n",
       "      <td>2023-05-13</td>\n",
       "    </tr>\n",
       "    <tr>\n",
       "      <th>3</th>\n",
       "      <td>218</td>\n",
       "      <td>I am a developer by profession</td>\n",
       "      <td>35-44 years old</td>\n",
       "      <td>Employed, full-time</td>\n",
       "      <td>Hybrid (some remote, some in-person)</td>\n",
       "      <td>Professional development or self-paced learnin...</td>\n",
       "      <td>Some college/university study without earning ...</td>\n",
       "      <td>Database administrator</td>\n",
       "      <td>29.0</td>\n",
       "      <td>17</td>\n",
       "      <td>1,000 to 4,999 employees</td>\n",
       "      <td>Italy</td>\n",
       "      <td>Bash/Shell (all shells);Python;SQL</td>\n",
       "      <td>Bash/Shell (all shells);Python;SQL</td>\n",
       "      <td>Red Hat;Windows</td>\n",
       "      <td>Very favorable</td>\n",
       "      <td>Somewhat trust</td>\n",
       "      <td>Individual contributor</td>\n",
       "      <td>17</td>\n",
       "      <td>Wholesale</td>\n",
       "      <td>Not US</td>\n",
       "      <td>Plan to use</td>\n",
       "      <td>56757</td>\n",
       "      <td>2023-05-28</td>\n",
       "    </tr>\n",
       "    <tr>\n",
       "      <th>4</th>\n",
       "      <td>220</td>\n",
       "      <td>I am a developer by profession</td>\n",
       "      <td>25-34 years old</td>\n",
       "      <td>Employed, full-time;Independent contractor, fr...</td>\n",
       "      <td>Hybrid (some remote, some in-person)</td>\n",
       "      <td>Hobby;Contribute to open-source projects;Profe...</td>\n",
       "      <td>Bachelor’s degree (B.A., B.S., B.Eng., etc.)</td>\n",
       "      <td>Engineer, data</td>\n",
       "      <td>7.0</td>\n",
       "      <td>6</td>\n",
       "      <td>2 to 9 employees</td>\n",
       "      <td>Netherlands</td>\n",
       "      <td>Bash/Shell (all shells);HTML/CSS;JavaScript;Py...</td>\n",
       "      <td>Bash/Shell (all shells);HTML/CSS;JavaScript;Py...</td>\n",
       "      <td>MacOS;Windows</td>\n",
       "      <td>Favorable</td>\n",
       "      <td>Somewhat trust</td>\n",
       "      <td>Individual contributor</td>\n",
       "      <td>7</td>\n",
       "      <td>NaN</td>\n",
       "      <td>Not US</td>\n",
       "      <td>Using</td>\n",
       "      <td>74963</td>\n",
       "      <td>2023-05-31</td>\n",
       "    </tr>\n",
       "    <tr>\n",
       "      <th>...</th>\n",
       "      <td>...</td>\n",
       "      <td>...</td>\n",
       "      <td>...</td>\n",
       "      <td>...</td>\n",
       "      <td>...</td>\n",
       "      <td>...</td>\n",
       "      <td>...</td>\n",
       "      <td>...</td>\n",
       "      <td>...</td>\n",
       "      <td>...</td>\n",
       "      <td>...</td>\n",
       "      <td>...</td>\n",
       "      <td>...</td>\n",
       "      <td>...</td>\n",
       "      <td>...</td>\n",
       "      <td>...</td>\n",
       "      <td>...</td>\n",
       "      <td>...</td>\n",
       "      <td>...</td>\n",
       "      <td>...</td>\n",
       "      <td>...</td>\n",
       "      <td>...</td>\n",
       "      <td>...</td>\n",
       "      <td>...</td>\n",
       "    </tr>\n",
       "    <tr>\n",
       "      <th>1177</th>\n",
       "      <td>88609</td>\n",
       "      <td>I am not primarily a developer, but I write co...</td>\n",
       "      <td>25-34 years old</td>\n",
       "      <td>Employed, full-time</td>\n",
       "      <td>Remote</td>\n",
       "      <td>Hobby;Professional development or self-paced l...</td>\n",
       "      <td>Bachelor’s degree (B.A., B.S., B.Eng., etc.)</td>\n",
       "      <td>Data scientist or machine learning specialist</td>\n",
       "      <td>7.0</td>\n",
       "      <td>5</td>\n",
       "      <td>1,000 to 4,999 employees</td>\n",
       "      <td>United States of America</td>\n",
       "      <td>Bash/Shell (all shells);GDScript;HTML/CSS;Java...</td>\n",
       "      <td>GDScript;Python;SQL</td>\n",
       "      <td>Windows</td>\n",
       "      <td>Favorable</td>\n",
       "      <td>Somewhat trust</td>\n",
       "      <td>Individual contributor</td>\n",
       "      <td>8</td>\n",
       "      <td>Information Services, IT, Software Development...</td>\n",
       "      <td>US</td>\n",
       "      <td>Using</td>\n",
       "      <td>83500</td>\n",
       "      <td>2023-05-15</td>\n",
       "    </tr>\n",
       "    <tr>\n",
       "      <th>1178</th>\n",
       "      <td>88680</td>\n",
       "      <td>I am a developer by profession</td>\n",
       "      <td>25-34 years old</td>\n",
       "      <td>Employed, full-time</td>\n",
       "      <td>Hybrid (some remote, some in-person)</td>\n",
       "      <td>Hobby;Professional development or self-paced l...</td>\n",
       "      <td>Bachelor’s degree (B.A., B.S., B.Eng., etc.)</td>\n",
       "      <td>Data scientist or machine learning specialist</td>\n",
       "      <td>6.0</td>\n",
       "      <td>2</td>\n",
       "      <td>100 to 499 employees</td>\n",
       "      <td>Serbia</td>\n",
       "      <td>Python;SQL</td>\n",
       "      <td>Python;SQL</td>\n",
       "      <td>MacOS</td>\n",
       "      <td>Favorable</td>\n",
       "      <td>Neither trust nor distrust</td>\n",
       "      <td>Individual contributor</td>\n",
       "      <td>3</td>\n",
       "      <td>Other</td>\n",
       "      <td>Not US</td>\n",
       "      <td>Using</td>\n",
       "      <td>183</td>\n",
       "      <td>2023-05-13</td>\n",
       "    </tr>\n",
       "    <tr>\n",
       "      <th>1179</th>\n",
       "      <td>88736</td>\n",
       "      <td>I am a developer by profession</td>\n",
       "      <td>25-34 years old</td>\n",
       "      <td>Employed, full-time</td>\n",
       "      <td>Hybrid (some remote, some in-person)</td>\n",
       "      <td>Hobby;Professional development or self-paced l...</td>\n",
       "      <td>Bachelor’s degree (B.A., B.S., B.Eng., etc.)</td>\n",
       "      <td>Engineer, data</td>\n",
       "      <td>12.0</td>\n",
       "      <td>9</td>\n",
       "      <td>5,000 to 9,999 employees</td>\n",
       "      <td>Canada</td>\n",
       "      <td>Bash/Shell (all shells);C;C#;C++;HTML/CSS;Java...</td>\n",
       "      <td>C#;HTML/CSS;JavaScript;Python;Rust;SQL;TypeScript</td>\n",
       "      <td>Ubuntu;Windows;Windows Subsystem for Linux (WSL)</td>\n",
       "      <td>Favorable</td>\n",
       "      <td>Somewhat distrust</td>\n",
       "      <td>Individual contributor</td>\n",
       "      <td>8</td>\n",
       "      <td>Information Services, IT, Software Development...</td>\n",
       "      <td>Not US</td>\n",
       "      <td>Using</td>\n",
       "      <td>81787</td>\n",
       "      <td>2023-05-09</td>\n",
       "    </tr>\n",
       "    <tr>\n",
       "      <th>1180</th>\n",
       "      <td>88816</td>\n",
       "      <td>I am a developer by profession</td>\n",
       "      <td>25-34 years old</td>\n",
       "      <td>Employed, full-time</td>\n",
       "      <td>Hybrid (some remote, some in-person)</td>\n",
       "      <td>Hobby;Contribute to open-source projects;Profe...</td>\n",
       "      <td>Bachelor’s degree (B.A., B.S., B.Eng., etc.)</td>\n",
       "      <td>Engineer, data</td>\n",
       "      <td>5.0</td>\n",
       "      <td>2</td>\n",
       "      <td>10,000 or more employees</td>\n",
       "      <td>Viet Nam</td>\n",
       "      <td>Bash/Shell (all shells);Java;Python;SQL</td>\n",
       "      <td>Bash/Shell (all shells);C;Python;Rust;SQL</td>\n",
       "      <td>Other Linux-based;Windows;Windows Subsystem fo...</td>\n",
       "      <td>Very favorable</td>\n",
       "      <td>Somewhat distrust</td>\n",
       "      <td>Individual contributor</td>\n",
       "      <td>2</td>\n",
       "      <td>Information Services, IT, Software Development...</td>\n",
       "      <td>Not US</td>\n",
       "      <td>Using</td>\n",
       "      <td>14294</td>\n",
       "      <td>2023-05-17</td>\n",
       "    </tr>\n",
       "    <tr>\n",
       "      <th>1181</th>\n",
       "      <td>88819</td>\n",
       "      <td>I am a developer by profession</td>\n",
       "      <td>25-34 years old</td>\n",
       "      <td>Employed, full-time</td>\n",
       "      <td>Hybrid (some remote, some in-person)</td>\n",
       "      <td>Professional development or self-paced learnin...</td>\n",
       "      <td>Master’s degree (M.A., M.S., M.Eng., MBA, etc.)</td>\n",
       "      <td>Engineer, data</td>\n",
       "      <td>15.0</td>\n",
       "      <td>10</td>\n",
       "      <td>10,000 or more employees</td>\n",
       "      <td>United States of America</td>\n",
       "      <td>JavaScript;Python</td>\n",
       "      <td>JavaScript;Python;SQL</td>\n",
       "      <td>MacOS</td>\n",
       "      <td>Indifferent</td>\n",
       "      <td>Somewhat distrust</td>\n",
       "      <td>Individual contributor</td>\n",
       "      <td>11</td>\n",
       "      <td>Retail and Consumer Services</td>\n",
       "      <td>US</td>\n",
       "      <td>Using</td>\n",
       "      <td>175000</td>\n",
       "      <td>2023-05-01</td>\n",
       "    </tr>\n",
       "  </tbody>\n",
       "</table>\n",
       "<p>1035 rows × 24 columns</p>\n",
       "</div>"
      ],
      "text/plain": [
       "      response_id                                        work_as_dev  \\\n",
       "0             164                     I am a developer by profession   \n",
       "1             165                     I am a developer by profession   \n",
       "2             190                     I am a developer by profession   \n",
       "3             218                     I am a developer by profession   \n",
       "4             220                     I am a developer by profession   \n",
       "...           ...                                                ...   \n",
       "1177        88609  I am not primarily a developer, but I write co...   \n",
       "1178        88680                     I am a developer by profession   \n",
       "1179        88736                     I am a developer by profession   \n",
       "1180        88816                     I am a developer by profession   \n",
       "1181        88819                     I am a developer by profession   \n",
       "\n",
       "                  age                                         employment  \\\n",
       "0     25-34 years old  Employed, full-time;Independent contractor, fr...   \n",
       "1     18-24 years old                                Employed, full-time   \n",
       "2     35-44 years old                                Employed, full-time   \n",
       "3     35-44 years old                                Employed, full-time   \n",
       "4     25-34 years old  Employed, full-time;Independent contractor, fr...   \n",
       "...               ...                                                ...   \n",
       "1177  25-34 years old                                Employed, full-time   \n",
       "1178  25-34 years old                                Employed, full-time   \n",
       "1179  25-34 years old                                Employed, full-time   \n",
       "1180  25-34 years old                                Employed, full-time   \n",
       "1181  25-34 years old                                Employed, full-time   \n",
       "\n",
       "                               remote_work  \\\n",
       "0                                   Remote   \n",
       "1     Hybrid (some remote, some in-person)   \n",
       "2     Hybrid (some remote, some in-person)   \n",
       "3     Hybrid (some remote, some in-person)   \n",
       "4     Hybrid (some remote, some in-person)   \n",
       "...                                    ...   \n",
       "1177                                Remote   \n",
       "1178  Hybrid (some remote, some in-person)   \n",
       "1179  Hybrid (some remote, some in-person)   \n",
       "1180  Hybrid (some remote, some in-person)   \n",
       "1181  Hybrid (some remote, some in-person)   \n",
       "\n",
       "                                      coding_activities  \\\n",
       "0     Hobby;Professional development or self-paced l...   \n",
       "1                         Hobby;School or academic work   \n",
       "2     Hobby;Professional development or self-paced l...   \n",
       "3     Professional development or self-paced learnin...   \n",
       "4     Hobby;Contribute to open-source projects;Profe...   \n",
       "...                                                 ...   \n",
       "1177  Hobby;Professional development or self-paced l...   \n",
       "1178  Hobby;Professional development or self-paced l...   \n",
       "1179  Hobby;Professional development or self-paced l...   \n",
       "1180  Hobby;Contribute to open-source projects;Profe...   \n",
       "1181  Professional development or self-paced learnin...   \n",
       "\n",
       "                                               ed_level  \\\n",
       "0          Bachelor’s degree (B.A., B.S., B.Eng., etc.)   \n",
       "1          Bachelor’s degree (B.A., B.S., B.Eng., etc.)   \n",
       "2        Professional degree (JD, MD, Ph.D, Ed.D, etc.)   \n",
       "3     Some college/university study without earning ...   \n",
       "4          Bachelor’s degree (B.A., B.S., B.Eng., etc.)   \n",
       "...                                                 ...   \n",
       "1177       Bachelor’s degree (B.A., B.S., B.Eng., etc.)   \n",
       "1178       Bachelor’s degree (B.A., B.S., B.Eng., etc.)   \n",
       "1179       Bachelor’s degree (B.A., B.S., B.Eng., etc.)   \n",
       "1180       Bachelor’s degree (B.A., B.S., B.Eng., etc.)   \n",
       "1181    Master’s degree (M.A., M.S., M.Eng., MBA, etc.)   \n",
       "\n",
       "                                           dev_type  years_code  \\\n",
       "0                                    Engineer, data        14.0   \n",
       "1     Data scientist or machine learning specialist         7.0   \n",
       "2     Data scientist or machine learning specialist         8.0   \n",
       "3                            Database administrator        29.0   \n",
       "4                                    Engineer, data         7.0   \n",
       "...                                             ...         ...   \n",
       "1177  Data scientist or machine learning specialist         7.0   \n",
       "1178  Data scientist or machine learning specialist         6.0   \n",
       "1179                                 Engineer, data        12.0   \n",
       "1180                                 Engineer, data         5.0   \n",
       "1181                                 Engineer, data        15.0   \n",
       "\n",
       "      years_code_pro                  org_size                   country  \\\n",
       "0                 10  1,000 to 4,999 employees                   Romania   \n",
       "1                  5        10 to 19 employees                    Canada   \n",
       "2                  8      500 to 999 employees                    Cyprus   \n",
       "3                 17  1,000 to 4,999 employees                     Italy   \n",
       "4                  6          2 to 9 employees               Netherlands   \n",
       "...              ...                       ...                       ...   \n",
       "1177               5  1,000 to 4,999 employees  United States of America   \n",
       "1178               2      100 to 499 employees                    Serbia   \n",
       "1179               9  5,000 to 9,999 employees                    Canada   \n",
       "1180               2  10,000 or more employees                  Viet Nam   \n",
       "1181              10  10,000 or more employees  United States of America   \n",
       "\n",
       "                              language_have_worked_with  \\\n",
       "0                    HTML/CSS;Java;JavaScript;R;SQL;VBA   \n",
       "1           C;C++;HTML/CSS;JavaScript;Python;TypeScript   \n",
       "2     Bash/Shell (all shells);C#;HTML/CSS;MATLAB;Pyt...   \n",
       "3                    Bash/Shell (all shells);Python;SQL   \n",
       "4     Bash/Shell (all shells);HTML/CSS;JavaScript;Py...   \n",
       "...                                                 ...   \n",
       "1177  Bash/Shell (all shells);GDScript;HTML/CSS;Java...   \n",
       "1178                                         Python;SQL   \n",
       "1179  Bash/Shell (all shells);C;C#;C++;HTML/CSS;Java...   \n",
       "1180            Bash/Shell (all shells);Java;Python;SQL   \n",
       "1181                                  JavaScript;Python   \n",
       "\n",
       "                             language_want_to_work_with  \\\n",
       "0                                 PowerShell;Python;SQL   \n",
       "1                                          C;C++;Python   \n",
       "2         Bash/Shell (all shells);HTML/CSS;Python;R;SQL   \n",
       "3                    Bash/Shell (all shells);Python;SQL   \n",
       "4     Bash/Shell (all shells);HTML/CSS;JavaScript;Py...   \n",
       "...                                                 ...   \n",
       "1177                                GDScript;Python;SQL   \n",
       "1178                                         Python;SQL   \n",
       "1179  C#;HTML/CSS;JavaScript;Python;Rust;SQL;TypeScript   \n",
       "1180          Bash/Shell (all shells);C;Python;Rust;SQL   \n",
       "1181                              JavaScript;Python;SQL   \n",
       "\n",
       "                                op_sys_professional_use         ai_view  \\\n",
       "0                                        Ubuntu;Windows  Very favorable   \n",
       "1                                                Ubuntu  Very favorable   \n",
       "2                                        Ubuntu;Windows       Favorable   \n",
       "3                                       Red Hat;Windows  Very favorable   \n",
       "4                                         MacOS;Windows       Favorable   \n",
       "...                                                 ...             ...   \n",
       "1177                                            Windows       Favorable   \n",
       "1178                                              MacOS       Favorable   \n",
       "1179   Ubuntu;Windows;Windows Subsystem for Linux (WSL)       Favorable   \n",
       "1180  Other Linux-based;Windows;Windows Subsystem fo...  Very favorable   \n",
       "1181                                              MacOS     Indifferent   \n",
       "\n",
       "                        ai_trust           ic_or_manager  work_exp  \\\n",
       "0                 Somewhat trust  Individual contributor        10   \n",
       "1                 Somewhat trust  Individual contributor         7   \n",
       "2                 Somewhat trust  Individual contributor        16   \n",
       "3                 Somewhat trust  Individual contributor        17   \n",
       "4                 Somewhat trust  Individual contributor         7   \n",
       "...                          ...                     ...       ...   \n",
       "1177              Somewhat trust  Individual contributor         8   \n",
       "1178  Neither trust nor distrust  Individual contributor         3   \n",
       "1179           Somewhat distrust  Individual contributor         8   \n",
       "1180           Somewhat distrust  Individual contributor         2   \n",
       "1181           Somewhat distrust  Individual contributor        11   \n",
       "\n",
       "                                               industry us_or_not  \\\n",
       "0     Information Services, IT, Software Development...    Not US   \n",
       "1     Information Services, IT, Software Development...    Not US   \n",
       "2     Information Services, IT, Software Development...    Not US   \n",
       "3                                             Wholesale    Not US   \n",
       "4                                                   NaN    Not US   \n",
       "...                                                 ...       ...   \n",
       "1177  Information Services, IT, Software Development...        US   \n",
       "1178                                              Other    Not US   \n",
       "1179  Information Services, IT, Software Development...    Not US   \n",
       "1180  Information Services, IT, Software Development...    Not US   \n",
       "1181                       Retail and Consumer Services        US   \n",
       "\n",
       "     plans_to_use_ai  converted_comp_yearly survey_completion_date  \n",
       "0              Using                   3237             2023-05-02  \n",
       "1              Using                  52046             2023-05-05  \n",
       "2              Using                  74963             2023-05-13  \n",
       "3        Plan to use                  56757             2023-05-28  \n",
       "4              Using                  74963             2023-05-31  \n",
       "...              ...                    ...                    ...  \n",
       "1177           Using                  83500             2023-05-15  \n",
       "1178           Using                    183             2023-05-13  \n",
       "1179           Using                  81787             2023-05-09  \n",
       "1180           Using                  14294             2023-05-17  \n",
       "1181           Using                 175000             2023-05-01  \n",
       "\n",
       "[1035 rows x 24 columns]"
      ]
     },
     "execution_count": 42,
     "metadata": {},
     "output_type": "execute_result"
    }
   ],
   "source": [
    "# Select only numeric columns\n",
    "numeric_data = data_dev_survey_imputed.select_dtypes(include=[np.number])\n",
    "\n",
    "# Identify outliers using IQR\n",
    "Q1 = numeric_data.quantile(0.25)\n",
    "Q3 = numeric_data.quantile(0.75)\n",
    "IQR = Q3 - Q1\n",
    "outliers = numeric_data[ (numeric_data < (Q1 - 1.5 * IQR)) \\\n",
    "                       | (numeric_data > (Q3 + 1.5 * IQR)) ]\n",
    "#print(outliers)\n",
    "                                                             \n",
    "# Remove outliers\n",
    "data_dev_survey_imputed2 = data_dev_survey_imputed[~(\n",
    "        (numeric_data < (Q1 - 1.5 * IQR)) | (numeric_data > (Q3 + 1.5 * IQR))\n",
    ").any(axis=1)\n",
    "    ]\n",
    "data_dev_survey_imputed2"
   ]
  },
  {
   "cell_type": "markdown",
   "id": "6feff62a-19b6-4cfe-b2dc-f92b5e6c39fd",
   "metadata": {},
   "source": [
    "### Data Transformation"
   ]
  },
  {
   "cell_type": "code",
   "execution_count": 58,
   "id": "872fd4f4-3d55-4cd8-875d-9b0f52a5489b",
   "metadata": {},
   "outputs": [],
   "source": [
    "from sklearn.preprocessing import MinMaxScaler, StandardScaler\n",
    "\n",
    "# Normalization on converted_comp_yearly\n",
    "normalized_scaler = MinMaxScaler()\n",
    "#data_dev_survey_imputed2[['converted_comp_yearly']] = normalized_scaler.fit_transform(\n",
    "#        data_dev_survey_imputed2[['converted_comp_yearly']]\n",
    "#)\n",
    "# Convert to float first\n",
    "data_dev_survey_imputed2['converted_comp_yearly'] = data_dev_survey_imputed2['converted_comp_yearly'].astype(float)\n",
    "\n",
    "# Use .loc\n",
    "data_dev_survey_imputed2.loc[:, 'converted_comp_yearly'] = normalized_scaler.fit_transform(\n",
    "        data_dev_survey_imputed2[['converted_comp_yearly']]\n",
    ")\n",
    "\n",
    "# Standardization on work_exp\n",
    "standardized_scaler = StandardScaler()\n",
    "#data_dev_survey_imputed2[['work_exp']] = standardized_scaler.fit_transform(\n",
    "#    data_dev_survey_imputed2[['work_exp']]\n",
    "#)\n",
    "# Convert to float first\n",
    "data_dev_survey_imputed2['work_exp_scaled'] = data_dev_survey_imputed2['work_exp'].astype(float)\n",
    "\n",
    "# Use .loc\n",
    "data_dev_survey_imputed2.loc[:, 'work_exp_scaled'] = standardized_scaler.fit_transform(\n",
    "    data_dev_survey_imputed2[['work_exp']]\n",
    ")\n",
    "\n",
    "# Encoding categorical variables (country)\n",
    "data_dev_survey_imputed2 = pd.get_dummies(data_dev_survey_imputed,\n",
    "                                          columns=['country'])"
   ]
  },
  {
   "cell_type": "markdown",
   "id": "639be5e2-d38c-4ef7-a4a8-86759e8a7051",
   "metadata": {},
   "source": [
    "### Data Visualizations on Preprocessed Data"
   ]
  },
  {
   "cell_type": "code",
   "execution_count": 60,
   "id": "39d2a317-6d84-496b-a3e4-8bfd4cacd515",
   "metadata": {},
   "outputs": [
    {
     "ename": "KeyError",
     "evalue": "'work_exp_scaled'",
     "output_type": "error",
     "traceback": [
      "\u001b[0;31m---------------------------------------------------------------------------\u001b[0m",
      "\u001b[0;31mKeyError\u001b[0m                                  Traceback (most recent call last)",
      "File \u001b[0;32m~/.virtualenvs/r-reticulate/lib/python3.9/site-packages/pandas/core/indexes/base.py:3812\u001b[0m, in \u001b[0;36mIndex.get_loc\u001b[0;34m(self, key)\u001b[0m\n\u001b[1;32m   3811\u001b[0m \u001b[38;5;28;01mtry\u001b[39;00m:\n\u001b[0;32m-> 3812\u001b[0m     \u001b[38;5;28;01mreturn\u001b[39;00m \u001b[38;5;28;43mself\u001b[39;49m\u001b[38;5;241;43m.\u001b[39;49m\u001b[43m_engine\u001b[49m\u001b[38;5;241;43m.\u001b[39;49m\u001b[43mget_loc\u001b[49m\u001b[43m(\u001b[49m\u001b[43mcasted_key\u001b[49m\u001b[43m)\u001b[49m\n\u001b[1;32m   3813\u001b[0m \u001b[38;5;28;01mexcept\u001b[39;00m \u001b[38;5;167;01mKeyError\u001b[39;00m \u001b[38;5;28;01mas\u001b[39;00m err:\n",
      "File \u001b[0;32mpandas/_libs/index.pyx:167\u001b[0m, in \u001b[0;36mpandas._libs.index.IndexEngine.get_loc\u001b[0;34m()\u001b[0m\n",
      "File \u001b[0;32mpandas/_libs/index.pyx:196\u001b[0m, in \u001b[0;36mpandas._libs.index.IndexEngine.get_loc\u001b[0;34m()\u001b[0m\n",
      "File \u001b[0;32mpandas/_libs/hashtable_class_helper.pxi:7088\u001b[0m, in \u001b[0;36mpandas._libs.hashtable.PyObjectHashTable.get_item\u001b[0;34m()\u001b[0m\n",
      "File \u001b[0;32mpandas/_libs/hashtable_class_helper.pxi:7096\u001b[0m, in \u001b[0;36mpandas._libs.hashtable.PyObjectHashTable.get_item\u001b[0;34m()\u001b[0m\n",
      "\u001b[0;31mKeyError\u001b[0m: 'work_exp_scaled'",
      "\nThe above exception was the direct cause of the following exception:\n",
      "\u001b[0;31mKeyError\u001b[0m                                  Traceback (most recent call last)",
      "Cell \u001b[0;32mIn[60], line 6\u001b[0m\n\u001b[1;32m      1\u001b[0m \u001b[38;5;66;03m# Histogram for years_code_pro\u001b[39;00m\n\u001b[1;32m      2\u001b[0m \u001b[38;5;66;03m# sns.histplot(data_dev_survey_imputed2.years_code_pro)\u001b[39;00m\n\u001b[1;32m      3\u001b[0m \u001b[38;5;66;03m# plt.show();\u001b[39;00m\n\u001b[1;32m      4\u001b[0m \n\u001b[1;32m      5\u001b[0m \u001b[38;5;66;03m# Box plot for work_exp\u001b[39;00m\n\u001b[0;32m----> 6\u001b[0m sns\u001b[38;5;241m.\u001b[39mboxplot(x\u001b[38;5;241m=\u001b[39m\u001b[43mdata_dev_survey_imputed2\u001b[49m\u001b[43m[\u001b[49m\u001b[38;5;124;43m'\u001b[39;49m\u001b[38;5;124;43mwork_exp_scaled\u001b[39;49m\u001b[38;5;124;43m'\u001b[39;49m\u001b[43m]\u001b[49m)\n\u001b[1;32m      7\u001b[0m plt\u001b[38;5;241m.\u001b[39mshow();\n\u001b[1;32m      9\u001b[0m \u001b[38;5;66;03m# Scatter plot for years_code_pro vs. converted_comp_yearly\u001b[39;00m\n",
      "File \u001b[0;32m~/.virtualenvs/r-reticulate/lib/python3.9/site-packages/pandas/core/frame.py:4107\u001b[0m, in \u001b[0;36mDataFrame.__getitem__\u001b[0;34m(self, key)\u001b[0m\n\u001b[1;32m   4105\u001b[0m \u001b[38;5;28;01mif\u001b[39;00m \u001b[38;5;28mself\u001b[39m\u001b[38;5;241m.\u001b[39mcolumns\u001b[38;5;241m.\u001b[39mnlevels \u001b[38;5;241m>\u001b[39m \u001b[38;5;241m1\u001b[39m:\n\u001b[1;32m   4106\u001b[0m     \u001b[38;5;28;01mreturn\u001b[39;00m \u001b[38;5;28mself\u001b[39m\u001b[38;5;241m.\u001b[39m_getitem_multilevel(key)\n\u001b[0;32m-> 4107\u001b[0m indexer \u001b[38;5;241m=\u001b[39m \u001b[38;5;28;43mself\u001b[39;49m\u001b[38;5;241;43m.\u001b[39;49m\u001b[43mcolumns\u001b[49m\u001b[38;5;241;43m.\u001b[39;49m\u001b[43mget_loc\u001b[49m\u001b[43m(\u001b[49m\u001b[43mkey\u001b[49m\u001b[43m)\u001b[49m\n\u001b[1;32m   4108\u001b[0m \u001b[38;5;28;01mif\u001b[39;00m is_integer(indexer):\n\u001b[1;32m   4109\u001b[0m     indexer \u001b[38;5;241m=\u001b[39m [indexer]\n",
      "File \u001b[0;32m~/.virtualenvs/r-reticulate/lib/python3.9/site-packages/pandas/core/indexes/base.py:3819\u001b[0m, in \u001b[0;36mIndex.get_loc\u001b[0;34m(self, key)\u001b[0m\n\u001b[1;32m   3814\u001b[0m     \u001b[38;5;28;01mif\u001b[39;00m \u001b[38;5;28misinstance\u001b[39m(casted_key, \u001b[38;5;28mslice\u001b[39m) \u001b[38;5;129;01mor\u001b[39;00m (\n\u001b[1;32m   3815\u001b[0m         \u001b[38;5;28misinstance\u001b[39m(casted_key, abc\u001b[38;5;241m.\u001b[39mIterable)\n\u001b[1;32m   3816\u001b[0m         \u001b[38;5;129;01mand\u001b[39;00m \u001b[38;5;28many\u001b[39m(\u001b[38;5;28misinstance\u001b[39m(x, \u001b[38;5;28mslice\u001b[39m) \u001b[38;5;28;01mfor\u001b[39;00m x \u001b[38;5;129;01min\u001b[39;00m casted_key)\n\u001b[1;32m   3817\u001b[0m     ):\n\u001b[1;32m   3818\u001b[0m         \u001b[38;5;28;01mraise\u001b[39;00m InvalidIndexError(key)\n\u001b[0;32m-> 3819\u001b[0m     \u001b[38;5;28;01mraise\u001b[39;00m \u001b[38;5;167;01mKeyError\u001b[39;00m(key) \u001b[38;5;28;01mfrom\u001b[39;00m\u001b[38;5;250m \u001b[39m\u001b[38;5;21;01merr\u001b[39;00m\n\u001b[1;32m   3820\u001b[0m \u001b[38;5;28;01mexcept\u001b[39;00m \u001b[38;5;167;01mTypeError\u001b[39;00m:\n\u001b[1;32m   3821\u001b[0m     \u001b[38;5;66;03m# If we have a listlike key, _check_indexing_error will raise\u001b[39;00m\n\u001b[1;32m   3822\u001b[0m     \u001b[38;5;66;03m#  InvalidIndexError. Otherwise we fall through and re-raise\u001b[39;00m\n\u001b[1;32m   3823\u001b[0m     \u001b[38;5;66;03m#  the TypeError.\u001b[39;00m\n\u001b[1;32m   3824\u001b[0m     \u001b[38;5;28mself\u001b[39m\u001b[38;5;241m.\u001b[39m_check_indexing_error(key)\n",
      "\u001b[0;31mKeyError\u001b[0m: 'work_exp_scaled'"
     ]
    }
   ],
   "source": [
    "# Histogram for years_code_pro\n",
    "# sns.histplot(data_dev_survey_imputed2.years_code_pro)\n",
    "# plt.show();\n",
    "\n",
    "# Box plot for work_exp\n",
    "sns.boxplot(x=data_dev_survey_imputed2['work_exp_scaled'])\n",
    "plt.show();\n",
    "\n",
    "# Scatter plot for years_code_pro vs. converted_comp_yearly"
   ]
  },
  {
   "cell_type": "markdown",
   "id": "b435e157-b7f4-4be2-8925-311c8267dcf5",
   "metadata": {},
   "source": [
    "## Exercise 2.3: Data Preprocessing\n",
    "\n",
    "### Inspect the Data after Loading"
   ]
  },
  {
   "cell_type": "code",
   "execution_count": null,
   "id": "04c1e00b-ba64-42aa-bd72-f2335fb41b0b",
   "metadata": {},
   "outputs": [],
   "source": [
    "# Display basic information about the dataset\n",
    "\n",
    "\n",
    "# Display the first few rows of the dataset"
   ]
  },
  {
   "cell_type": "markdown",
   "id": "157a036e-9ab5-4beb-a3e0-029339c82253",
   "metadata": {},
   "source": [
    "### Handle Missing Values"
   ]
  },
  {
   "cell_type": "code",
   "execution_count": null,
   "id": "b0363015-367b-481f-901b-484bb571c3d3",
   "metadata": {},
   "outputs": [],
   "source": [
    "# Check for missing values\n",
    "\n",
    "\n",
    "# Make a copy of the dataset for imputation\n",
    "\n",
    "\n",
    "# Select only numeric columns\n",
    "\n",
    "\n",
    "# Fill missing values in numeric columns with the median\n",
    "\n",
    "\n",
    "# Display the first few rows of the imputed dataset"
   ]
  },
  {
   "cell_type": "markdown",
   "id": "90e497a9-6c62-43ea-8571-445b041bd592",
   "metadata": {},
   "source": [
    "### Handle Outliers"
   ]
  },
  {
   "cell_type": "code",
   "execution_count": null,
   "id": "17b8e1eb-b7af-4e4b-876e-ffab68b311c2",
   "metadata": {},
   "outputs": [],
   "source": [
    "# Select only numeric columns\n",
    "\n",
    "# Identify outliers using IQR\n",
    "\n",
    "\n",
    "# Remove outliers"
   ]
  },
  {
   "cell_type": "markdown",
   "id": "1ffb9222-7c49-4910-a392-db1a5baef6b1",
   "metadata": {},
   "source": [
    "### Data Transformation"
   ]
  },
  {
   "cell_type": "code",
   "execution_count": null,
   "id": "8fc1fdcb-ee01-4864-8197-22837b312cec",
   "metadata": {},
   "outputs": [],
   "source": [
    "# Normalization on total_cup_points\n",
    "\n",
    "\n",
    "# Standardization on acidity\n",
    "\n",
    "\n",
    "# Encoding categorical variables (country and continent of origin)"
   ]
  },
  {
   "cell_type": "markdown",
   "id": "109d847b-4710-4764-8452-2e1f71b935ba",
   "metadata": {},
   "source": [
    "### Data Visualizations on Preprocessed Data"
   ]
  },
  {
   "cell_type": "code",
   "execution_count": null,
   "id": "fb04a8b5-3662-412e-a274-53222f587f19",
   "metadata": {},
   "outputs": [],
   "source": [
    "# Histogram for aroma\n",
    "\n",
    "\n",
    "# Box plot for acidity\n",
    "\n",
    "\n",
    "# Scatter plot for aroma vs. total_cup_points"
   ]
  },
  {
   "cell_type": "markdown",
   "id": "f283652b-0cfd-4620-97ca-dd253e9fcd52",
   "metadata": {},
   "source": [
    "------------------------------------------------------------------------\n",
    "\n",
    "## Walkthrough 2.4: Correlations\n",
    "\n",
    "### Correlation Matrix"
   ]
  },
  {
   "cell_type": "code",
   "execution_count": null,
   "id": "a40dfb1c-615f-400e-9731-b16fa8df296e",
   "metadata": {},
   "outputs": [],
   "source": [
    "# Select only numeric columns\n",
    "\n",
    "# Calculate the correlation matrix\n",
    "\n",
    "# Display the correlation matrix"
   ]
  },
  {
   "cell_type": "markdown",
   "id": "d44c6cdb-dc88-4254-b41e-41c6a789a084",
   "metadata": {},
   "source": [
    "### Visualize Correlations"
   ]
  },
  {
   "cell_type": "code",
   "execution_count": null,
   "id": "98d2900d-47d0-40f0-a9d9-f391bfb0bc09",
   "metadata": {},
   "outputs": [],
   "source": [
    "# Heatmap for correlation matrix"
   ]
  },
  {
   "cell_type": "markdown",
   "id": "fd5d3ad0-e85c-4a3f-83ee-de7d2322bbad",
   "metadata": {},
   "source": [
    "### Create Scatter Plots for Meaningful Correlations"
   ]
  },
  {
   "cell_type": "code",
   "execution_count": null,
   "id": "75d9e746-b871-4926-a8c5-694911cefcde",
   "metadata": {},
   "outputs": [],
   "source": [
    "# Scatter plot for years_code_pro vs. years_code\n",
    "\n",
    "\n",
    "# Scatter plot for work_exp vs. years_code_pro"
   ]
  },
  {
   "cell_type": "markdown",
   "id": "957ff368-e3d7-4651-9eea-91c4820f19c9",
   "metadata": {},
   "source": [
    "## Exercise 2.4: Correlations\n",
    "\n",
    "### Correlation Matrix"
   ]
  },
  {
   "cell_type": "code",
   "execution_count": null,
   "id": "5bdfac8d-3b56-4c7c-b9a0-2a95acc9064a",
   "metadata": {},
   "outputs": [],
   "source": [
    "# Select only numeric columns\n",
    "\n",
    "# Remove clean_cup and sweetness too\n",
    "\n",
    "# Calculate the correlation matrix\n",
    "\n",
    "# Display the correlation matrix"
   ]
  },
  {
   "cell_type": "markdown",
   "id": "3e815f6d-b270-40f9-9c41-6adee927b708",
   "metadata": {},
   "source": [
    "### Visualize Correlations"
   ]
  },
  {
   "cell_type": "code",
   "execution_count": null,
   "id": "091d2442-6a2e-46a5-b25c-a546df2f5cc5",
   "metadata": {},
   "outputs": [],
   "source": [
    "# Heatmap for correlation matrix"
   ]
  },
  {
   "cell_type": "markdown",
   "id": "b4745e27-0202-44a3-8339-ce171866ce29",
   "metadata": {},
   "source": [
    "### Create Scatter Plots for Meaningful Correlations"
   ]
  },
  {
   "cell_type": "code",
   "execution_count": null,
   "id": "326beda4-672f-43da-b839-ceedb6e80830",
   "metadata": {},
   "outputs": [],
   "source": [
    "# Scatter plot for flavor vs. total_cup_points\n",
    "\n",
    "\n",
    "# Scatter plot for overall vs. total_cup_points"
   ]
  },
  {
   "cell_type": "markdown",
   "id": "168faa30-6140-42ca-bcd5-70ed8c0f9866",
   "metadata": {},
   "source": [
    "------------------------------------------------------------------------\n",
    "\n",
    "# Week 3\n",
    "\n",
    "## Walkthrough 3.1: Simulating Distributions\n",
    "\n",
    "### Simulating Binomial"
   ]
  },
  {
   "cell_type": "code",
   "execution_count": null,
   "id": "09d37859-1bef-4e14-97fb-14b5c3da5522",
   "metadata": {},
   "outputs": [],
   "source": [
    "# Simulate binomial distribution\n",
    "\n",
    "# Plot histogram"
   ]
  },
  {
   "cell_type": "markdown",
   "id": "985b497a-1f04-44f1-9670-1245ce300109",
   "metadata": {},
   "source": [
    "### Simulating Normal"
   ]
  },
  {
   "cell_type": "code",
   "execution_count": null,
   "id": "51ae57fa-43e6-4291-ace6-35a3da79423f",
   "metadata": {},
   "outputs": [],
   "source": [
    "# Simulate normal distribution\n",
    "\n",
    "# Plot histogram"
   ]
  },
  {
   "cell_type": "markdown",
   "id": "dc171467-a9c9-4ca4-a393-49d4e034db6a",
   "metadata": {},
   "source": [
    "## Exercise 3.1:\n",
    "\n",
    "### Simulating Poisson"
   ]
  },
  {
   "cell_type": "code",
   "execution_count": null,
   "id": "5a171211-0a64-4abb-85af-f33ede529e6b",
   "metadata": {},
   "outputs": [],
   "source": [
    "# Simulate Poisson distribution with lambda (lam) parameter 3\n",
    "\n",
    "# Plot histogram"
   ]
  },
  {
   "cell_type": "markdown",
   "id": "5b6acc82-e6ea-4a1e-8ff2-4c4ba6b366b8",
   "metadata": {},
   "source": [
    "### Simulating Exponential"
   ]
  },
  {
   "cell_type": "code",
   "execution_count": null,
   "id": "628cd53c-c860-478f-986d-98f2c5e972af",
   "metadata": {},
   "outputs": [],
   "source": [
    "# Simulate exponential distribution with scale parameter 1\n",
    "\n",
    "# Plot histogram"
   ]
  },
  {
   "cell_type": "markdown",
   "id": "ccd1edb4-305b-47eb-a3b3-01fd6ff6a390",
   "metadata": {},
   "source": [
    "------------------------------------------------------------------------\n",
    "\n",
    "## Walkthrough 3.2: t-tests"
   ]
  },
  {
   "cell_type": "code",
   "execution_count": null,
   "id": "115e3c3b-71e2-42c5-9feb-ecf512a25aba",
   "metadata": {},
   "outputs": [],
   "source": [
    "# One-sample t-test checking for evidence that mu compensation > 85000"
   ]
  },
  {
   "cell_type": "code",
   "execution_count": null,
   "id": "1aeb1aab-48b3-434b-8b44-dc3ff5772d60",
   "metadata": {},
   "outputs": [],
   "source": [
    "# Two-sample t-test comparing compensation across plans_to_use_ai groups\n",
    "# Checking for a difference"
   ]
  },
  {
   "cell_type": "markdown",
   "id": "f50ce8dd-a712-4898-aafd-ea64fbe31e0a",
   "metadata": {},
   "source": [
    "## Exercise 3.2: t-tests"
   ]
  },
  {
   "cell_type": "code",
   "execution_count": null,
   "id": "08020417-848f-4fac-972c-3b1099752814",
   "metadata": {},
   "outputs": [],
   "source": [
    "# One-sample t-test checking for evidence that mu flavor < 7.8"
   ]
  },
  {
   "cell_type": "code",
   "execution_count": null,
   "id": "e71cbf59-50ce-4261-b27e-0942d7a75b34",
   "metadata": {},
   "outputs": [],
   "source": [
    "# Two-sample t-test checking for difference in Columbia and Brazil total_cup_points"
   ]
  },
  {
   "cell_type": "markdown",
   "id": "598df608-5912-4eb2-b50b-68cc597b0d68",
   "metadata": {},
   "source": [
    "------------------------------------------------------------------------\n",
    "\n",
    "## Walkthrough 3.3: Comparative Tests"
   ]
  },
  {
   "cell_type": "code",
   "execution_count": null,
   "id": "fd3b81a3-34ad-4ab6-9e75-0c3aae84ce3f",
   "metadata": {},
   "outputs": [],
   "source": [
    "# Perform one-way ANOVA comparing compensation across different levels of\n",
    "# remote_work"
   ]
  },
  {
   "cell_type": "code",
   "execution_count": null,
   "id": "5ff6ee79-3651-450a-866f-7c2989333d04",
   "metadata": {},
   "outputs": [],
   "source": [
    "# Create a contingency table of employment and remote_work\n",
    "\n",
    "\n",
    "# Perform chi-square test"
   ]
  },
  {
   "cell_type": "markdown",
   "id": "d59f19cc-0e69-4b9d-a33f-9318ab45da02",
   "metadata": {},
   "source": [
    "## Exercise 3.3: Comparative Tests"
   ]
  },
  {
   "cell_type": "code",
   "execution_count": null,
   "id": "100f5fff-99cf-4df8-90d5-19f88fbfde16",
   "metadata": {},
   "outputs": [],
   "source": [
    "# Perform one-way ANOVA comparing total_cup_points across country_of_origin"
   ]
  },
  {
   "cell_type": "code",
   "execution_count": null,
   "id": "a19964e5-4845-4de7-aab5-aafed5c5adde",
   "metadata": {},
   "outputs": [],
   "source": [
    "# Perform a chi-square test of independence for processing_method versus\n",
    "# continent_of_origin\n",
    "\n",
    "# Create a contingency table\n",
    "\n",
    "\n",
    "# Perform chi-square test"
   ]
  },
  {
   "cell_type": "markdown",
   "id": "8da2b277-e81e-43f8-9630-b91ade0fc850",
   "metadata": {},
   "source": [
    "------------------------------------------------------------------------\n",
    "\n",
    "## Walkthrough 3.4: Non-Parametric Tests"
   ]
  },
  {
   "cell_type": "code",
   "execution_count": null,
   "id": "49b3e7b0-08d7-4a55-b8ee-6dd6e40414f5",
   "metadata": {},
   "outputs": [],
   "source": [
    "# Perform Mann-Whitney U Test comparing compensation for Remote and In-person"
   ]
  },
  {
   "cell_type": "code",
   "execution_count": null,
   "id": "fd18171b-bc59-40b0-bdf6-ccfb7fece0e4",
   "metadata": {},
   "outputs": [],
   "source": [
    "# Perform Kruskal-Wallis H Test comparing compensation across countries"
   ]
  },
  {
   "cell_type": "markdown",
   "id": "94a3645a-a2eb-4f6b-9383-45fb9b7e11e0",
   "metadata": {},
   "source": [
    "## Exercise 3.4: Non-Parametric Tests"
   ]
  },
  {
   "cell_type": "code",
   "execution_count": null,
   "id": "15d385a1-0126-48aa-b5a1-65da6cc99716",
   "metadata": {},
   "outputs": [],
   "source": [
    "# Perform Mann-Whitney U Test comparing total_cup_points for Guatemala\n",
    "# and Honduras"
   ]
  },
  {
   "cell_type": "code",
   "execution_count": null,
   "id": "4f9ed9d9-bb0e-44ec-8367-2a237f9b24a7",
   "metadata": {},
   "outputs": [],
   "source": [
    "# Perform Kruskal-Wallis H Test comparing total_cup_points across \n",
    "# continent_of_origin"
   ]
  }
 ],
 "metadata": {
  "kernelspec": {
   "display_name": "Python 3 (ipykernel)",
   "language": "python",
   "name": "python3"
  },
  "language_info": {
   "codemirror_mode": {
    "name": "ipython",
    "version": 3
   },
   "file_extension": ".py",
   "mimetype": "text/x-python",
   "name": "python",
   "nbconvert_exporter": "python",
   "pygments_lexer": "ipython3",
   "version": "3.9.6"
  }
 },
 "nbformat": 4,
 "nbformat_minor": 5
}
