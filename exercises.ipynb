{
  "cells": [
    {
      "cell_type": "markdown",
      "metadata": {},
      "source": [
        "# Walkthroughs and Exercises for \\*Fundamentals of Statistics with\n",
        "\n",
        "Python\\*\n",
        "\n",
        "Dr. Chester Ismay"
      ],
      "id": "82218ee2-5316-45cb-b1d3-0ce1496e4948"
    },
    {
      "cell_type": "code",
      "execution_count": null,
      "metadata": {},
      "outputs": [],
      "source": [
        "# Install the packages directly if needed with pip\n",
        "# Check the repo's README below for more information\n",
        "!pip install numpy pandas scipy matplotlib seaborn statsmodels scikit-learn jupyter"
      ],
      "id": "443184b1-52d9-43bc-8609-8b8708efc9cb"
    },
    {
      "cell_type": "code",
      "execution_count": null,
      "metadata": {},
      "outputs": [],
      "source": [
        "import pandas as pd\n",
        "\n",
        "# Display all columns\n",
        "pd.set_option('display.max_columns', None)\n",
        "\n",
        "# Display all outputs from each cell\n",
        "from IPython.core.interactiveshell import InteractiveShell\n",
        "InteractiveShell.ast_node_interactivity = \"all\""
      ],
      "id": "a5ac970c-9140-4f7d-a61c-3d98d4b22770"
    },
    {
      "cell_type": "markdown",
      "metadata": {},
      "source": [
        "# Week 1\n",
        "\n",
        "## Walkthrough 1.1: Getting Started\n",
        "\n",
        "### Setting Up the Python Environment\n",
        "\n",
        "If you haven’t already installed Python, Jupyter, and the necessary\n",
        "packages, there are instructions on the course repo in the README to do\n",
        "so\n",
        "[here](https://github.com/ismayc/oreilly-fundamentals-of-statistics-with-python/blob/main/README.md).\n",
        "\n",
        "If you aren’t able to do this on your machine, you may want to check out\n",
        "[Google Colab](https://colab.research.google.com/). It’s a free service\n",
        "that allows you to run Jupyter notebooks in the cloud. Alternatively,\n",
        "I’ve set up some temporary notebooks on Binder\n",
        "([![()](https://mybinder.org/badge_logo.svg)](https://mybinder.org/v2/gh/ismayc/oreilly-fundamentals-of-statistics-with-python/main?urlpath=%2Fdoc%2Ftree%2Fexercises.ipynb))\n",
        "that you can work with online as well."
      ],
      "id": "eacd059d-f3ef-4307-a186-1292d4ce2802"
    },
    {
      "cell_type": "code",
      "execution_count": null,
      "metadata": {},
      "outputs": [],
      "source": [
        "# Importing libraries/modules and aliasing them as needed\n",
        "import numpy as np\n",
        "import pandas as pd\n",
        "import scipy.stats as stats\n",
        "import matplotlib.pyplot as plt\n",
        "import seaborn as sns\n",
        "import statsmodels.api as sm\n",
        "from sklearn.preprocessing import MinMaxScaler, StandardScaler"
      ],
      "id": "803fd848-c9b1-43eb-b469-bb640ab45320"
    },
    {
      "cell_type": "markdown",
      "metadata": {},
      "source": [
        "### Exploring a dataset"
      ],
      "id": "4a9676cb-8375-4e41-9752-c383152439ee"
    },
    {
      "cell_type": "code",
      "execution_count": null,
      "metadata": {},
      "outputs": [],
      "source": [
        "# Load in the dataset"
      ],
      "id": "184c24e4-8293-443c-a154-b59b4b3bf65b"
    },
    {
      "cell_type": "code",
      "execution_count": null,
      "metadata": {},
      "outputs": [],
      "source": [
        "# Display information about the DataFrame"
      ],
      "id": "0fff4d2c-d256-42ce-b465-33b9114d3989"
    },
    {
      "cell_type": "markdown",
      "metadata": {},
      "source": [
        "### Performing basic statistical functions using NumPy, Pandas, and SciPy.\n",
        "\n",
        "#### Using NumPy"
      ],
      "id": "4406b42b-5f6f-4113-a663-7568fea3c762"
    },
    {
      "cell_type": "code",
      "execution_count": null,
      "metadata": {},
      "outputs": [],
      "source": [
        "# Calculate the mean of the years_code_pro column"
      ],
      "id": "b27d8ac2-371c-4064-8282-b92e1d58f927"
    },
    {
      "cell_type": "code",
      "execution_count": null,
      "metadata": {},
      "outputs": [],
      "source": [
        "# Calculate the median of the work_exp column"
      ],
      "id": "6e977817-0d4f-41ab-ad54-a9d704265ba8"
    },
    {
      "cell_type": "code",
      "execution_count": null,
      "metadata": {},
      "outputs": [],
      "source": [
        "# Calculate the standard deviation of the converted_comp_yearly column"
      ],
      "id": "ac45187e-0309-435c-aee5-39e3c0be384f"
    },
    {
      "cell_type": "markdown",
      "metadata": {},
      "source": [
        "#### Using Pandas"
      ],
      "id": "60e869f6-1ff1-4e6b-8314-0ecec4a5ca33"
    },
    {
      "cell_type": "code",
      "execution_count": null,
      "metadata": {},
      "outputs": [],
      "source": [
        "# Display summary statistics on the numeric columns of the DataFrame"
      ],
      "id": "91aaf25c-8c0f-4b50-a695-d52952eb5ec9"
    },
    {
      "cell_type": "markdown",
      "metadata": {},
      "source": [
        "#### Using SciPy"
      ],
      "id": "49d1c73c-2738-4967-927e-739bc6acdf13"
    },
    {
      "cell_type": "code",
      "execution_count": null,
      "metadata": {},
      "outputs": [],
      "source": [
        "# Separate the data into two groups\n",
        "\n",
        "\n",
        "\n",
        "# Perform the t-test\n",
        "\n",
        "\n",
        "# Print the results\n"
      ],
      "id": "5f922216-74db-4c14-9d77-3392901ea0aa"
    },
    {
      "cell_type": "markdown",
      "metadata": {},
      "source": [
        "## Exercise 1.1: Getting Started\n",
        "\n",
        "### Setting Up the Python Environment\n",
        "\n",
        "If you ran the `# Importing libraries and aliasing them` code above, you\n",
        "should be good to proceed here. If not, scroll up and run it.\n",
        "\n",
        "### Exploring a dataset"
      ],
      "id": "e8a4a98e-a087-4841-85ff-a476ef641c9b"
    },
    {
      "cell_type": "code",
      "execution_count": null,
      "metadata": {},
      "outputs": [],
      "source": [
        "# Load in the coffee_quality dataset"
      ],
      "id": "8e4bbc8a-47ac-46e4-a4c7-d01b024119d9"
    },
    {
      "cell_type": "code",
      "execution_count": null,
      "metadata": {},
      "outputs": [],
      "source": [
        "# Display information about the DataFrame"
      ],
      "id": "80458317-d7e9-47ac-b130-c4241d1e7c8a"
    },
    {
      "cell_type": "markdown",
      "metadata": {},
      "source": [
        "### Performing basic statistical functions using NumPy, Pandas, and SciPy.\n",
        "\n",
        "#### Using NumPy"
      ],
      "id": "bc49fc15-1293-4ca5-a74f-93a134845d7c"
    },
    {
      "cell_type": "code",
      "execution_count": null,
      "metadata": {},
      "outputs": [],
      "source": [
        "# Calculate the mean of the aroma column"
      ],
      "id": "ddf92ab0-8ee1-4e43-b225-fed8a12b2a32"
    },
    {
      "cell_type": "code",
      "execution_count": null,
      "metadata": {},
      "outputs": [],
      "source": [
        "# Calculate the median of the total_cup_points column"
      ],
      "id": "72dbad3d-a201-4164-a350-bc864ac2627f"
    },
    {
      "cell_type": "code",
      "execution_count": null,
      "metadata": {},
      "outputs": [],
      "source": [
        "# Calculate the standard deviation of the moisture_percentage column"
      ],
      "id": "fc97c058-862b-43f7-8731-332acd1b6d64"
    },
    {
      "cell_type": "markdown",
      "metadata": {},
      "source": [
        "#### Using Pandas"
      ],
      "id": "3ea3e674-7bb7-4530-8e38-06977211d7a7"
    },
    {
      "cell_type": "code",
      "execution_count": null,
      "metadata": {},
      "outputs": [],
      "source": [
        "# Display summary statistics on the numeric columns of the DataFrame"
      ],
      "id": "772a5f64-0cde-44ce-b0b5-4d70fdb423c6"
    },
    {
      "cell_type": "markdown",
      "metadata": {},
      "source": [
        "#### Using SciPy"
      ],
      "id": "d4059117-7800-4a8b-a8e6-19fec6505c3c"
    },
    {
      "cell_type": "code",
      "execution_count": null,
      "metadata": {},
      "outputs": [],
      "source": [
        "# Focus on only Asia and North America entries\n",
        "\n",
        "# Separate the data into two groups\n",
        "\n",
        "\n",
        "# Perform the t-test to test for difference in total_cup_points\n",
        "\n",
        "\n",
        "# Print the results\n"
      ],
      "id": "fb82397e-4930-45a4-96cd-670fb90777df"
    },
    {
      "cell_type": "markdown",
      "metadata": {},
      "source": [
        "------------------------------------------------------------------------\n",
        "\n",
        "## Walkthrough 1.2: Data Summarizing\n",
        "\n",
        "### Compute and interpret measures of central tendency"
      ],
      "id": "f7101595-109d-4021-ba6d-9d274fd9292c"
    },
    {
      "cell_type": "code",
      "execution_count": null,
      "metadata": {},
      "outputs": [],
      "source": [
        "# Calculate center statistics for years_code_pro\n",
        "\n",
        "\n",
        "# To extract just the value for mode"
      ],
      "id": "08ce610e-fac0-404e-ac8c-e3e8d0756fcc"
    },
    {
      "cell_type": "markdown",
      "metadata": {},
      "source": [
        "### Compute and interpret measures of variation"
      ],
      "id": "755311a2-e6d9-4210-9bd0-0d8a9d40ba9e"
    },
    {
      "cell_type": "code",
      "execution_count": null,
      "metadata": {},
      "outputs": [],
      "source": [
        "# Calculate spread statistics for years_code_pro\n"
      ],
      "id": "95cb58fc-35e5-4188-8f71-628e47e4c7d7"
    },
    {
      "cell_type": "code",
      "execution_count": null,
      "metadata": {},
      "outputs": [],
      "source": [
        "# Calculate the five-number summary for 'years_code_pro'\n",
        "\n",
        "\n",
        "# Print them out"
      ],
      "id": "dcc28085-9fe1-4a13-ac13-1d208ddd2058"
    },
    {
      "cell_type": "markdown",
      "metadata": {},
      "source": [
        "## Exercise 1.2: Data Summarizing"
      ],
      "id": "052eb762-0fb0-4715-81ca-77f254a032b4"
    },
    {
      "cell_type": "code",
      "execution_count": null,
      "metadata": {},
      "outputs": [],
      "source": [
        "# Calculate center statistics for 'aroma'"
      ],
      "id": "1a036009-eed1-4824-a527-a034482483df"
    },
    {
      "cell_type": "code",
      "execution_count": null,
      "metadata": {},
      "outputs": [],
      "source": [
        "# Calculate spread statistics for 'aroma'"
      ],
      "id": "770187cc-e7b5-4d68-9ca2-73d34bf00715"
    },
    {
      "cell_type": "code",
      "execution_count": null,
      "metadata": {},
      "outputs": [],
      "source": [
        "# Calculate the five-number summary for 'aroma'"
      ],
      "id": "58ba038a-1fd4-4b27-99f8-e91df19e20ab"
    },
    {
      "cell_type": "markdown",
      "metadata": {},
      "source": [
        "------------------------------------------------------------------------\n",
        "\n",
        "## Walkthrough 1.3: Cleaning and Preparing Data with Pandas"
      ],
      "id": "21e0caed-2745-46c1-8a83-01a09947b873"
    },
    {
      "cell_type": "code",
      "execution_count": null,
      "metadata": {},
      "outputs": [],
      "source": [
        "# Histogram for years_code_pro"
      ],
      "id": "4f33e842-a405-4176-8b79-e24f787a0b2b"
    },
    {
      "cell_type": "code",
      "execution_count": null,
      "metadata": {},
      "outputs": [],
      "source": [
        "# Set the default figure size for all plots"
      ],
      "id": "57ad5dea-5025-4a8a-a34b-b56e0b3f4fc6"
    },
    {
      "cell_type": "code",
      "execution_count": null,
      "metadata": {},
      "outputs": [],
      "source": [
        "# Box plot for work_exp"
      ],
      "id": "96907e4c-4e67-419f-9b63-050425d17613"
    },
    {
      "cell_type": "code",
      "execution_count": null,
      "metadata": {},
      "outputs": [],
      "source": [
        "# Scatter plot for years_code_pro vs. converted_comp_yearly"
      ],
      "id": "75f4aee0-4af9-4fcd-b3f9-33ee5bb3f7dd"
    },
    {
      "cell_type": "markdown",
      "metadata": {},
      "source": [
        "## Exercise 1.3: Cleaning and Preparing Data with Pandas"
      ],
      "id": "06cb242e-f700-4c73-8cb7-607cae57b661"
    },
    {
      "cell_type": "code",
      "execution_count": null,
      "metadata": {},
      "outputs": [],
      "source": [
        "# Histogram for acidity"
      ],
      "id": "880b0a51-3a69-4ad9-8f87-d72204750348"
    },
    {
      "cell_type": "code",
      "execution_count": null,
      "metadata": {},
      "outputs": [],
      "source": [
        "# Box plot for body"
      ],
      "id": "de481710-306e-43f3-a328-fd26ce7b7cb5"
    },
    {
      "cell_type": "code",
      "execution_count": null,
      "metadata": {},
      "outputs": [],
      "source": [
        "# Scatter plot for body vs. acidity"
      ],
      "id": "28082b80-1f3c-423a-aa14-1ef10775111b"
    },
    {
      "cell_type": "markdown",
      "metadata": {},
      "source": [
        "------------------------------------------------------------------------\n",
        "\n",
        "## Walkthrough 1.4: Sampling Distribution Generation"
      ],
      "id": "a70db917-31e8-4a7e-842f-cd67f63d12dc"
    },
    {
      "cell_type": "code",
      "execution_count": null,
      "metadata": {},
      "outputs": [],
      "source": [
        "# Think of our data as a population to draw from\n",
        "\n",
        "# Generate a large sample from the 'converted_comp_yearly' column\n",
        "# Parameters\n",
        "\n",
        "\n",
        "# Set a seed to make code reproducible\n",
        "\n",
        "\n",
        "# Simulate sampling distribution of the mean\n",
        "\n",
        "\n",
        "# Plot the sampling distribution of the sample means"
      ],
      "id": "1ef2acb8-f0ee-4c69-97ce-4360fb67f861"
    },
    {
      "cell_type": "markdown",
      "metadata": {},
      "source": [
        "## Exercise 1.4: Sampling Distribution Generation"
      ],
      "id": "51dfe232-b9b9-4bd2-a442-8d1ca6da7296"
    },
    {
      "cell_type": "code",
      "execution_count": null,
      "metadata": {},
      "outputs": [],
      "source": [
        "# Think of our aroma data as a population to draw from\n",
        "\n",
        "# Parameters\n",
        "\n",
        "\n",
        "\n",
        "# Set random seed\n",
        "\n",
        "\n",
        "# Simulate sampling distribution of the mean\n",
        "\n",
        "\n",
        "\n",
        "# Plot the sampling distribution of the sample means"
      ],
      "id": "c91c00f7-ee2c-41d4-8167-f79cc0874110"
    },
    {
      "cell_type": "markdown",
      "metadata": {},
      "source": [
        "------------------------------------------------------------------------\n",
        "\n",
        "# Week 2\n",
        "\n",
        "## Walkthrough 2.1: Advanced Plots"
      ],
      "id": "e6b7e49d-e186-4466-9f30-4469ec6acf83"
    },
    {
      "cell_type": "code",
      "execution_count": null,
      "metadata": {},
      "outputs": [],
      "source": [
        "# Select only numeric columns\n",
        "\n",
        "# Calculate the correlation matrix for numeric columns\n",
        "\n",
        "# Heatmap for correlation matrix"
      ],
      "id": "d33012ea-49fa-416b-b3c3-2c2f46958aee"
    },
    {
      "cell_type": "code",
      "execution_count": null,
      "metadata": {},
      "outputs": [],
      "source": [
        "# Pair plot for selected variables 'years_code_pro', 'work_exp', 'converted_comp_yearly'"
      ],
      "id": "b725752c-3aba-4b5b-91d7-479c95601cf4"
    },
    {
      "cell_type": "code",
      "execution_count": null,
      "metadata": {},
      "outputs": [],
      "source": [
        "# Time series plot\n",
        "\n",
        "\n",
        "# Count the number of surveys completed each day\n",
        "\n",
        "# Plot the counts as a line chart"
      ],
      "id": "0662ddc3-c1b1-49f6-b0b3-c6427950844f"
    },
    {
      "cell_type": "markdown",
      "metadata": {},
      "source": [
        "## Exercise 2.1: Advanced Plots"
      ],
      "id": "3d5cc3a4-f919-4a37-b99d-71aa83bd31bb"
    },
    {
      "cell_type": "code",
      "execution_count": null,
      "metadata": {},
      "outputs": [],
      "source": [
        "# Select only numeric columns\n",
        "\n",
        "# Drop the 'clean_cup' and 'sweetness' columns since they are always 10\n",
        "numeric_columns = numeric_columns.drop(columns=['clean_cup', 'sweetness'], errors='ignore')\n",
        "\n",
        "# Calculate the correlation matrix for numeric columns\n",
        "\n",
        "\n",
        "# Heatmap for correlation matrix"
      ],
      "id": "d7ceea95-8569-441b-8ace-676a7cc61cfa"
    },
    {
      "cell_type": "code",
      "execution_count": null,
      "metadata": {},
      "outputs": [],
      "source": [
        "# Pair plot for selected variables ['aroma', 'acidity', 'body']"
      ],
      "id": "3ca0aec9-80c8-487a-85b8-34e57f6e663a"
    },
    {
      "cell_type": "code",
      "execution_count": null,
      "metadata": {},
      "outputs": [],
      "source": [
        "# Plot the mean total_cup_points for each grading_date\n",
        "\n",
        "# Convert to datetime\n",
        "\n",
        "# Extract the month and year from the grading_date column\n",
        "coffee_quality['month'] = coffee_quality['grading_date'].dt.to_period('M')\n",
        "\n",
        "# Aggregate the mean total_cup_points by month\n",
        "\n",
        "# Plot the mean total_cup_points by month as a line chart"
      ],
      "id": "ef8c4463-bac7-4683-a99d-72cc949e8ace"
    },
    {
      "cell_type": "markdown",
      "metadata": {},
      "source": [
        "------------------------------------------------------------------------\n",
        "\n",
        "## Walkthrough 2.2: EDA\n",
        "\n",
        "### Data Cleaning"
      ],
      "id": "58454869-1378-4a96-b039-7420aaec7561"
    },
    {
      "cell_type": "code",
      "execution_count": null,
      "metadata": {},
      "outputs": [],
      "source": [
        "# Check for missing values\n",
        "\n",
        "\n",
        "# Remove duplicates if any"
      ],
      "id": "fc37dd6b-5716-4d29-89dd-f30ca506e009"
    },
    {
      "cell_type": "markdown",
      "metadata": {},
      "source": [
        "### Data Visualization"
      ],
      "id": "cc30ad91-9540-47f3-afaf-cdea271fb78c"
    },
    {
      "cell_type": "code",
      "execution_count": null,
      "metadata": {},
      "outputs": [],
      "source": [
        "# Histogram for years_code_pro\n",
        "\n",
        "\n",
        "# Box plot for work_exp\n",
        "\n",
        "\n",
        "# Scatter plot for years_code_pro vs. converted_comp_yearly"
      ],
      "id": "0d329262-a59c-4778-9407-bcdf3b7c6e1c"
    },
    {
      "cell_type": "markdown",
      "metadata": {},
      "source": [
        "### Summary Statistics"
      ],
      "id": "87fe2461-1979-4b5c-8e30-80a364007cb8"
    },
    {
      "cell_type": "code",
      "execution_count": null,
      "metadata": {},
      "outputs": [],
      "source": [
        "# Calculate summary statistics"
      ],
      "id": "66baa659-58ea-487a-81e1-5638594466e8"
    },
    {
      "cell_type": "markdown",
      "metadata": {},
      "source": [
        "## Exercise 2.2: EDA\n",
        "\n",
        "### Data Cleaning"
      ],
      "id": "52780f2c-21a4-4108-9dd8-005ea629e3f4"
    },
    {
      "cell_type": "code",
      "execution_count": null,
      "metadata": {},
      "outputs": [],
      "source": [
        "# Check for missing values\n",
        "\n",
        "\n",
        "# Remove duplicates if any"
      ],
      "id": "55da604d-43d5-4bca-bc68-f910f53f012e"
    },
    {
      "cell_type": "markdown",
      "metadata": {},
      "source": [
        "### Data Visualization"
      ],
      "id": "ec416294-c137-418c-9d8c-4bfd3a2a5312"
    },
    {
      "cell_type": "code",
      "execution_count": null,
      "metadata": {},
      "outputs": [],
      "source": [
        "# Histogram for aroma\n",
        "\n",
        "\n",
        "# Box plot for acidity\n",
        "\n",
        "\n",
        "# Scatter plot for aroma vs. total_cup_points"
      ],
      "id": "071b7768-f225-4612-a101-374da69c76c3"
    },
    {
      "cell_type": "markdown",
      "metadata": {},
      "source": [
        "### Summary Statistics"
      ],
      "id": "1d5af980-2ad9-4a22-88c9-d320b3eb70b4"
    },
    {
      "cell_type": "code",
      "execution_count": null,
      "metadata": {},
      "outputs": [],
      "source": [
        "# Calculate summary statistics"
      ],
      "id": "4055a1c2-769c-425a-8f4b-6bb89b4bd173"
    },
    {
      "cell_type": "markdown",
      "metadata": {},
      "source": [
        "------------------------------------------------------------------------\n",
        "\n",
        "## Walkthrough 2.3: Data Preprocessing\n",
        "\n",
        "### Inspect the Data after Loading"
      ],
      "id": "be0a4ae7-5d5d-4450-8d20-dc1d910ebfdc"
    },
    {
      "cell_type": "code",
      "execution_count": null,
      "metadata": {},
      "outputs": [],
      "source": [
        "# Display basic information about the dataset\n",
        "\n",
        "\n",
        "# Display the first few rows of the dataset"
      ],
      "id": "2a99aee8-e043-40ac-8014-cd4881bd509b"
    },
    {
      "cell_type": "markdown",
      "metadata": {},
      "source": [
        "### Handle Missing Values"
      ],
      "id": "9a723f69-1b62-4ed9-b172-e8944188904b"
    },
    {
      "cell_type": "code",
      "execution_count": null,
      "metadata": {},
      "outputs": [],
      "source": [
        "# Check for missing values\n",
        "\n",
        "\n",
        "# Make a copy of the dataset for imputation\n",
        "\n",
        "# Select only numeric columns\n",
        "\n",
        "# Fill missing values in numeric columns with the median\n",
        "\n",
        "\n",
        "# Display the first few rows of the imputed dataset"
      ],
      "id": "c4f07da3-c96f-46b9-ad2f-f5fbf411e40c"
    },
    {
      "cell_type": "markdown",
      "metadata": {},
      "source": [
        "### Handling Outliers"
      ],
      "id": "10ab9f0a-d378-42f7-9d2f-b94c7af1a5c9"
    },
    {
      "cell_type": "code",
      "execution_count": null,
      "metadata": {},
      "outputs": [],
      "source": [
        "# Select only numeric columns\n",
        "\n",
        "# Identify outliers using IQR\n",
        "\n",
        "\n",
        "# Remove outliers"
      ],
      "id": "297a58ab-fd8e-40d5-8f54-5413306f0bca"
    },
    {
      "cell_type": "markdown",
      "metadata": {},
      "source": [
        "### Data Transformation"
      ],
      "id": "4385f1f8-0b22-4eae-8ba0-6ecf214c548b"
    },
    {
      "cell_type": "code",
      "execution_count": null,
      "metadata": {},
      "outputs": [],
      "source": [
        "# Normalization on converted_comp_yearly\n",
        "\n",
        "\n",
        "# Standardization on work_exp\n",
        "\n",
        "\n",
        "# Encoding categorical variables (country)"
      ],
      "id": "2829cd2a-e0da-4457-9d48-7a1608d54127"
    },
    {
      "cell_type": "markdown",
      "metadata": {},
      "source": [
        "### Data Visualizations on Preprocessed Data"
      ],
      "id": "f13b4858-c096-4de8-bcd9-0512cbdea904"
    },
    {
      "cell_type": "code",
      "execution_count": null,
      "metadata": {},
      "outputs": [],
      "source": [
        "# Histogram for years_code_pro\n",
        "\n",
        "\n",
        "# Box plot for work_exp\n",
        "\n",
        "\n",
        "# Scatter plot for years_code_pro vs. converted_comp_yearly"
      ],
      "id": "4862de9e-4ffe-42aa-b235-33f8908fd1b6"
    },
    {
      "cell_type": "markdown",
      "metadata": {},
      "source": [
        "## Exercise 2.3: Data Preprocessing\n",
        "\n",
        "### Inspect the Data after Loading"
      ],
      "id": "f656d083-0490-4b59-bae1-9e538c8fe46c"
    },
    {
      "cell_type": "code",
      "execution_count": null,
      "metadata": {},
      "outputs": [],
      "source": [
        "# Display basic information about the dataset\n",
        "\n",
        "\n",
        "# Display the first few rows of the dataset"
      ],
      "id": "4294e349-1c97-45ae-a2b3-5812e88f601f"
    },
    {
      "cell_type": "markdown",
      "metadata": {},
      "source": [
        "### Handle Missing Values"
      ],
      "id": "8d841f98-ccc2-4fea-bb0f-62da5df8bf8f"
    },
    {
      "cell_type": "code",
      "execution_count": null,
      "metadata": {},
      "outputs": [],
      "source": [
        "# Check for missing values\n",
        "\n",
        "\n",
        "# Make a copy of the dataset for imputation\n",
        "\n",
        "\n",
        "# Select only numeric columns\n",
        "\n",
        "\n",
        "# Fill missing values in numeric columns with the median\n",
        "\n",
        "\n",
        "# Display the first few rows of the imputed dataset"
      ],
      "id": "41d30a9e-80ad-420d-9a5b-7b4e77262444"
    },
    {
      "cell_type": "markdown",
      "metadata": {},
      "source": [
        "### Handle Outliers"
      ],
      "id": "71adff6d-aeaf-4cd4-a761-691a1fb242f8"
    },
    {
      "cell_type": "code",
      "execution_count": null,
      "metadata": {},
      "outputs": [],
      "source": [
        "# Select only numeric columns\n",
        "\n",
        "# Identify outliers using IQR\n",
        "\n",
        "\n",
        "# Remove outliers"
      ],
      "id": "92afb7a2-e0a0-46da-88aa-d3c4d6030598"
    },
    {
      "cell_type": "markdown",
      "metadata": {},
      "source": [
        "### Data Transformation"
      ],
      "id": "6b8c3cc3-c7e0-4e19-8c2c-debfadb0af42"
    },
    {
      "cell_type": "code",
      "execution_count": null,
      "metadata": {},
      "outputs": [],
      "source": [
        "# Normalization on total_cup_points\n",
        "\n",
        "\n",
        "# Standardization on acidity\n",
        "\n",
        "\n",
        "# Encoding categorical variables (country and continent of origin)"
      ],
      "id": "44ec0fe3-26df-4abf-be10-f38da8123031"
    },
    {
      "cell_type": "markdown",
      "metadata": {},
      "source": [
        "### Data Visualizations on Preprocessed Data"
      ],
      "id": "1363949d-c962-454c-b022-22eb96e623d6"
    },
    {
      "cell_type": "code",
      "execution_count": null,
      "metadata": {},
      "outputs": [],
      "source": [
        "# Histogram for aroma\n",
        "\n",
        "\n",
        "# Box plot for acidity\n",
        "\n",
        "\n",
        "# Scatter plot for aroma vs. total_cup_points"
      ],
      "id": "b30dd58b-244d-4218-b949-53a6b7069615"
    },
    {
      "cell_type": "markdown",
      "metadata": {},
      "source": [
        "------------------------------------------------------------------------\n",
        "\n",
        "## Walkthrough 2.4: Correlations\n",
        "\n",
        "### Correlation Matrix"
      ],
      "id": "d9bd7888-56f9-461b-8265-17226e15d511"
    },
    {
      "cell_type": "code",
      "execution_count": null,
      "metadata": {},
      "outputs": [],
      "source": [
        "# Select only numeric columns\n",
        "\n",
        "# Calculate the correlation matrix\n",
        "\n",
        "# Display the correlation matrix"
      ],
      "id": "4b0096f6-4ea5-4f58-af08-704f1323ea5d"
    },
    {
      "cell_type": "markdown",
      "metadata": {},
      "source": [
        "### Visualize Correlations"
      ],
      "id": "792eac96-fcd0-4855-b1db-5e25dbd946a5"
    },
    {
      "cell_type": "code",
      "execution_count": null,
      "metadata": {},
      "outputs": [],
      "source": [
        "# Heatmap for correlation matrix"
      ],
      "id": "d857adb8-fd36-4a5e-b97c-4eea47ec44a0"
    },
    {
      "cell_type": "markdown",
      "metadata": {},
      "source": [
        "### Create Scatter Plots for Meaningful Correlations"
      ],
      "id": "b3aa1704-d295-4816-91cc-d8c07dfe0b8a"
    },
    {
      "cell_type": "code",
      "execution_count": null,
      "metadata": {},
      "outputs": [],
      "source": [
        "# Scatter plot for years_code_pro vs. years_code\n",
        "\n",
        "\n",
        "# Scatter plot for work_exp vs. years_code_pro"
      ],
      "id": "c552e3c9-af70-4a2a-a9ce-adc23d4ee7bd"
    },
    {
      "cell_type": "markdown",
      "metadata": {},
      "source": [
        "## Exercise 2.4: Correlations\n",
        "\n",
        "### Correlation Matrix"
      ],
      "id": "be165cc9-55ce-46d3-a88c-7f73d0fd74d8"
    },
    {
      "cell_type": "code",
      "execution_count": null,
      "metadata": {},
      "outputs": [],
      "source": [
        "# Select only numeric columns\n",
        "\n",
        "# Remove clean_cup and sweetness too\n",
        "\n",
        "# Calculate the correlation matrix\n",
        "\n",
        "# Display the correlation matrix"
      ],
      "id": "00e7b00e-4fc5-4847-ace0-c9e56cb2792e"
    },
    {
      "cell_type": "markdown",
      "metadata": {},
      "source": [
        "### Visualize Correlations"
      ],
      "id": "4db115f0-267e-4369-a90f-bb7f20f5218d"
    },
    {
      "cell_type": "code",
      "execution_count": null,
      "metadata": {},
      "outputs": [],
      "source": [
        "# Heatmap for correlation matrix"
      ],
      "id": "43398def-15c8-45f4-a892-27665496862f"
    },
    {
      "cell_type": "markdown",
      "metadata": {},
      "source": [
        "### Create Scatter Plots for Meaningful Correlations"
      ],
      "id": "8722058a-fc59-4472-8a57-120e9863bba6"
    },
    {
      "cell_type": "code",
      "execution_count": null,
      "metadata": {},
      "outputs": [],
      "source": [
        "# Scatter plot for flavor vs. total_cup_points\n",
        "\n",
        "\n",
        "# Scatter plot for overall vs. total_cup_points"
      ],
      "id": "3936d623-e38b-47e5-b8aa-8d25b0c9238d"
    },
    {
      "cell_type": "markdown",
      "metadata": {},
      "source": [
        "------------------------------------------------------------------------\n",
        "\n",
        "# Week 3\n",
        "\n",
        "## Walkthrough 3.1: Simulating Distributions\n",
        "\n",
        "### Simulating Binomial"
      ],
      "id": "013f46a0-136d-4e15-b50f-dbc82f1ba335"
    },
    {
      "cell_type": "code",
      "execution_count": null,
      "metadata": {},
      "outputs": [],
      "source": [
        "# Simulate binomial distribution\n",
        "\n",
        "# Plot histogram"
      ],
      "id": "e120d8fb-7c8a-42cd-b6f2-fedf61b97f5f"
    },
    {
      "cell_type": "markdown",
      "metadata": {},
      "source": [
        "### Simulating Normal"
      ],
      "id": "a333fd24-9074-484c-a206-dd155b5e2747"
    },
    {
      "cell_type": "code",
      "execution_count": null,
      "metadata": {},
      "outputs": [],
      "source": [
        "# Simulate normal distribution\n",
        "\n",
        "# Plot histogram"
      ],
      "id": "a31885ca-fe33-45d6-9cd6-2496b1856288"
    },
    {
      "cell_type": "markdown",
      "metadata": {},
      "source": [
        "## Exercise 3.1:\n",
        "\n",
        "### Simulating Poisson"
      ],
      "id": "3578432f-f8c3-43b0-a80a-3bf5a0983a68"
    },
    {
      "cell_type": "code",
      "execution_count": null,
      "metadata": {},
      "outputs": [],
      "source": [
        "# Simulate Poisson distribution with lambda (lam) parameter 3\n",
        "\n",
        "# Plot histogram"
      ],
      "id": "9372044c-502f-4858-bd69-c0e84390ea41"
    },
    {
      "cell_type": "markdown",
      "metadata": {},
      "source": [
        "### Simulating Exponential"
      ],
      "id": "789fad6c-0489-47e7-a4d2-8bdcda980ca0"
    },
    {
      "cell_type": "code",
      "execution_count": null,
      "metadata": {},
      "outputs": [],
      "source": [
        "# Simulate exponential distribution with scale parameter 1\n",
        "\n",
        "# Plot histogram"
      ],
      "id": "684b5df9-1a67-496a-bb01-49122b353cfb"
    },
    {
      "cell_type": "markdown",
      "metadata": {},
      "source": [
        "------------------------------------------------------------------------\n",
        "\n",
        "## Walkthrough 3.2: t-tests"
      ],
      "id": "82658fa7-5453-4709-84f9-1cc90ddbb1bd"
    },
    {
      "cell_type": "code",
      "execution_count": null,
      "metadata": {},
      "outputs": [],
      "source": [
        "# One-sample t-test checking for evidence that mu compensation > 85000"
      ],
      "id": "6a961857-3844-49c3-9866-a4ed2f0151e3"
    },
    {
      "cell_type": "code",
      "execution_count": null,
      "metadata": {},
      "outputs": [],
      "source": [
        "# Two-sample t-test comparing compensation across plans_to_use_ai groups\n",
        "# Checking for a difference"
      ],
      "id": "32e5fce0-aa71-45e2-8bee-b24eb665d730"
    },
    {
      "cell_type": "markdown",
      "metadata": {},
      "source": [
        "## Exercise 3.2: t-tests"
      ],
      "id": "cbb04a1f-29b3-49de-bfe5-3ddc6c68c2ba"
    },
    {
      "cell_type": "code",
      "execution_count": null,
      "metadata": {},
      "outputs": [],
      "source": [
        "# One-sample t-test checking for evidence that mu flavor < 7.8"
      ],
      "id": "608a5396-1a26-4957-80f7-0502f7ba9821"
    },
    {
      "cell_type": "code",
      "execution_count": null,
      "metadata": {},
      "outputs": [],
      "source": [
        "# Two-sample t-test checking for difference in Columbia and Brazil total_cup_points"
      ],
      "id": "8a01600a-6775-4262-89ed-19af7018d571"
    },
    {
      "cell_type": "markdown",
      "metadata": {},
      "source": [
        "------------------------------------------------------------------------\n",
        "\n",
        "## Walkthrough 3.3: Comparative Tests"
      ],
      "id": "86a8542d-3abe-4f35-9fd3-13b9bcde34fd"
    },
    {
      "cell_type": "code",
      "execution_count": null,
      "metadata": {},
      "outputs": [],
      "source": [
        "# Perform one-way ANOVA comparing compensation across different levels of\n",
        "# remote_work"
      ],
      "id": "4733b683-4f5c-4240-bf3d-6eb8b93f0b9d"
    },
    {
      "cell_type": "code",
      "execution_count": null,
      "metadata": {},
      "outputs": [],
      "source": [
        "# Create a contingency table of employment and remote_work\n",
        "\n",
        "\n",
        "# Perform chi-square test"
      ],
      "id": "c47f2dcc-6f5b-484c-8597-68d1cef6e76d"
    },
    {
      "cell_type": "markdown",
      "metadata": {},
      "source": [
        "## Exercise 3.3: Comparative Tests"
      ],
      "id": "fbd2b804-7ea0-4f1e-95da-162abc16df67"
    },
    {
      "cell_type": "code",
      "execution_count": null,
      "metadata": {},
      "outputs": [],
      "source": [
        "# Perform one-way ANOVA comparing total_cup_points across country_of_origin"
      ],
      "id": "52f38c7c-5b59-4f03-aead-24995b92fa01"
    },
    {
      "cell_type": "code",
      "execution_count": null,
      "metadata": {},
      "outputs": [],
      "source": [
        "# Perform a chi-square test of independence for processing_method versus\n",
        "# continent_of_origin\n",
        "\n",
        "# Create a contingency table\n",
        "\n",
        "\n",
        "# Perform chi-square test"
      ],
      "id": "7590e31b-2021-4f26-9233-191b0510a1ab"
    },
    {
      "cell_type": "markdown",
      "metadata": {},
      "source": [
        "------------------------------------------------------------------------\n",
        "\n",
        "## Walkthrough 3.4: Non-Parametric Tests"
      ],
      "id": "feb3b26b-f0bd-4cbd-b89f-9af79dce74c6"
    },
    {
      "cell_type": "code",
      "execution_count": null,
      "metadata": {},
      "outputs": [],
      "source": [
        "# Perform Mann-Whitney U Test comparing compensation for Remote and In-person"
      ],
      "id": "dbbb7e1b-5eed-4fbf-8b77-71e0ee27dffa"
    },
    {
      "cell_type": "code",
      "execution_count": null,
      "metadata": {},
      "outputs": [],
      "source": [
        "# Perform Kruskal-Wallis H Test comparing compensation across countries"
      ],
      "id": "42448ad0-fda1-41e0-8341-cc25c2e20570"
    },
    {
      "cell_type": "markdown",
      "metadata": {},
      "source": [
        "## Exercise 3.4: Non-Parametric Tests"
      ],
      "id": "ada4123d-5786-457e-ac51-3129fa2ae5d0"
    },
    {
      "cell_type": "code",
      "execution_count": null,
      "metadata": {},
      "outputs": [],
      "source": [
        "# Perform Mann-Whitney U Test comparing total_cup_points for Guatemala\n",
        "# and Honduras"
      ],
      "id": "fdc72771-be38-4547-bded-66418c3d4e94"
    },
    {
      "cell_type": "code",
      "execution_count": null,
      "metadata": {},
      "outputs": [],
      "source": [
        "# Perform Kruskal-Wallis H Test comparing total_cup_points across \n",
        "# continent_of_origin"
      ],
      "id": "30febe01-584f-4818-9af2-a3bc4fe277a0"
    }
  ],
  "nbformat": 4,
  "nbformat_minor": 5,
  "metadata": {
    "kernelspec": {
      "display_name": "Python 3",
      "language": "python",
      "name": "python3"
    }
  }
}