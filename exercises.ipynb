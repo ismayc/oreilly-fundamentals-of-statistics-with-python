{
  "cells": [
    {
      "cell_type": "markdown",
      "metadata": {},
      "source": [
        "# Walkthroughs and Exercises for Fundamentals of Statistics with Python\n",
        "\n",
        "Dr. Chester Ismay"
      ],
      "id": "35320df3-4231-46c4-b145-29b711f423db"
    },
    {
      "cell_type": "code",
      "execution_count": null,
      "metadata": {},
      "outputs": [],
      "source": [
        "# Install the packages directly if needed with pip\n",
        "# Check the repo's README below for more information\n",
        "!pip install numpy pandas scipy matplotlib seaborn statsmodels scikit-learn jupyter"
      ],
      "id": "edbe09ec-485f-4364-9f39-d3aa837bed6a"
    },
    {
      "cell_type": "code",
      "execution_count": null,
      "metadata": {},
      "outputs": [],
      "source": [
        "import pandas as pd\n",
        "\n",
        "# Display all columns\n",
        "pd.set_option('display.max_columns', None)\n",
        "\n",
        "# Display all outputs from each cell\n",
        "from IPython.core.interactiveshell import InteractiveShell\n",
        "InteractiveShell.ast_node_interactivity = \"all\""
      ],
      "id": "bc8321fa-0d7c-4dc6-8391-8f3156e457fa"
    },
    {
      "cell_type": "markdown",
      "metadata": {},
      "source": [
        "# Week 1\n",
        "\n",
        "## Walkthrough 1.1: Getting Started\n",
        "\n",
        "### Setting Up the Python Environment\n",
        "\n",
        "If you haven’t already installed Python, Jupyter, and the necessary\n",
        "packages, there are instructions on the course repo in the README to do\n",
        "so\n",
        "[here](https://github.com/ismayc/oreilly-fundamentals-of-statistics-with-python/blob/main/README.md).\n",
        "\n",
        "If you aren’t able to do this on your machine, you may want to check out\n",
        "[Google Colab](https://colab.research.google.com/). It’s a free service\n",
        "that allows you to run Jupyter notebooks in the cloud. Alternatively,\n",
        "I’ve set up some temporary notebooks on Binder\n",
        "([![()](https://mybinder.org/badge_logo.svg)](https://mybinder.org/v2/gh/ismayc/oreilly-fundamentals-of-statistics-with-python/main?urlpath=%2Fdoc%2Ftree%2Fexercises.ipynb))\n",
        "that you can work with online as well."
      ],
      "id": "b2df140f-a17d-4bcd-8ea7-dc363e393fc7"
    },
    {
      "cell_type": "code",
      "execution_count": null,
      "metadata": {},
      "outputs": [],
      "source": [
        "# Importing libraries/modules and aliasing them as needed\n",
        "import numpy as np\n",
        "import pandas as pd\n",
        "import scipy.stats as stats\n",
        "import matplotlib.pyplot as plt\n",
        "import seaborn as sns\n",
        "import statsmodels.api as sm\n",
        "from sklearn.preprocessing import MinMaxScaler, StandardScaler"
      ],
      "id": "626fc7f4-cea9-4321-ad5e-dab6809ff9c0"
    },
    {
      "cell_type": "markdown",
      "metadata": {},
      "source": [
        "### Exploring a dataset"
      ],
      "id": "2e2eaec7-c6b8-4d62-a8ea-90f60d3a4808"
    },
    {
      "cell_type": "code",
      "execution_count": null,
      "metadata": {},
      "outputs": [],
      "source": [
        "# Load in the dataset"
      ],
      "id": "990bbb58-5647-4504-b947-a108ad380033"
    },
    {
      "cell_type": "code",
      "execution_count": null,
      "metadata": {},
      "outputs": [],
      "source": [
        "# Display information about the DataFrame"
      ],
      "id": "401869b2-668e-4164-81c6-ae33f60efd7d"
    },
    {
      "cell_type": "markdown",
      "metadata": {},
      "source": [
        "### Performing basic statistical functions using NumPy, Pandas, and SciPy.\n",
        "\n",
        "#### Using NumPy"
      ],
      "id": "c20b265a-2178-4e3a-ad72-4f4720999b0d"
    },
    {
      "cell_type": "code",
      "execution_count": null,
      "metadata": {},
      "outputs": [],
      "source": [
        "# Calculate the mean of the years_code_pro column"
      ],
      "id": "8930a6f5-30e9-425b-84f9-de9c16bf6c4a"
    },
    {
      "cell_type": "code",
      "execution_count": null,
      "metadata": {},
      "outputs": [],
      "source": [
        "# Calculate the median of the work_exp column"
      ],
      "id": "540be9dc-1c2e-4a26-9d1d-827e3edb2212"
    },
    {
      "cell_type": "code",
      "execution_count": null,
      "metadata": {},
      "outputs": [],
      "source": [
        "# Calculate the standard deviation of the converted_comp_yearly column"
      ],
      "id": "ce3455f9-437b-4c80-a19f-f7ba8b9d0676"
    },
    {
      "cell_type": "markdown",
      "metadata": {},
      "source": [
        "#### Using Pandas"
      ],
      "id": "f118417e-9d8e-464f-a1eb-a283e990805d"
    },
    {
      "cell_type": "code",
      "execution_count": null,
      "metadata": {},
      "outputs": [],
      "source": [
        "# Display summary statistics on the numeric columns of the DataFrame"
      ],
      "id": "8897e6d4-8a0a-46f0-bd57-fb59d121a39e"
    },
    {
      "cell_type": "markdown",
      "metadata": {},
      "source": [
        "#### Using SciPy"
      ],
      "id": "e5239ff7-1469-4754-8943-62c2751d705a"
    },
    {
      "cell_type": "code",
      "execution_count": null,
      "metadata": {},
      "outputs": [],
      "source": [
        "# Separate the data into two groups\n",
        "\n",
        "\n",
        "\n",
        "# Perform the t-test looking for a difference in mean salary for the groups\n",
        "\n",
        "\n",
        "# Print the results\n"
      ],
      "id": "3d868365-39f4-4c83-80a4-14929f1d862f"
    },
    {
      "cell_type": "markdown",
      "metadata": {},
      "source": [
        "## Exercise 1.1: Getting Started\n",
        "\n",
        "### Setting Up the Python Environment\n",
        "\n",
        "If you ran the `# Importing libraries and aliasing them` code above, you\n",
        "should be good to proceed here. If not, scroll up and run it.\n",
        "\n",
        "### Exploring a dataset"
      ],
      "id": "65afe6b1-9561-4510-988c-0318408843b9"
    },
    {
      "cell_type": "code",
      "execution_count": null,
      "metadata": {},
      "outputs": [],
      "source": [
        "# Load in the coffee_quality dataset"
      ],
      "id": "d2092729-80a4-4ed3-a67f-1f5d83ddd5c7"
    },
    {
      "cell_type": "code",
      "execution_count": null,
      "metadata": {},
      "outputs": [],
      "source": [
        "# Display information about the DataFrame"
      ],
      "id": "91d1ce5a-bfe1-4b7d-a7ea-9cf360cbf953"
    },
    {
      "cell_type": "markdown",
      "metadata": {},
      "source": [
        "### Performing basic statistical functions using NumPy, Pandas, and SciPy.\n",
        "\n",
        "#### Using NumPy"
      ],
      "id": "92cd36f1-cc10-469c-9ff4-632b353ef038"
    },
    {
      "cell_type": "code",
      "execution_count": null,
      "metadata": {},
      "outputs": [],
      "source": [
        "# Calculate the mean of the aroma column"
      ],
      "id": "1b6cb058-7f30-409b-bfcd-186f55f60dc5"
    },
    {
      "cell_type": "code",
      "execution_count": null,
      "metadata": {},
      "outputs": [],
      "source": [
        "# Calculate the median of the total_cup_points column"
      ],
      "id": "fafdea82-fd4a-4261-9860-c7abb624ea40"
    },
    {
      "cell_type": "code",
      "execution_count": null,
      "metadata": {},
      "outputs": [],
      "source": [
        "# Calculate the standard deviation of the moisture_percentage column"
      ],
      "id": "f1761093-1732-4b44-b9ae-075a86c2fa7f"
    },
    {
      "cell_type": "markdown",
      "metadata": {},
      "source": [
        "#### Using Pandas"
      ],
      "id": "6af17d57-7cec-4655-8b1a-fee9773675ca"
    },
    {
      "cell_type": "code",
      "execution_count": null,
      "metadata": {},
      "outputs": [],
      "source": [
        "# Display summary statistics on the numeric columns of the DataFrame"
      ],
      "id": "d8c5de04-5232-425c-b4ef-8b9aad121ee4"
    },
    {
      "cell_type": "markdown",
      "metadata": {},
      "source": [
        "#### Using SciPy"
      ],
      "id": "aec60a6b-19e8-4959-b4fd-4f3012bc59ae"
    },
    {
      "cell_type": "code",
      "execution_count": null,
      "metadata": {},
      "outputs": [],
      "source": [
        "# Focus on only Asia and North America entries\n",
        "\n",
        "# Separate the data into two groups\n",
        "\n",
        "\n",
        "# Perform the t-test to test for difference in total_cup_points\n",
        "\n",
        "\n",
        "# Print the results\n"
      ],
      "id": "5caaaa46-babc-416b-a8df-e34f2aa1a060"
    },
    {
      "cell_type": "markdown",
      "metadata": {},
      "source": [
        "------------------------------------------------------------------------\n",
        "\n",
        "## Walkthrough 1.2: Data Summarizing\n",
        "\n",
        "### Compute and interpret measures of central tendency"
      ],
      "id": "3fd61e6f-d261-42b0-b463-63a7b4db041a"
    },
    {
      "cell_type": "code",
      "execution_count": null,
      "metadata": {},
      "outputs": [],
      "source": [
        "# Calculate center statistics for years_code_pro\n",
        "\n",
        "\n",
        "# To extract just the value for mode"
      ],
      "id": "5cc12b3d-89f8-4382-87b5-3d153ffc110b"
    },
    {
      "cell_type": "markdown",
      "metadata": {},
      "source": [
        "### Compute and interpret measures of variation"
      ],
      "id": "6a9642b2-5c6b-4ef3-9d8f-bb69544ba46a"
    },
    {
      "cell_type": "code",
      "execution_count": null,
      "metadata": {},
      "outputs": [],
      "source": [
        "# Calculate spread statistics for years_code_pro\n"
      ],
      "id": "d7793af8-83af-40f2-9451-3b90867455fd"
    },
    {
      "cell_type": "code",
      "execution_count": null,
      "metadata": {},
      "outputs": [],
      "source": [
        "# Calculate the five-number summary for years_code_pro\n",
        "\n",
        "\n",
        "# Print them out"
      ],
      "id": "3dbeaa91-32f0-47fd-ba6c-ba450476e787"
    },
    {
      "cell_type": "markdown",
      "metadata": {},
      "source": [
        "## Exercise 1.2: Data Summarizing"
      ],
      "id": "7a72aca0-689d-47fe-8c5e-0f8f96280670"
    },
    {
      "cell_type": "code",
      "execution_count": null,
      "metadata": {},
      "outputs": [],
      "source": [
        "# Calculate center statistics for aroma"
      ],
      "id": "f906888a-83d4-454b-a763-2c4f12bdf1f8"
    },
    {
      "cell_type": "code",
      "execution_count": null,
      "metadata": {},
      "outputs": [],
      "source": [
        "# Calculate spread statistics for aroma"
      ],
      "id": "a135e190-32f2-4c4c-b59e-20ffce0dacc8"
    },
    {
      "cell_type": "code",
      "execution_count": null,
      "metadata": {},
      "outputs": [],
      "source": [
        "# Calculate the five-number summary for aroma"
      ],
      "id": "90575748-8c7f-4560-9f3c-1df23978fa1e"
    },
    {
      "cell_type": "markdown",
      "metadata": {},
      "source": [
        "------------------------------------------------------------------------\n",
        "\n",
        "## Walkthrough 1.3: Cleaning and Preparing Data with Pandas"
      ],
      "id": "7a32b4fc-8b44-4678-b07a-82e67070ffca"
    },
    {
      "cell_type": "code",
      "execution_count": null,
      "metadata": {},
      "outputs": [],
      "source": [
        "# Histogram for years_code_pro"
      ],
      "id": "f5781638-9192-4ab3-98d8-c1a1b5bfb464"
    },
    {
      "cell_type": "code",
      "execution_count": null,
      "metadata": {},
      "outputs": [],
      "source": [
        "# Set the default figure size for all plots"
      ],
      "id": "8292735e-b825-44ee-ae37-be91c843a570"
    },
    {
      "cell_type": "code",
      "execution_count": null,
      "metadata": {},
      "outputs": [],
      "source": [
        "# Box plot for work_exp"
      ],
      "id": "9ab6f1e4-c497-4370-a4f0-d0e141334441"
    },
    {
      "cell_type": "code",
      "execution_count": null,
      "metadata": {},
      "outputs": [],
      "source": [
        "# Scatter plot for years_code_pro vs. converted_comp_yearly"
      ],
      "id": "7a23d2fa-4000-4b80-b972-77a2219f9d29"
    },
    {
      "cell_type": "markdown",
      "metadata": {},
      "source": [
        "## Exercise 1.3: Cleaning and Preparing Data with Pandas"
      ],
      "id": "cb44b335-375e-49ad-843d-471aabea672b"
    },
    {
      "cell_type": "code",
      "execution_count": null,
      "metadata": {},
      "outputs": [],
      "source": [
        "# Histogram for acidity"
      ],
      "id": "15431cc8-4e02-41df-a0e1-2a914290866a"
    },
    {
      "cell_type": "code",
      "execution_count": null,
      "metadata": {},
      "outputs": [],
      "source": [
        "# Box plot for body"
      ],
      "id": "6a2207af-d3e4-4d82-87b4-a924d0cc3e1c"
    },
    {
      "cell_type": "code",
      "execution_count": null,
      "metadata": {},
      "outputs": [],
      "source": [
        "# Scatter plot for body vs. acidity"
      ],
      "id": "6d74a93a-7c70-4c67-a9d2-4e0495a6f209"
    },
    {
      "cell_type": "markdown",
      "metadata": {},
      "source": [
        "------------------------------------------------------------------------\n",
        "\n",
        "## Walkthrough 1.4: Sampling Distribution Generation"
      ],
      "id": "ac9ebae7-abc3-40fd-b097-e2f874f0425b"
    },
    {
      "cell_type": "code",
      "execution_count": null,
      "metadata": {},
      "outputs": [],
      "source": [
        "# Think of our data as a population to draw from\n",
        "\n",
        "# Generate a large sample from the converted_comp_yearly column\n",
        "# Parameters\n",
        "\n",
        "\n",
        "# Set a seed to make code reproducible\n",
        "\n",
        "\n",
        "# Simulate sampling distribution of the mean\n",
        "\n",
        "\n",
        "# Plot the sampling distribution of the sample means"
      ],
      "id": "50a71023-c027-44ba-bba8-3b60500c8b2e"
    },
    {
      "cell_type": "markdown",
      "metadata": {},
      "source": [
        "## Exercise 1.4: Sampling Distribution Generation"
      ],
      "id": "d37a15d3-9289-4c6e-8492-a2b7e9a45c60"
    },
    {
      "cell_type": "code",
      "execution_count": null,
      "metadata": {},
      "outputs": [],
      "source": [
        "# Think of our aroma data as a population to draw from\n",
        "\n",
        "# Parameters\n",
        "\n",
        "\n",
        "\n",
        "# Set random seed\n",
        "\n",
        "\n",
        "# Simulate sampling distribution of the mean\n",
        "\n",
        "\n",
        "\n",
        "# Plot the sampling distribution of the sample means"
      ],
      "id": "f268cf35-dae7-4876-8b43-eec56578bc91"
    },
    {
      "cell_type": "markdown",
      "metadata": {},
      "source": [
        "------------------------------------------------------------------------\n",
        "\n",
        "# Week 2\n",
        "\n",
        "## Walkthrough 2.1: Advanced Plots"
      ],
      "id": "be7db761-b3e5-4e15-b099-ca928bbc7ae0"
    },
    {
      "cell_type": "code",
      "execution_count": null,
      "metadata": {},
      "outputs": [],
      "source": [
        "# Select only numeric columns\n",
        "\n",
        "# Calculate the correlation matrix for numeric columns\n",
        "\n",
        "# Heatmap for correlation matrix"
      ],
      "id": "0b694a7d-6c08-4757-a610-ab0d5f2ee0a1"
    },
    {
      "cell_type": "code",
      "execution_count": null,
      "metadata": {},
      "outputs": [],
      "source": [
        "# Pair plot for selected variables years_code_pro, work_exp, converted_comp_yearly"
      ],
      "id": "cd5cdfbd-bcba-41b2-8128-ad8b413357c9"
    },
    {
      "cell_type": "code",
      "execution_count": null,
      "metadata": {},
      "outputs": [],
      "source": [
        "# Time series plot\n",
        "\n",
        "\n",
        "# Count the number of surveys completed each day\n",
        "\n",
        "# Plot the counts as a line chart"
      ],
      "id": "1f81de44-a08d-4abb-bdbd-d2afc82deb53"
    },
    {
      "cell_type": "markdown",
      "metadata": {},
      "source": [
        "## Exercise 2.1: Advanced Plots"
      ],
      "id": "8765f1cc-4738-49d8-8524-0f128cf864b2"
    },
    {
      "cell_type": "code",
      "execution_count": null,
      "metadata": {},
      "outputs": [],
      "source": [
        "# Select only numeric columns\n",
        "\n",
        "# Drop the clean_cup and sweetness columns since they are always 10\n",
        "numeric_columns = numeric_columns.drop(columns=['clean_cup', 'sweetness'], errors='ignore')\n",
        "\n",
        "# Calculate the correlation matrix for numeric columns\n",
        "\n",
        "\n",
        "# Heatmap for correlation matrix"
      ],
      "id": "000cfd27-4251-4df4-b194-9a491dd4d7e5"
    },
    {
      "cell_type": "code",
      "execution_count": null,
      "metadata": {},
      "outputs": [],
      "source": [
        "# Pair plot for selected variables ['aroma', 'acidity', 'body']"
      ],
      "id": "7ee0fc79-9db1-42ce-bfa3-212d988ab570"
    },
    {
      "cell_type": "code",
      "execution_count": null,
      "metadata": {},
      "outputs": [],
      "source": [
        "# Plot the mean total_cup_points for each grading_date\n",
        "\n",
        "# Convert to datetime\n",
        "\n",
        "# Extract the month and year from the grading_date column\n",
        "coffee_quality['month'] = coffee_quality['grading_date'].dt.to_period('M')\n",
        "\n",
        "# Aggregate the mean total_cup_points by month\n",
        "\n",
        "# Plot the mean total_cup_points by month as a line chart"
      ],
      "id": "364f97bf-0fea-437c-ad3b-9d8a4c5dc6b8"
    },
    {
      "cell_type": "markdown",
      "metadata": {},
      "source": [
        "------------------------------------------------------------------------\n",
        "\n",
        "## Walkthrough 2.2: EDA\n",
        "\n",
        "### Data Cleaning"
      ],
      "id": "72601908-25af-4b04-bf98-76832bddbd6a"
    },
    {
      "cell_type": "code",
      "execution_count": null,
      "metadata": {},
      "outputs": [],
      "source": [
        "# Check for missing values\n",
        "\n",
        "\n",
        "# Remove duplicates if any"
      ],
      "id": "840fb0e3-e2ae-4f59-b9ce-61fc30c0c1b4"
    },
    {
      "cell_type": "markdown",
      "metadata": {},
      "source": [
        "### Data Visualization"
      ],
      "id": "cc6373e3-ee94-4037-8f90-08927dc71cef"
    },
    {
      "cell_type": "code",
      "execution_count": null,
      "metadata": {},
      "outputs": [],
      "source": [
        "# Histogram for years_code_pro\n",
        "\n",
        "\n",
        "# Box plot for work_exp\n",
        "\n",
        "\n",
        "# Scatter plot for years_code_pro vs. converted_comp_yearly"
      ],
      "id": "5258acf5-92e6-4f31-b743-5160b34abcf6"
    },
    {
      "cell_type": "markdown",
      "metadata": {},
      "source": [
        "### Summary Statistics"
      ],
      "id": "611383d8-b27a-44eb-ba45-3d3370e2323c"
    },
    {
      "cell_type": "code",
      "execution_count": null,
      "metadata": {},
      "outputs": [],
      "source": [
        "# Calculate summary statistics"
      ],
      "id": "be757b15-743c-43ce-8295-f53175541e2f"
    },
    {
      "cell_type": "markdown",
      "metadata": {},
      "source": [
        "## Exercise 2.2: EDA\n",
        "\n",
        "### Data Cleaning"
      ],
      "id": "b095fefc-44d3-4247-a618-82ff639134de"
    },
    {
      "cell_type": "code",
      "execution_count": null,
      "metadata": {},
      "outputs": [],
      "source": [
        "# Check for missing values\n",
        "\n",
        "\n",
        "# Remove duplicates if any"
      ],
      "id": "eb054b00-691c-4e86-b7f1-4b9efac7f76c"
    },
    {
      "cell_type": "markdown",
      "metadata": {},
      "source": [
        "### Data Visualization"
      ],
      "id": "5c8d7f3a-b594-4068-a765-8f89826c051e"
    },
    {
      "cell_type": "code",
      "execution_count": null,
      "metadata": {},
      "outputs": [],
      "source": [
        "# Histogram for aroma\n",
        "\n",
        "\n",
        "# Box plot for acidity\n",
        "\n",
        "\n",
        "# Scatter plot for aroma vs. total_cup_points"
      ],
      "id": "66896dff-52fb-4937-adba-1252bbfd1a82"
    },
    {
      "cell_type": "markdown",
      "metadata": {},
      "source": [
        "### Summary Statistics"
      ],
      "id": "4cf1f85e-08f2-48e0-a658-d9aab35f0fff"
    },
    {
      "cell_type": "code",
      "execution_count": null,
      "metadata": {},
      "outputs": [],
      "source": [
        "# Calculate summary statistics"
      ],
      "id": "13e4276f-498c-4fa6-9a2c-2a638633a1b3"
    },
    {
      "cell_type": "markdown",
      "metadata": {},
      "source": [
        "------------------------------------------------------------------------\n",
        "\n",
        "## Walkthrough 2.3: Data Preprocessing\n",
        "\n",
        "### Inspect the Data after Loading"
      ],
      "id": "b06155fd-d393-4ec6-9d62-c326dc3c103d"
    },
    {
      "cell_type": "code",
      "execution_count": null,
      "metadata": {},
      "outputs": [],
      "source": [
        "# Display basic information about the dataset\n",
        "\n",
        "\n",
        "# Display the first few rows of the dataset"
      ],
      "id": "0e4de701-91e8-43c3-928e-5de8f2f09005"
    },
    {
      "cell_type": "markdown",
      "metadata": {},
      "source": [
        "### Handle Missing Values"
      ],
      "id": "d626a733-9ece-46dd-a764-95c57d00eea6"
    },
    {
      "cell_type": "code",
      "execution_count": null,
      "metadata": {},
      "outputs": [],
      "source": [
        "# Check for missing values\n",
        "\n",
        "\n",
        "# Make a copy of the dataset for imputation\n",
        "\n",
        "# Select only numeric columns\n",
        "\n",
        "# Fill missing values in numeric columns with the median\n",
        "\n",
        "\n",
        "# Display the first few rows of the imputed dataset"
      ],
      "id": "8d7b7bb1-c694-43ae-bbc2-2d5290c807e8"
    },
    {
      "cell_type": "markdown",
      "metadata": {},
      "source": [
        "### Handling Outliers"
      ],
      "id": "05fa0db9-f7a5-47be-a18a-d8d64d76a3f4"
    },
    {
      "cell_type": "code",
      "execution_count": null,
      "metadata": {},
      "outputs": [],
      "source": [
        "# Select only numeric columns\n",
        "\n",
        "# Identify outliers using IQR\n",
        "\n",
        "\n",
        "# Remove outliers"
      ],
      "id": "06682d94-babc-4aea-987d-dca750b68315"
    },
    {
      "cell_type": "markdown",
      "metadata": {},
      "source": [
        "### Data Transformation"
      ],
      "id": "6feff62a-19b6-4cfe-b2dc-f92b5e6c39fd"
    },
    {
      "cell_type": "code",
      "execution_count": null,
      "metadata": {},
      "outputs": [],
      "source": [
        "# Normalization on converted_comp_yearly\n",
        "\n",
        "\n",
        "# Standardization on work_exp\n",
        "\n",
        "\n",
        "# Encoding categorical variables (country)"
      ],
      "id": "872fd4f4-3d55-4cd8-875d-9b0f52a5489b"
    },
    {
      "cell_type": "markdown",
      "metadata": {},
      "source": [
        "### Data Visualizations on Preprocessed Data"
      ],
      "id": "639be5e2-d38c-4ef7-a4a8-86759e8a7051"
    },
    {
      "cell_type": "code",
      "execution_count": null,
      "metadata": {},
      "outputs": [],
      "source": [
        "# Histogram for years_code_pro\n",
        "\n",
        "\n",
        "# Box plot for work_exp\n",
        "\n",
        "\n",
        "# Scatter plot for years_code_pro vs. converted_comp_yearly"
      ],
      "id": "39d2a317-6d84-496b-a3e4-8bfd4cacd515"
    },
    {
      "cell_type": "markdown",
      "metadata": {},
      "source": [
        "## Exercise 2.3: Data Preprocessing\n",
        "\n",
        "### Inspect the Data after Loading"
      ],
      "id": "b435e157-b7f4-4be2-8925-311c8267dcf5"
    },
    {
      "cell_type": "code",
      "execution_count": null,
      "metadata": {},
      "outputs": [],
      "source": [
        "# Display basic information about the dataset\n",
        "\n",
        "\n",
        "# Display the first few rows of the dataset"
      ],
      "id": "04c1e00b-ba64-42aa-bd72-f2335fb41b0b"
    },
    {
      "cell_type": "markdown",
      "metadata": {},
      "source": [
        "### Handle Missing Values"
      ],
      "id": "157a036e-9ab5-4beb-a3e0-029339c82253"
    },
    {
      "cell_type": "code",
      "execution_count": null,
      "metadata": {},
      "outputs": [],
      "source": [
        "# Check for missing values\n",
        "\n",
        "\n",
        "# Make a copy of the dataset for imputation\n",
        "\n",
        "\n",
        "# Select only numeric columns\n",
        "\n",
        "\n",
        "# Fill missing values in numeric columns with the median\n",
        "\n",
        "\n",
        "# Display the first few rows of the imputed dataset"
      ],
      "id": "b0363015-367b-481f-901b-484bb571c3d3"
    },
    {
      "cell_type": "markdown",
      "metadata": {},
      "source": [
        "### Handle Outliers"
      ],
      "id": "90e497a9-6c62-43ea-8571-445b041bd592"
    },
    {
      "cell_type": "code",
      "execution_count": null,
      "metadata": {},
      "outputs": [],
      "source": [
        "# Select only numeric columns\n",
        "\n",
        "# Identify outliers using IQR\n",
        "\n",
        "\n",
        "# Remove outliers"
      ],
      "id": "17b8e1eb-b7af-4e4b-876e-ffab68b311c2"
    },
    {
      "cell_type": "markdown",
      "metadata": {},
      "source": [
        "### Data Transformation"
      ],
      "id": "1ffb9222-7c49-4910-a392-db1a5baef6b1"
    },
    {
      "cell_type": "code",
      "execution_count": null,
      "metadata": {},
      "outputs": [],
      "source": [
        "# Normalization on total_cup_points\n",
        "\n",
        "\n",
        "# Standardization on acidity\n",
        "\n",
        "\n",
        "# Encoding categorical variables (country and continent of origin)"
      ],
      "id": "8fc1fdcb-ee01-4864-8197-22837b312cec"
    },
    {
      "cell_type": "markdown",
      "metadata": {},
      "source": [
        "### Data Visualizations on Preprocessed Data"
      ],
      "id": "109d847b-4710-4764-8452-2e1f71b935ba"
    },
    {
      "cell_type": "code",
      "execution_count": null,
      "metadata": {},
      "outputs": [],
      "source": [
        "# Histogram for aroma\n",
        "\n",
        "\n",
        "# Box plot for acidity\n",
        "\n",
        "\n",
        "# Scatter plot for aroma vs. total_cup_points"
      ],
      "id": "fb04a8b5-3662-412e-a274-53222f587f19"
    },
    {
      "cell_type": "markdown",
      "metadata": {},
      "source": [
        "------------------------------------------------------------------------\n",
        "\n",
        "## Walkthrough 2.4: Correlations\n",
        "\n",
        "### Correlation Matrix"
      ],
      "id": "f283652b-0cfd-4620-97ca-dd253e9fcd52"
    },
    {
      "cell_type": "code",
      "execution_count": null,
      "metadata": {},
      "outputs": [],
      "source": [
        "# Select only numeric columns\n",
        "\n",
        "# Calculate the correlation matrix\n",
        "\n",
        "# Display the correlation matrix"
      ],
      "id": "a40dfb1c-615f-400e-9731-b16fa8df296e"
    },
    {
      "cell_type": "markdown",
      "metadata": {},
      "source": [
        "### Visualize Correlations"
      ],
      "id": "d44c6cdb-dc88-4254-b41e-41c6a789a084"
    },
    {
      "cell_type": "code",
      "execution_count": null,
      "metadata": {},
      "outputs": [],
      "source": [
        "# Heatmap for correlation matrix"
      ],
      "id": "98d2900d-47d0-40f0-a9d9-f391bfb0bc09"
    },
    {
      "cell_type": "markdown",
      "metadata": {},
      "source": [
        "### Create Scatter Plots for Meaningful Correlations"
      ],
      "id": "fd5d3ad0-e85c-4a3f-83ee-de7d2322bbad"
    },
    {
      "cell_type": "code",
      "execution_count": null,
      "metadata": {},
      "outputs": [],
      "source": [
        "# Scatter plot for years_code_pro vs. years_code\n",
        "\n",
        "\n",
        "# Scatter plot for work_exp vs. years_code_pro"
      ],
      "id": "75d9e746-b871-4926-a8c5-694911cefcde"
    },
    {
      "cell_type": "markdown",
      "metadata": {},
      "source": [
        "## Exercise 2.4: Correlations\n",
        "\n",
        "### Correlation Matrix"
      ],
      "id": "957ff368-e3d7-4651-9eea-91c4820f19c9"
    },
    {
      "cell_type": "code",
      "execution_count": null,
      "metadata": {},
      "outputs": [],
      "source": [
        "# Select only numeric columns\n",
        "\n",
        "# Remove clean_cup and sweetness too\n",
        "\n",
        "# Calculate the correlation matrix\n",
        "\n",
        "# Display the correlation matrix"
      ],
      "id": "5bdfac8d-3b56-4c7c-b9a0-2a95acc9064a"
    },
    {
      "cell_type": "markdown",
      "metadata": {},
      "source": [
        "### Visualize Correlations"
      ],
      "id": "3e815f6d-b270-40f9-9c41-6adee927b708"
    },
    {
      "cell_type": "code",
      "execution_count": null,
      "metadata": {},
      "outputs": [],
      "source": [
        "# Heatmap for correlation matrix"
      ],
      "id": "091d2442-6a2e-46a5-b25c-a546df2f5cc5"
    },
    {
      "cell_type": "markdown",
      "metadata": {},
      "source": [
        "### Create Scatter Plots for Meaningful Correlations"
      ],
      "id": "b4745e27-0202-44a3-8339-ce171866ce29"
    },
    {
      "cell_type": "code",
      "execution_count": null,
      "metadata": {},
      "outputs": [],
      "source": [
        "# Scatter plot for flavor vs. total_cup_points\n",
        "\n",
        "\n",
        "# Scatter plot for overall vs. total_cup_points"
      ],
      "id": "326beda4-672f-43da-b839-ceedb6e80830"
    },
    {
      "cell_type": "markdown",
      "metadata": {},
      "source": [
        "------------------------------------------------------------------------\n",
        "\n",
        "# Week 3\n",
        "\n",
        "## Walkthrough 3.1: Simulating Distributions\n",
        "\n",
        "### Simulating Binomial"
      ],
      "id": "168faa30-6140-42ca-bcd5-70ed8c0f9866"
    },
    {
      "cell_type": "code",
      "execution_count": null,
      "metadata": {},
      "outputs": [],
      "source": [
        "# Simulate binomial distribution\n",
        "\n",
        "# Plot histogram"
      ],
      "id": "09d37859-1bef-4e14-97fb-14b5c3da5522"
    },
    {
      "cell_type": "markdown",
      "metadata": {},
      "source": [
        "### Simulating Normal"
      ],
      "id": "985b497a-1f04-44f1-9670-1245ce300109"
    },
    {
      "cell_type": "code",
      "execution_count": null,
      "metadata": {},
      "outputs": [],
      "source": [
        "# Simulate normal distribution\n",
        "\n",
        "# Plot histogram"
      ],
      "id": "51ae57fa-43e6-4291-ace6-35a3da79423f"
    },
    {
      "cell_type": "markdown",
      "metadata": {},
      "source": [
        "## Exercise 3.1:\n",
        "\n",
        "### Simulating Poisson"
      ],
      "id": "dc171467-a9c9-4ca4-a393-49d4e034db6a"
    },
    {
      "cell_type": "code",
      "execution_count": null,
      "metadata": {},
      "outputs": [],
      "source": [
        "# Simulate Poisson distribution with lambda (lam) parameter 3\n",
        "\n",
        "# Plot histogram"
      ],
      "id": "5a171211-0a64-4abb-85af-f33ede529e6b"
    },
    {
      "cell_type": "markdown",
      "metadata": {},
      "source": [
        "### Simulating Exponential"
      ],
      "id": "5b6acc82-e6ea-4a1e-8ff2-4c4ba6b366b8"
    },
    {
      "cell_type": "code",
      "execution_count": null,
      "metadata": {},
      "outputs": [],
      "source": [
        "# Simulate exponential distribution with scale parameter 1\n",
        "\n",
        "# Plot histogram"
      ],
      "id": "628cd53c-c860-478f-986d-98f2c5e972af"
    },
    {
      "cell_type": "markdown",
      "metadata": {},
      "source": [
        "------------------------------------------------------------------------\n",
        "\n",
        "## Walkthrough 3.2: t-tests"
      ],
      "id": "ccd1edb4-305b-47eb-a3b3-01fd6ff6a390"
    },
    {
      "cell_type": "code",
      "execution_count": null,
      "metadata": {},
      "outputs": [],
      "source": [
        "# One-sample t-test checking for evidence that mu compensation > 85000"
      ],
      "id": "115e3c3b-71e2-42c5-9feb-ecf512a25aba"
    },
    {
      "cell_type": "code",
      "execution_count": null,
      "metadata": {},
      "outputs": [],
      "source": [
        "# Two-sample t-test comparing compensation across plans_to_use_ai groups\n",
        "# Checking for a difference"
      ],
      "id": "1aeb1aab-48b3-434b-8b44-dc3ff5772d60"
    },
    {
      "cell_type": "markdown",
      "metadata": {},
      "source": [
        "## Exercise 3.2: t-tests"
      ],
      "id": "f50ce8dd-a712-4898-aafd-ea64fbe31e0a"
    },
    {
      "cell_type": "code",
      "execution_count": null,
      "metadata": {},
      "outputs": [],
      "source": [
        "# One-sample t-test checking for evidence that mu flavor < 7.8"
      ],
      "id": "08020417-848f-4fac-972c-3b1099752814"
    },
    {
      "cell_type": "code",
      "execution_count": null,
      "metadata": {},
      "outputs": [],
      "source": [
        "# Two-sample t-test checking for difference in Columbia and Brazil total_cup_points"
      ],
      "id": "e71cbf59-50ce-4261-b27e-0942d7a75b34"
    },
    {
      "cell_type": "markdown",
      "metadata": {},
      "source": [
        "------------------------------------------------------------------------\n",
        "\n",
        "## Walkthrough 3.3: Comparative Tests"
      ],
      "id": "598df608-5912-4eb2-b50b-68cc597b0d68"
    },
    {
      "cell_type": "code",
      "execution_count": null,
      "metadata": {},
      "outputs": [],
      "source": [
        "# Perform one-way ANOVA comparing compensation across different levels of\n",
        "# remote_work"
      ],
      "id": "fd3b81a3-34ad-4ab6-9e75-0c3aae84ce3f"
    },
    {
      "cell_type": "code",
      "execution_count": null,
      "metadata": {},
      "outputs": [],
      "source": [
        "# Create a contingency table of employment and remote_work\n",
        "\n",
        "\n",
        "# Perform chi-square test"
      ],
      "id": "5ff6ee79-3651-450a-866f-7c2989333d04"
    },
    {
      "cell_type": "markdown",
      "metadata": {},
      "source": [
        "## Exercise 3.3: Comparative Tests"
      ],
      "id": "d59f19cc-0e69-4b9d-a33f-9318ab45da02"
    },
    {
      "cell_type": "code",
      "execution_count": null,
      "metadata": {},
      "outputs": [],
      "source": [
        "# Perform one-way ANOVA comparing total_cup_points across country_of_origin"
      ],
      "id": "100f5fff-99cf-4df8-90d5-19f88fbfde16"
    },
    {
      "cell_type": "code",
      "execution_count": null,
      "metadata": {},
      "outputs": [],
      "source": [
        "# Perform a chi-square test of independence for processing_method versus\n",
        "# continent_of_origin\n",
        "\n",
        "# Create a contingency table\n",
        "\n",
        "\n",
        "# Perform chi-square test"
      ],
      "id": "a19964e5-4845-4de7-aab5-aafed5c5adde"
    },
    {
      "cell_type": "markdown",
      "metadata": {},
      "source": [
        "------------------------------------------------------------------------\n",
        "\n",
        "## Walkthrough 3.4: Non-Parametric Tests"
      ],
      "id": "8da2b277-e81e-43f8-9630-b91ade0fc850"
    },
    {
      "cell_type": "code",
      "execution_count": null,
      "metadata": {},
      "outputs": [],
      "source": [
        "# Perform Mann-Whitney U Test comparing compensation for Remote and In-person"
      ],
      "id": "49b3e7b0-08d7-4a55-b8ee-6dd6e40414f5"
    },
    {
      "cell_type": "code",
      "execution_count": null,
      "metadata": {},
      "outputs": [],
      "source": [
        "# Perform Kruskal-Wallis H Test comparing compensation across countries"
      ],
      "id": "fd18171b-bc59-40b0-bdf6-ccfb7fece0e4"
    },
    {
      "cell_type": "markdown",
      "metadata": {},
      "source": [
        "## Exercise 3.4: Non-Parametric Tests"
      ],
      "id": "94a3645a-a2eb-4f6b-9383-45fb9b7e11e0"
    },
    {
      "cell_type": "code",
      "execution_count": null,
      "metadata": {},
      "outputs": [],
      "source": [
        "# Perform Mann-Whitney U Test comparing total_cup_points for Guatemala\n",
        "# and Honduras"
      ],
      "id": "15d385a1-0126-48aa-b5a1-65da6cc99716"
    },
    {
      "cell_type": "code",
      "execution_count": null,
      "metadata": {},
      "outputs": [],
      "source": [
        "# Perform Kruskal-Wallis H Test comparing total_cup_points across \n",
        "# continent_of_origin"
      ],
      "id": "4f9ed9d9-bb0e-44ec-8367-2a237f9b24a7"
    }
  ],
  "nbformat": 4,
  "nbformat_minor": 5,
  "metadata": {
    "kernelspec": {
      "display_name": "Python 3",
      "language": "python",
      "name": "python3"
    }
  }
}