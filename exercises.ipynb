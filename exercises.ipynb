{
  "cells": [
    {
      "cell_type": "markdown",
      "metadata": {},
      "source": [
        "# Walkthroughs and Exercises for \\*Fundamentals of Statistics with\n",
        "\n",
        "Python\\*\n",
        "\n",
        "Dr. Chester Ismay"
      ],
      "id": "19909149-d487-465c-95c3-10518751b86e"
    },
    {
      "cell_type": "code",
      "execution_count": null,
      "metadata": {},
      "outputs": [],
      "source": [
        "# Install the packages directly if needed with pip\n",
        "# Check the repo's README below for more information\n",
        "!pip install numpy pandas scipy matplotlib seaborn statsmodels scikit-learn jupyter"
      ],
      "id": "fb08edb7-a3da-4915-9d2d-c42c8bb4291a"
    },
    {
      "cell_type": "code",
      "execution_count": null,
      "metadata": {},
      "outputs": [],
      "source": [
        "import pandas as pd\n",
        "\n",
        "# Display all columns\n",
        "pd.set_option('display.max_columns', None)\n",
        "\n",
        "# Display all outputs from each cell\n",
        "from IPython.core.interactiveshell import InteractiveShell\n",
        "InteractiveShell.ast_node_interactivity = \"all\""
      ],
      "id": "1adc51ba-c191-436a-9e60-c7683ddc3514"
    },
    {
      "cell_type": "markdown",
      "metadata": {},
      "source": [
        "# Week 1\n",
        "\n",
        "## Walkthrough 1.1: Getting Started\n",
        "\n",
        "### Setting Up the Python Environment\n",
        "\n",
        "If you haven’t already installed Python, Jupyter, and the necessary\n",
        "packages, there are instructions on the course repo in the README to do\n",
        "so\n",
        "[here](https://github.com/ismayc/oreilly-fundamentals-of-statistics-with-python/blob/main/README.md).\n",
        "\n",
        "If you aren’t able to do this on your machine, you may want to check out\n",
        "[Google Colab](https://colab.research.google.com/). It’s a free service\n",
        "that allows you to run Jupyter notebooks in the cloud. Alternatively,\n",
        "I’ve set up some temporary notebooks on Binder\n",
        "([![()](https://mybinder.org/badge_logo.svg)](https://mybinder.org/v2/gh/ismayc/oreilly-fundamentals-of-statistics-with-python/main?urlpath=%2Fdoc%2Ftree%2Fexercises.ipynb))\n",
        "that you can work with online as well."
      ],
      "id": "d5886255-00e1-4bdf-bbc7-122a7fe5b00f"
    },
    {
      "cell_type": "code",
      "execution_count": null,
      "metadata": {},
      "outputs": [],
      "source": [
        "# Importing libraries/modules and aliasing them as needed\n",
        "import numpy as np\n",
        "import pandas as pd\n",
        "import scipy.stats as stats\n",
        "import matplotlib.pyplot as plt\n",
        "import seaborn as sns\n",
        "import statsmodels.api as sm\n",
        "from sklearn.preprocessing import MinMaxScaler, StandardScaler"
      ],
      "id": "26f9fd95-dfec-468e-925b-579857faf808"
    },
    {
      "cell_type": "markdown",
      "metadata": {},
      "source": [
        "### Exploring a dataset"
      ],
      "id": "780a7038-81eb-43cf-a5ec-e081d7ac7848"
    },
    {
      "cell_type": "code",
      "execution_count": null,
      "metadata": {},
      "outputs": [],
      "source": [
        "# Load in the dataset"
      ],
      "id": "db6e052e-9a8c-4a95-b461-ee4d861e72a2"
    },
    {
      "cell_type": "code",
      "execution_count": null,
      "metadata": {},
      "outputs": [],
      "source": [
        "# Display information about the DataFrame"
      ],
      "id": "f312cbdb-85fc-4171-8c09-42df980d0176"
    },
    {
      "cell_type": "markdown",
      "metadata": {},
      "source": [
        "### Performing basic statistical functions using NumPy, Pandas, and SciPy.\n",
        "\n",
        "#### Using NumPy"
      ],
      "id": "fdf36889-4a12-45e2-9f06-743a7a4fa2d4"
    },
    {
      "cell_type": "code",
      "execution_count": null,
      "metadata": {},
      "outputs": [],
      "source": [
        "# Calculate the mean of the years_code_pro column"
      ],
      "id": "dcd12af1-f5a3-4b6d-8d2d-7879acea52eb"
    },
    {
      "cell_type": "code",
      "execution_count": null,
      "metadata": {},
      "outputs": [],
      "source": [
        "# Calculate the median of the work_exp column"
      ],
      "id": "0cf5ab18-9fba-44db-88ca-f69d73b867b8"
    },
    {
      "cell_type": "code",
      "execution_count": null,
      "metadata": {},
      "outputs": [],
      "source": [
        "# Calculate the standard deviation of the converted_comp_yearly column"
      ],
      "id": "344f3614-bede-47f8-a561-7fcd941a4e25"
    },
    {
      "cell_type": "markdown",
      "metadata": {},
      "source": [
        "#### Using Pandas"
      ],
      "id": "6a61e2cf-3e38-404a-8200-b5a74cfc33c0"
    },
    {
      "cell_type": "code",
      "execution_count": null,
      "metadata": {},
      "outputs": [],
      "source": [
        "# Display summary statistics on the numeric columns of the DataFrame"
      ],
      "id": "98e9a2e2-2416-49d1-b8dc-4f8941661a94"
    },
    {
      "cell_type": "markdown",
      "metadata": {},
      "source": [
        "#### Using SciPy"
      ],
      "id": "626b161a-48a8-45e1-8da1-b906a9f8da87"
    },
    {
      "cell_type": "code",
      "execution_count": null,
      "metadata": {},
      "outputs": [],
      "source": [
        "# Separate the data into two groups\n",
        "\n",
        "\n",
        "\n",
        "# Perform the t-test\n",
        "\n",
        "\n",
        "# Print the results\n"
      ],
      "id": "331db805-c8fb-452a-971b-c335e874d7e0"
    },
    {
      "cell_type": "markdown",
      "metadata": {},
      "source": [
        "## Exercise 1.1: Getting Started\n",
        "\n",
        "### Setting Up the Python Environment\n",
        "\n",
        "If you ran the `# Importing libraries and aliasing them` code above, you\n",
        "should be good to proceed here. If not, scroll up and run it.\n",
        "\n",
        "### Exploring a dataset"
      ],
      "id": "3d9cadd5-5f6b-43f3-b4d3-cfda7697ad31"
    },
    {
      "cell_type": "code",
      "execution_count": null,
      "metadata": {},
      "outputs": [],
      "source": [
        "# Load in the coffee_quality dataset"
      ],
      "id": "28fb3b10-5091-4f82-83cd-3e63ceeb4c66"
    },
    {
      "cell_type": "code",
      "execution_count": null,
      "metadata": {},
      "outputs": [],
      "source": [
        "# Display information about the DataFrame"
      ],
      "id": "8825c144-283b-4e03-9638-b2211b441341"
    },
    {
      "cell_type": "markdown",
      "metadata": {},
      "source": [
        "### Performing basic statistical functions using NumPy, Pandas, and SciPy.\n",
        "\n",
        "#### Using NumPy"
      ],
      "id": "19662625-e725-40ba-81cb-fdffd1300041"
    },
    {
      "cell_type": "code",
      "execution_count": null,
      "metadata": {},
      "outputs": [],
      "source": [
        "# Calculate the mean of the aroma column"
      ],
      "id": "8c1f3bb6-96b1-42dc-adcc-04c1805e6195"
    },
    {
      "cell_type": "code",
      "execution_count": null,
      "metadata": {},
      "outputs": [],
      "source": [
        "# Calculate the median of the total_cup_points column"
      ],
      "id": "9a16b380-3ffa-496e-8f32-5fed40dceabd"
    },
    {
      "cell_type": "code",
      "execution_count": null,
      "metadata": {},
      "outputs": [],
      "source": [
        "# Calculate the standard deviation of the moisture_percentage column"
      ],
      "id": "37ac0e02-07bf-4a4f-aa0d-3cbf65c2d258"
    },
    {
      "cell_type": "markdown",
      "metadata": {},
      "source": [
        "#### Using Pandas"
      ],
      "id": "6fdba353-dbf3-4cd8-bfb9-97d972880749"
    },
    {
      "cell_type": "code",
      "execution_count": null,
      "metadata": {},
      "outputs": [],
      "source": [
        "# Display summary statistics on the numeric columns of the DataFrame"
      ],
      "id": "712280bb-d0f2-4538-bd43-91e90cba23d2"
    },
    {
      "cell_type": "markdown",
      "metadata": {},
      "source": [
        "#### Using SciPy"
      ],
      "id": "b30f1a2f-995c-42c3-b276-c1b5ae6aa34a"
    },
    {
      "cell_type": "code",
      "execution_count": null,
      "metadata": {},
      "outputs": [],
      "source": [
        "# Focus on only Asia and North America entries\n",
        "\n",
        "# Separate the data into two groups\n",
        "\n",
        "\n",
        "# Perform the t-test\n",
        "\n",
        "\n",
        "# Print the results\n"
      ],
      "id": "b3130fa7-4531-45f9-96d8-9e970e45ed21"
    },
    {
      "cell_type": "markdown",
      "metadata": {},
      "source": [
        "------------------------------------------------------------------------\n",
        "\n",
        "## Walkthrough 1.2: Data Summarizing\n",
        "\n",
        "### Compute and interpret measures of central tendency"
      ],
      "id": "8fc24226-878c-41df-a210-99be60488734"
    },
    {
      "cell_type": "code",
      "execution_count": null,
      "metadata": {},
      "outputs": [],
      "source": [
        "# Calculate center statistics for years_code_pro\n",
        "\n",
        "\n",
        "# To extract just the value for mode"
      ],
      "id": "2d4129cf-aa6d-4e1d-972c-55bddf5e932c"
    },
    {
      "cell_type": "markdown",
      "metadata": {},
      "source": [
        "### Compute and interpret measures of variation"
      ],
      "id": "e46d5a51-5a72-4c1d-ac26-61591ccc63b2"
    },
    {
      "cell_type": "code",
      "execution_count": null,
      "metadata": {},
      "outputs": [],
      "source": [
        "# Calculate spread statistics for years_code_pro\n"
      ],
      "id": "e2d75917-5f71-4a5d-b876-ab2f43c2b951"
    },
    {
      "cell_type": "code",
      "execution_count": null,
      "metadata": {},
      "outputs": [],
      "source": [
        "# Calculate the five-number summary for 'years_code_pro'\n",
        "\n",
        "\n",
        "# Print them out"
      ],
      "id": "47fd7998-605a-405d-8012-46f993753517"
    },
    {
      "cell_type": "markdown",
      "metadata": {},
      "source": [
        "## Exercise 1.2: Data Summarizing"
      ],
      "id": "69a8428c-e52d-4b8c-91d1-32aba4f7dc04"
    },
    {
      "cell_type": "code",
      "execution_count": null,
      "metadata": {},
      "outputs": [],
      "source": [
        "# Calculate center statistics for 'aroma'"
      ],
      "id": "317570d0-0f87-4e0a-9cba-3b80ea510132"
    },
    {
      "cell_type": "code",
      "execution_count": null,
      "metadata": {},
      "outputs": [],
      "source": [
        "# Calculate spread statistics for 'aroma'"
      ],
      "id": "d28ed3c6-c714-40c4-8093-03f8d5dcb796"
    },
    {
      "cell_type": "code",
      "execution_count": null,
      "metadata": {},
      "outputs": [],
      "source": [
        "# Calculate the five-number summary for 'aroma'"
      ],
      "id": "827d3099-2a8d-4c41-acbd-16cb9e2548f1"
    },
    {
      "cell_type": "markdown",
      "metadata": {},
      "source": [
        "------------------------------------------------------------------------\n",
        "\n",
        "## Walkthrough 1.3: Cleaning and Preparing Data with Pandas"
      ],
      "id": "2c42888f-86b3-4038-af64-923a2e2cfb28"
    },
    {
      "cell_type": "code",
      "execution_count": null,
      "metadata": {},
      "outputs": [],
      "source": [
        "# Histogram for years_code_pro"
      ],
      "id": "bbbf105d-85b9-4129-9ec1-bdc3ec9c0d81"
    },
    {
      "cell_type": "code",
      "execution_count": null,
      "metadata": {},
      "outputs": [],
      "source": [
        "# Set the default figure size for all plots"
      ],
      "id": "a8f70440-c690-43f8-b940-fe1855919a07"
    },
    {
      "cell_type": "code",
      "execution_count": null,
      "metadata": {},
      "outputs": [],
      "source": [
        "# Box plot for work_exp"
      ],
      "id": "cc295b4d-2578-42ac-ba44-b93b6a936e4d"
    },
    {
      "cell_type": "code",
      "execution_count": null,
      "metadata": {},
      "outputs": [],
      "source": [
        "# Scatter plot for years_code_pro vs. converted_comp_yearly"
      ],
      "id": "931ca9d2-bcce-4725-ac78-a9319d47d9d6"
    },
    {
      "cell_type": "markdown",
      "metadata": {},
      "source": [
        "## Exercise 1.3: Cleaning and Preparing Data with Pandas"
      ],
      "id": "e0e3e23a-04e5-4074-8d21-3fc1b91bb206"
    },
    {
      "cell_type": "code",
      "execution_count": null,
      "metadata": {},
      "outputs": [],
      "source": [
        "# Histogram for acidity"
      ],
      "id": "5c26762b-424c-41a1-a92e-7b9c8833925d"
    },
    {
      "cell_type": "code",
      "execution_count": null,
      "metadata": {},
      "outputs": [],
      "source": [
        "# Box plot for body"
      ],
      "id": "841a325d-3923-4464-a822-9a652d856851"
    },
    {
      "cell_type": "code",
      "execution_count": null,
      "metadata": {},
      "outputs": [],
      "source": [
        "# Scatter plot for body vs. acidity"
      ],
      "id": "f2c5053e-257e-4e80-8893-7915e2203f13"
    },
    {
      "cell_type": "markdown",
      "metadata": {},
      "source": [
        "------------------------------------------------------------------------\n",
        "\n",
        "## Walkthrough 1.4: Sampling Distribution Generation"
      ],
      "id": "d4a1ef1c-87b7-4fdb-8809-79bb8526e978"
    },
    {
      "cell_type": "code",
      "execution_count": null,
      "metadata": {},
      "outputs": [],
      "source": [
        "# Think of our data as a population to draw from\n",
        "\n",
        "# Generate a large sample from the 'converted_comp_yearly' column\n",
        "# Parameters\n",
        "\n",
        "\n",
        "# Set a seed to make code reproducible\n",
        "\n",
        "\n",
        "# Simulate sampling distribution of the mean\n",
        "\n",
        "\n",
        "# Plot the sampling distribution of the sample means"
      ],
      "id": "33b9f7c9-8d8f-4ccd-b511-439699ea9df3"
    },
    {
      "cell_type": "markdown",
      "metadata": {},
      "source": [
        "## Exercise 1.4: Sampling Distribution Generation"
      ],
      "id": "14256da3-708c-4b0c-8085-623d6b021d86"
    },
    {
      "cell_type": "code",
      "execution_count": null,
      "metadata": {},
      "outputs": [],
      "source": [
        "# Think of our aroma data as a population to draw from\n",
        "\n",
        "# Parameters\n",
        "\n",
        "\n",
        "\n",
        "# Set random seed\n",
        "\n",
        "\n",
        "# Simulate sampling distribution of the mean\n",
        "\n",
        "\n",
        "\n",
        "# Plot the sampling distribution of the sample means"
      ],
      "id": "c7759e11-362a-48df-8ae1-f868905fe1d9"
    },
    {
      "cell_type": "markdown",
      "metadata": {},
      "source": [
        "------------------------------------------------------------------------\n",
        "\n",
        "# Week 2\n",
        "\n",
        "## Walkthrough 2.1: Advanced Plots"
      ],
      "id": "8b717b9b-a134-4fe6-9bb5-db763ae3b71a"
    },
    {
      "cell_type": "code",
      "execution_count": null,
      "metadata": {},
      "outputs": [],
      "source": [
        "# Select only numeric columns\n",
        "\n",
        "# Calculate the correlation matrix for numeric columns\n",
        "\n",
        "# Heatmap for correlation matrix"
      ],
      "id": "e89166ce-6612-4d2e-b412-fc47b451568f"
    },
    {
      "cell_type": "code",
      "execution_count": null,
      "metadata": {},
      "outputs": [],
      "source": [
        "# Pair plot for selected variables 'years_code_pro', 'work_exp', 'converted_comp_yearly'"
      ],
      "id": "90e4ae9e-417c-4642-9b1b-9506d00620da"
    },
    {
      "cell_type": "code",
      "execution_count": null,
      "metadata": {},
      "outputs": [],
      "source": [
        "# Time series plot\n",
        "\n",
        "\n",
        "# Count the number of surveys completed each day\n",
        "\n",
        "# Plot the counts as a line chart"
      ],
      "id": "adb911d9-bb0e-4ab7-9b47-99b51261e410"
    },
    {
      "cell_type": "markdown",
      "metadata": {},
      "source": [
        "## Exercise 2.1: Advanced Plots"
      ],
      "id": "2d85942d-ade1-4f37-a6fa-a7ae02261baf"
    },
    {
      "cell_type": "code",
      "execution_count": null,
      "metadata": {},
      "outputs": [],
      "source": [
        "# Select only numeric columns\n",
        "\n",
        "# Drop the 'clean_cup' and 'sweetness' columns since they are always 10\n",
        "numeric_columns = numeric_columns.drop(columns=['clean_cup', 'sweetness'], errors='ignore')\n",
        "\n",
        "# Calculate the correlation matrix for numeric columns\n",
        "\n",
        "\n",
        "# Heatmap for correlation matrix"
      ],
      "id": "3b8c5a70-0f45-4b0f-b38b-bb0da1654311"
    },
    {
      "cell_type": "code",
      "execution_count": null,
      "metadata": {},
      "outputs": [],
      "source": [
        "# Pair plot for selected variables ['aroma', 'acidity', 'body']"
      ],
      "id": "3d598d19-f75b-48bf-97b1-b76d5eb66220"
    },
    {
      "cell_type": "code",
      "execution_count": null,
      "metadata": {},
      "outputs": [],
      "source": [
        "# Plot the mean total_cup_points for each grading_date\n",
        "\n",
        "# Convert to datetime\n",
        "\n",
        "# Extract the month and year from the grading_date column\n",
        "coffee_quality['month'] = coffee_quality['grading_date'].dt.to_period('M')\n",
        "\n",
        "# Aggregate the mean total_cup_points by month\n",
        "\n",
        "# Plot the mean total_cup_points by month as a line chart"
      ],
      "id": "22c9556e-5896-4a45-9878-20a851279b1f"
    },
    {
      "cell_type": "markdown",
      "metadata": {},
      "source": [
        "------------------------------------------------------------------------\n",
        "\n",
        "## Walkthrough 2.2: EDA\n",
        "\n",
        "### Data Cleaning"
      ],
      "id": "450c5647-6379-44c2-833d-1e2a73bc59c8"
    },
    {
      "cell_type": "code",
      "execution_count": null,
      "metadata": {},
      "outputs": [],
      "source": [
        "# Check for missing values\n",
        "\n",
        "\n",
        "# Remove duplicates if any"
      ],
      "id": "6ba365e4-2314-4cec-9953-ea5be982b98d"
    },
    {
      "cell_type": "markdown",
      "metadata": {},
      "source": [
        "### Data Visualization"
      ],
      "id": "14568a53-fb41-4e8c-8d2b-0509870305ec"
    },
    {
      "cell_type": "code",
      "execution_count": null,
      "metadata": {},
      "outputs": [],
      "source": [
        "# Histogram for years_code_pro\n",
        "\n",
        "\n",
        "# Box plot for work_exp\n",
        "\n",
        "\n",
        "# Scatter plot for years_code_pro vs. converted_comp_yearly"
      ],
      "id": "308ba3df-d270-4b8c-965c-6cbef943186d"
    },
    {
      "cell_type": "markdown",
      "metadata": {},
      "source": [
        "### Summary Statistics"
      ],
      "id": "0377ba74-8be8-4bb7-97c5-d40a8725116d"
    },
    {
      "cell_type": "code",
      "execution_count": null,
      "metadata": {},
      "outputs": [],
      "source": [
        "# Calculate summary statistics"
      ],
      "id": "81fc7b22-a94f-4089-a408-2af26e8b74e8"
    },
    {
      "cell_type": "markdown",
      "metadata": {},
      "source": [
        "## Exercise 2.2: EDA\n",
        "\n",
        "### Data Cleaning"
      ],
      "id": "0df60903-fc2d-48dd-afd7-67352ccb83b7"
    },
    {
      "cell_type": "code",
      "execution_count": null,
      "metadata": {},
      "outputs": [],
      "source": [
        "# Check for missing values\n",
        "\n",
        "\n",
        "# Remove duplicates if any"
      ],
      "id": "4d83436b-0778-4707-9d2c-3db8bdb962b8"
    },
    {
      "cell_type": "markdown",
      "metadata": {},
      "source": [
        "### Data Visualization"
      ],
      "id": "d17bddbf-a061-48b8-bcaa-0e15d2b8d8dd"
    },
    {
      "cell_type": "code",
      "execution_count": null,
      "metadata": {},
      "outputs": [],
      "source": [
        "# Histogram for aroma\n",
        "\n",
        "\n",
        "# Box plot for acidity\n",
        "\n",
        "\n",
        "# Scatter plot for aroma vs. total_cup_points"
      ],
      "id": "c3faf9c7-6c44-4504-9937-c51543e39868"
    },
    {
      "cell_type": "markdown",
      "metadata": {},
      "source": [
        "### Summary Statistics"
      ],
      "id": "e7036315-bd10-47a0-b1a9-66626918ec32"
    },
    {
      "cell_type": "code",
      "execution_count": null,
      "metadata": {},
      "outputs": [],
      "source": [
        "# Calculate summary statistics"
      ],
      "id": "2af6574d-c866-40d3-96a3-0106dc7e3fd4"
    },
    {
      "cell_type": "markdown",
      "metadata": {},
      "source": [
        "------------------------------------------------------------------------\n",
        "\n",
        "## Walkthrough 2.3: Data Preprocessing\n",
        "\n",
        "### Inspect the Data after Loading"
      ],
      "id": "7d5e4b64-e97c-4d4e-95f0-9c4b7922f5d8"
    },
    {
      "cell_type": "code",
      "execution_count": null,
      "metadata": {},
      "outputs": [],
      "source": [
        "# Display basic information about the dataset\n",
        "\n",
        "\n",
        "# Display the first few rows of the dataset"
      ],
      "id": "49453152-9860-4ed5-be07-1d0b98a0abd6"
    },
    {
      "cell_type": "markdown",
      "metadata": {},
      "source": [
        "### Handle Missing Values"
      ],
      "id": "a9505dd1-1a68-4554-98c6-44d7fce5a5bf"
    },
    {
      "cell_type": "code",
      "execution_count": null,
      "metadata": {},
      "outputs": [],
      "source": [
        "# Check for missing values\n",
        "\n",
        "\n",
        "# Make a copy of the dataset for imputation\n",
        "\n",
        "# Select only numeric columns\n",
        "\n",
        "# Fill missing values in numeric columns with the median\n",
        "\n",
        "\n",
        "# Display the first few rows of the imputed dataset"
      ],
      "id": "fc0b32ca-c399-425a-bd0d-146cf3839d07"
    },
    {
      "cell_type": "markdown",
      "metadata": {},
      "source": [
        "### Handling Outliers"
      ],
      "id": "4a3c9c8d-9646-4f7a-ae27-923a96bf98e4"
    },
    {
      "cell_type": "code",
      "execution_count": null,
      "metadata": {},
      "outputs": [],
      "source": [
        "# Select only numeric columns\n",
        "\n",
        "# Identify outliers using IQR\n",
        "\n",
        "\n",
        "# Remove outliers"
      ],
      "id": "711f80ca-d3a4-4955-801c-68ea7e5159be"
    },
    {
      "cell_type": "markdown",
      "metadata": {},
      "source": [
        "### Data Transformation"
      ],
      "id": "816321af-b312-410d-a29e-9580db9775e4"
    },
    {
      "cell_type": "code",
      "execution_count": null,
      "metadata": {},
      "outputs": [],
      "source": [
        "# Normalization on converted_comp_yearly\n",
        "\n",
        "\n",
        "# Standardization on work_exp\n",
        "\n",
        "\n",
        "# Encoding categorical variables (country)"
      ],
      "id": "bfbb19a4-d899-4d7a-ab8b-53a0f4bfd99e"
    },
    {
      "cell_type": "markdown",
      "metadata": {},
      "source": [
        "### Data Visualizations on Preprocessed Data"
      ],
      "id": "94ffdbb3-3217-4680-9c09-b361637f0bee"
    },
    {
      "cell_type": "code",
      "execution_count": null,
      "metadata": {},
      "outputs": [],
      "source": [
        "# Histogram for years_code_pro\n",
        "\n",
        "\n",
        "# Box plot for work_exp\n",
        "\n",
        "\n",
        "# Scatter plot for years_code_pro vs. converted_comp_yearly"
      ],
      "id": "1bcabd60-2b65-41c3-80f5-fbd2a92da155"
    },
    {
      "cell_type": "markdown",
      "metadata": {},
      "source": [
        "## Exercise 2.3: Data Preprocessing\n",
        "\n",
        "### Inspect the Data after Loading"
      ],
      "id": "64bdbb42-80c6-4255-aa6e-714ad6747584"
    },
    {
      "cell_type": "code",
      "execution_count": null,
      "metadata": {},
      "outputs": [],
      "source": [
        "# Display basic information about the dataset\n",
        "\n",
        "\n",
        "# Display the first few rows of the dataset"
      ],
      "id": "d4b96ddd-f817-4d57-8444-adf2c86162e8"
    },
    {
      "cell_type": "markdown",
      "metadata": {},
      "source": [
        "### Handle Missing Values"
      ],
      "id": "630a4be9-c1d1-46d1-b3c8-a61efb2ef3a1"
    },
    {
      "cell_type": "code",
      "execution_count": null,
      "metadata": {},
      "outputs": [],
      "source": [
        "# Check for missing values\n",
        "\n",
        "\n",
        "# Make a copy of the dataset for imputation\n",
        "\n",
        "\n",
        "# Select only numeric columns\n",
        "\n",
        "\n",
        "# Fill missing values in numeric columns with the median\n",
        "\n",
        "\n",
        "# Display the first few rows of the imputed dataset"
      ],
      "id": "a08877e9-d7d6-4bb7-b0fd-7b5ba8beedfc"
    },
    {
      "cell_type": "markdown",
      "metadata": {},
      "source": [
        "### Handle Outliers"
      ],
      "id": "9c8f89cc-0306-4b9f-ad16-bce0713232a2"
    },
    {
      "cell_type": "code",
      "execution_count": null,
      "metadata": {},
      "outputs": [],
      "source": [
        "# Select only numeric columns\n",
        "\n",
        "# Identify outliers using IQR\n",
        "\n",
        "\n",
        "# Remove outliers"
      ],
      "id": "00aeeae3-1afa-41d3-89a9-a4dd62e5d393"
    },
    {
      "cell_type": "markdown",
      "metadata": {},
      "source": [
        "### Data Transformation"
      ],
      "id": "d984a3fc-eacc-4928-92a6-4549a983dd95"
    },
    {
      "cell_type": "code",
      "execution_count": null,
      "metadata": {},
      "outputs": [],
      "source": [
        "# Normalization on total_cup_points\n",
        "\n",
        "\n",
        "# Standardization on acidity\n",
        "\n",
        "\n",
        "# Encoding categorical variables (country and continent of origin)"
      ],
      "id": "59eed70a-b569-4792-b99f-4efb37d7d0b0"
    },
    {
      "cell_type": "markdown",
      "metadata": {},
      "source": [
        "### Data Visualizations on Preprocessed Data"
      ],
      "id": "f26cf59b-bfb4-4167-973b-2109e47feb9b"
    },
    {
      "cell_type": "code",
      "execution_count": null,
      "metadata": {},
      "outputs": [],
      "source": [
        "# Histogram for aroma\n",
        "\n",
        "\n",
        "# Box plot for acidity\n",
        "\n",
        "\n",
        "# Scatter plot for aroma vs. total_cup_points"
      ],
      "id": "c1dfb7a9-b2e5-478a-8681-1017f38b1555"
    },
    {
      "cell_type": "markdown",
      "metadata": {},
      "source": [
        "------------------------------------------------------------------------\n",
        "\n",
        "## Walkthrough 2.4: Correlations\n",
        "\n",
        "### Correlation Matrix"
      ],
      "id": "b7d62b6b-8e8c-4ddf-bb3a-d7266f7f8fd0"
    },
    {
      "cell_type": "code",
      "execution_count": null,
      "metadata": {},
      "outputs": [],
      "source": [
        "# Select only numeric columns\n",
        "\n",
        "# Calculate the correlation matrix\n",
        "\n",
        "# Display the correlation matrix"
      ],
      "id": "3868aeb2-3862-4f1c-ac78-582bd79a9703"
    },
    {
      "cell_type": "markdown",
      "metadata": {},
      "source": [
        "### Visualize Correlations"
      ],
      "id": "64c154b1-c223-407a-bff0-fa0936b03309"
    },
    {
      "cell_type": "code",
      "execution_count": null,
      "metadata": {},
      "outputs": [],
      "source": [
        "# Heatmap for correlation matrix"
      ],
      "id": "12869484-4f11-4353-a6ac-85cda2f3ad6e"
    },
    {
      "cell_type": "markdown",
      "metadata": {},
      "source": [
        "### Create Scatter Plots for Meaningful Correlations"
      ],
      "id": "0812498f-1330-4c58-a6d6-a51fc9216f82"
    },
    {
      "cell_type": "code",
      "execution_count": null,
      "metadata": {},
      "outputs": [],
      "source": [
        "# Scatter plot for years_code_pro vs. years_code\n",
        "\n",
        "\n",
        "# Scatter plot for work_exp vs. years_code_pro"
      ],
      "id": "8e16866d-d6be-4088-8d74-baec9a10d46f"
    },
    {
      "cell_type": "markdown",
      "metadata": {},
      "source": [
        "## Exercise 2.4: Correlations\n",
        "\n",
        "### Correlation Matrix"
      ],
      "id": "e1095622-ce28-45ba-b5c8-de410972064e"
    },
    {
      "cell_type": "code",
      "execution_count": null,
      "metadata": {},
      "outputs": [],
      "source": [
        "# Select only numeric columns\n",
        "\n",
        "# Remove clean_cup and sweetness too\n",
        "\n",
        "# Calculate the correlation matrix\n",
        "\n",
        "# Display the correlation matrix"
      ],
      "id": "4ae66732-ad21-4994-af18-f70382d7c445"
    },
    {
      "cell_type": "markdown",
      "metadata": {},
      "source": [
        "### Visualize Correlations"
      ],
      "id": "45bc0f85-d930-42f4-b788-5b24ea2d9aed"
    },
    {
      "cell_type": "code",
      "execution_count": null,
      "metadata": {},
      "outputs": [],
      "source": [
        "# Heatmap for correlation matrix"
      ],
      "id": "d150745b-19f5-45eb-9479-4821913d5254"
    },
    {
      "cell_type": "markdown",
      "metadata": {},
      "source": [
        "### Create Scatter Plots for Meaningful Correlations"
      ],
      "id": "ab496301-5e6f-467e-857e-669e0cc3164f"
    },
    {
      "cell_type": "code",
      "execution_count": null,
      "metadata": {},
      "outputs": [],
      "source": [
        "# Scatter plot for flavor vs. total_cup_points\n",
        "\n",
        "\n",
        "# Scatter plot for overall vs. total_cup_points"
      ],
      "id": "621595c4-6628-4e0e-87dd-15d9a1b828ce"
    },
    {
      "cell_type": "markdown",
      "metadata": {},
      "source": [
        "------------------------------------------------------------------------\n",
        "\n",
        "# Week 3\n",
        "\n",
        "## Walkthrough 3.1: Simulating Distributions\n",
        "\n",
        "### Simulating Binomial"
      ],
      "id": "7ec8d2b0-9259-4dd3-b784-5af8cd4439e4"
    },
    {
      "cell_type": "code",
      "execution_count": null,
      "metadata": {},
      "outputs": [],
      "source": [
        "# Simulate binomial distribution\n",
        "\n",
        "# Plot histogram"
      ],
      "id": "cfd47bde-d5a6-4576-acfd-d720cc5d92b4"
    },
    {
      "cell_type": "markdown",
      "metadata": {},
      "source": [
        "### Simulating Normal"
      ],
      "id": "dc6ad296-b0de-4286-b914-7ed987c438f0"
    },
    {
      "cell_type": "code",
      "execution_count": null,
      "metadata": {},
      "outputs": [],
      "source": [
        "# Simulate normal distribution\n",
        "\n",
        "# Plot histogram"
      ],
      "id": "a8a0e88c-8d3e-4662-85d5-45a4e1878fbb"
    },
    {
      "cell_type": "markdown",
      "metadata": {},
      "source": [
        "## Exercise 3.1:\n",
        "\n",
        "### Simulating Poisson"
      ],
      "id": "96cc13e4-e6ed-46ac-b943-42c7717ee6c3"
    },
    {
      "cell_type": "code",
      "execution_count": null,
      "metadata": {},
      "outputs": [],
      "source": [
        "# Simulate Poisson distribution with lambda (lam) parameter 3\n",
        "\n",
        "# Plot histogram"
      ],
      "id": "2a40ed73-2cac-483c-8110-89a2444041e2"
    },
    {
      "cell_type": "markdown",
      "metadata": {},
      "source": [
        "### Simulating Exponential"
      ],
      "id": "6ab56d31-3791-4091-ab41-a6a70876c8aa"
    },
    {
      "cell_type": "code",
      "execution_count": null,
      "metadata": {},
      "outputs": [],
      "source": [
        "# Simulate exponential distribution with scale parameter 1\n",
        "\n",
        "# Plot histogram"
      ],
      "id": "72c10b07-a8a2-4666-b0b9-255af9357cd3"
    },
    {
      "cell_type": "markdown",
      "metadata": {},
      "source": [
        "------------------------------------------------------------------------\n",
        "\n",
        "## Walkthrough 3.2: t-tests"
      ],
      "id": "30ff1327-2fe8-4403-ae3f-e8e26ffd0b87"
    },
    {
      "cell_type": "code",
      "execution_count": null,
      "metadata": {},
      "outputs": [],
      "source": [
        "# One-sample t-test checking for evidence that mu compensation > 85000"
      ],
      "id": "8f483b59-a6c6-471e-90c8-7bd1f6b6b637"
    },
    {
      "cell_type": "code",
      "execution_count": null,
      "metadata": {},
      "outputs": [],
      "source": [
        "# Two-sample t-test comparing compensation across plans_to_use_ai groups\n",
        "# Checking for a difference"
      ],
      "id": "a6ff817d-79e6-475c-a6bc-266902a099d8"
    },
    {
      "cell_type": "markdown",
      "metadata": {},
      "source": [
        "## Exercise 3.2: t-tests"
      ],
      "id": "c9bcd50b-f625-4e28-a417-7d594106482a"
    },
    {
      "cell_type": "code",
      "execution_count": null,
      "metadata": {},
      "outputs": [],
      "source": [
        "# One-sample t-test checking for evidence that mu flavor < 7.8"
      ],
      "id": "598a9870-8e54-43df-8c2b-487e2860aa46"
    },
    {
      "cell_type": "code",
      "execution_count": null,
      "metadata": {},
      "outputs": [],
      "source": [
        "# Two-sample t-test checking for difference in Columbia and Brazil total_cup_points"
      ],
      "id": "a0463510-56a2-4fc4-95c2-625669b7f55b"
    },
    {
      "cell_type": "markdown",
      "metadata": {},
      "source": [
        "------------------------------------------------------------------------\n",
        "\n",
        "## Walkthrough 3.3: Comparative Tests"
      ],
      "id": "5101d147-7a0a-4dd9-993c-f899d6866694"
    },
    {
      "cell_type": "code",
      "execution_count": null,
      "metadata": {},
      "outputs": [],
      "source": [
        "# Perform one-way ANOVA comparing compensation across different levels of\n",
        "# remote_work"
      ],
      "id": "59e58ca8-cbe3-418f-b38a-97888800a3cb"
    },
    {
      "cell_type": "code",
      "execution_count": null,
      "metadata": {},
      "outputs": [],
      "source": [
        "# Create a contingency table of employment and remote_work\n",
        "\n",
        "\n",
        "# Perform chi-square test"
      ],
      "id": "14e3c0e0-bf0d-4529-b450-3eeab1ea966a"
    },
    {
      "cell_type": "markdown",
      "metadata": {},
      "source": [
        "## Exercise 3.3: Comparative Tests"
      ],
      "id": "9593139d-cc0e-473c-8b83-0785da3c2c2c"
    },
    {
      "cell_type": "code",
      "execution_count": null,
      "metadata": {},
      "outputs": [],
      "source": [
        "# Perform one-way ANOVA comparing total_cup_points across country_of_origin"
      ],
      "id": "91673437-1662-4407-9f0c-2990e42f5abe"
    },
    {
      "cell_type": "code",
      "execution_count": null,
      "metadata": {},
      "outputs": [],
      "source": [
        "# Perform a chi-square test of independence for processing_method versus\n",
        "# continent_of_origin\n",
        "\n",
        "# Create a contingency table\n",
        "\n",
        "\n",
        "# Perform chi-square test"
      ],
      "id": "d6a027b3-1613-49ec-8cfb-4dfe75b6e557"
    },
    {
      "cell_type": "markdown",
      "metadata": {},
      "source": [
        "------------------------------------------------------------------------\n",
        "\n",
        "## Walkthrough 3.4: Non-Parametric Tests"
      ],
      "id": "824b380f-92b8-4e89-a137-e1e5fda959fb"
    },
    {
      "cell_type": "code",
      "execution_count": null,
      "metadata": {},
      "outputs": [],
      "source": [
        "# Perform Mann-Whitney U Test comparing compensation for Remote and In-person"
      ],
      "id": "02f6b26e-1d3a-407e-8bbd-06ddae762d50"
    },
    {
      "cell_type": "code",
      "execution_count": null,
      "metadata": {},
      "outputs": [],
      "source": [
        "# Perform Kruskal-Wallis H Test comparing compensation across countries"
      ],
      "id": "5ea0ce4a-7c79-4714-9fcc-d8ff79015d34"
    },
    {
      "cell_type": "markdown",
      "metadata": {},
      "source": [
        "## Exercise 3.4: Non-Parametric Tests"
      ],
      "id": "0607c146-cfb8-45dd-a7a8-7dd4b8c88640"
    },
    {
      "cell_type": "code",
      "execution_count": null,
      "metadata": {},
      "outputs": [],
      "source": [
        "# Perform Mann-Whitney U Test comparing total_cup_points for Guatemala\n",
        "# and Honduras"
      ],
      "id": "5f0c2015-2524-4d5d-92e1-b85ed2e0f024"
    },
    {
      "cell_type": "code",
      "execution_count": null,
      "metadata": {},
      "outputs": [],
      "source": [
        "# Perform Kruskal-Wallis H Test comparing total_cup_points across \n",
        "# continent_of_origin"
      ],
      "id": "79004343-61fc-4c42-a0d5-bb92bceb95ea"
    }
  ],
  "nbformat": 4,
  "nbformat_minor": 5,
  "metadata": {
    "kernelspec": {
      "display_name": "Python 3",
      "language": "python",
      "name": "python3"
    }
  }
}