{
 "cells": [
  {
   "cell_type": "markdown",
   "id": "82218ee2-5316-45cb-b1d3-0ce1496e4948",
   "metadata": {},
   "source": [
    "# Walkthroughs and Exercises for *Fundamentals of Statistics with Python*\n",
    "\n",
    "Dr. Chester Ismay"
   ]
  },
  {
   "cell_type": "code",
   "execution_count": null,
   "id": "443184b1-52d9-43bc-8609-8b8708efc9cb",
   "metadata": {},
   "outputs": [],
   "source": [
    "# Install the packages directly if needed with pip\n",
    "# Check the repo's README below for more information\n",
    "!pip install numpy pandas scipy matplotlib seaborn statsmodels scikit-learn jupyter"
   ]
  },
  {
   "cell_type": "code",
   "execution_count": 1,
   "id": "a5ac970c-9140-4f7d-a61c-3d98d4b22770",
   "metadata": {},
   "outputs": [],
   "source": [
    "import pandas as pd\n",
    "\n",
    "# Display all columns\n",
    "pd.set_option('display.max_columns', None)\n",
    "\n",
    "# Display all outputs from each cell\n",
    "from IPython.core.interactiveshell import InteractiveShell\n",
    "InteractiveShell.ast_node_interactivity = \"all\""
   ]
  },
  {
   "cell_type": "markdown",
   "id": "eacd059d-f3ef-4307-a186-1292d4ce2802",
   "metadata": {},
   "source": [
    "# Week 1\n",
    "\n",
    "## Walkthrough 1.1: Getting Started\n",
    "\n",
    "### Setting Up the Python Environment\n",
    "\n",
    "If you haven’t already installed Python, Jupyter, and the necessary\n",
    "packages, there are instructions on the course repo in the README to do\n",
    "so\n",
    "[here](https://github.com/ismayc/oreilly-fundamentals-of-statistics-with-python/blob/main/README.md).\n",
    "\n",
    "If you aren’t able to do this on your machine, you may want to check out\n",
    "[Google Colab](https://colab.research.google.com/). It’s a free service\n",
    "that allows you to run Jupyter notebooks in the cloud. Alternatively,\n",
    "I’ve set up some temporary notebooks on Binder\n",
    "([![()](https://mybinder.org/badge_logo.svg)](https://mybinder.org/v2/gh/ismayc/oreilly-fundamentals-of-statistics-with-python/main?urlpath=%2Fdoc%2Ftree%2Fexercises.ipynb))\n",
    "that you can work with online as well."
   ]
  },
  {
   "cell_type": "code",
   "execution_count": 2,
   "id": "803fd848-c9b1-43eb-b469-bb640ab45320",
   "metadata": {},
   "outputs": [],
   "source": [
    "# Importing libraries/modules and aliasing them as needed\n",
    "import numpy as np\n",
    "import pandas as pd\n",
    "import scipy.stats as stats\n",
    "import matplotlib.pyplot as plt\n",
    "import seaborn as sns\n",
    "import statsmodels.api as sm\n",
    "from sklearn.preprocessing import MinMaxScaler, StandardScaler"
   ]
  },
  {
   "cell_type": "markdown",
   "id": "4a9676cb-8375-4e41-9752-c383152439ee",
   "metadata": {},
   "source": [
    "### Exploring a dataset"
   ]
  },
  {
   "cell_type": "code",
   "execution_count": 3,
   "id": "184c24e4-8293-443c-a154-b59b4b3bf65b",
   "metadata": {},
   "outputs": [],
   "source": [
    "# Load in the dataset\n",
    "data_dev_survey = pd.read_csv(\"data_dev_survey.csv\")"
   ]
  },
  {
   "cell_type": "code",
   "execution_count": 4,
   "id": "0fff4d2c-d256-42ce-b465-33b9114d3989",
   "metadata": {},
   "outputs": [
    {
     "name": "stdout",
     "output_type": "stream",
     "text": [
      "<class 'pandas.core.frame.DataFrame'>\n",
      "RangeIndex: 1183 entries, 0 to 1182\n",
      "Data columns (total 24 columns):\n",
      " #   Column                      Non-Null Count  Dtype  \n",
      "---  ------                      --------------  -----  \n",
      " 0   response_id                 1183 non-null   int64  \n",
      " 1   work_as_dev                 1183 non-null   object \n",
      " 2   age                         1183 non-null   object \n",
      " 3   employment                  1183 non-null   object \n",
      " 4   remote_work                 1183 non-null   object \n",
      " 5   coding_activities           1182 non-null   object \n",
      " 6   ed_level                    1183 non-null   object \n",
      " 7   dev_type                    1183 non-null   object \n",
      " 8   years_code                  1182 non-null   float64\n",
      " 9   years_code_pro              1183 non-null   int64  \n",
      " 10  org_size                    1183 non-null   object \n",
      " 11  country                     1183 non-null   object \n",
      " 12  language_have_worked_with   1183 non-null   object \n",
      " 13  language_want_to_work_with  1116 non-null   object \n",
      " 14  op_sys_professional_use     1110 non-null   object \n",
      " 15  ai_view                     1183 non-null   object \n",
      " 16  ai_trust                    1183 non-null   object \n",
      " 17  ic_or_manager               1183 non-null   object \n",
      " 18  work_exp                    1183 non-null   int64  \n",
      " 19  industry                    949 non-null    object \n",
      " 20  us_or_not                   1183 non-null   object \n",
      " 21  plans_to_use_ai             1183 non-null   object \n",
      " 22  converted_comp_yearly       1183 non-null   int64  \n",
      " 23  survey_completion_date      1183 non-null   object \n",
      "dtypes: float64(1), int64(4), object(19)\n",
      "memory usage: 221.9+ KB\n"
     ]
    }
   ],
   "source": [
    "# Display information about the DataFrame\n",
    "data_dev_survey.info()"
   ]
  },
  {
   "cell_type": "markdown",
   "id": "4406b42b-5f6f-4113-a663-7568fea3c762",
   "metadata": {},
   "source": [
    "### Performing basic statistical functions using NumPy, Pandas, and SciPy.\n",
    "\n",
    "#### Using NumPy"
   ]
  },
  {
   "cell_type": "code",
   "execution_count": 5,
   "id": "b27d8ac2-371c-4064-8282-b92e1d58f927",
   "metadata": {},
   "outputs": [
    {
     "data": {
      "text/plain": [
       "7.961115807269653"
      ]
     },
     "execution_count": 5,
     "metadata": {},
     "output_type": "execute_result"
    }
   ],
   "source": [
    "# Calculate the mean of the years_code_pro column\n",
    "np.mean(data_dev_survey['years_code_pro'])"
   ]
  },
  {
   "cell_type": "code",
   "execution_count": 6,
   "id": "6e977817-0d4f-41ab-ad54-a9d704265ba8",
   "metadata": {},
   "outputs": [
    {
     "data": {
      "text/plain": [
       "7.0"
      ]
     },
     "execution_count": 6,
     "metadata": {},
     "output_type": "execute_result"
    }
   ],
   "source": [
    "# Calculate the median of the work_exp column\n",
    "np.median(data_dev_survey['work_exp'])"
   ]
  },
  {
   "cell_type": "code",
   "execution_count": 7,
   "id": "ac45187e-0309-435c-aee5-39e3c0be384f",
   "metadata": {},
   "outputs": [
    {
     "data": {
      "text/plain": [
       "81861.24268446874"
      ]
     },
     "execution_count": 7,
     "metadata": {},
     "output_type": "execute_result"
    }
   ],
   "source": [
    "# Calculate the standard deviation of the converted_comp_yearly column\n",
    "np.std(data_dev_survey['converted_comp_yearly'])"
   ]
  },
  {
   "cell_type": "markdown",
   "id": "60e869f6-1ff1-4e6b-8314-0ecec4a5ca33",
   "metadata": {},
   "source": [
    "#### Using Pandas"
   ]
  },
  {
   "cell_type": "code",
   "execution_count": 8,
   "id": "91aaf25c-8c0f-4b50-a695-d52952eb5ec9",
   "metadata": {},
   "outputs": [
    {
     "data": {
      "text/html": [
       "<div>\n",
       "<style scoped>\n",
       "    .dataframe tbody tr th:only-of-type {\n",
       "        vertical-align: middle;\n",
       "    }\n",
       "\n",
       "    .dataframe tbody tr th {\n",
       "        vertical-align: top;\n",
       "    }\n",
       "\n",
       "    .dataframe thead th {\n",
       "        text-align: right;\n",
       "    }\n",
       "</style>\n",
       "<table border=\"1\" class=\"dataframe\">\n",
       "  <thead>\n",
       "    <tr style=\"text-align: right;\">\n",
       "      <th></th>\n",
       "      <th>response_id</th>\n",
       "      <th>years_code</th>\n",
       "      <th>years_code_pro</th>\n",
       "      <th>work_exp</th>\n",
       "      <th>converted_comp_yearly</th>\n",
       "    </tr>\n",
       "  </thead>\n",
       "  <tbody>\n",
       "    <tr>\n",
       "      <th>count</th>\n",
       "      <td>1183.000000</td>\n",
       "      <td>1182.000000</td>\n",
       "      <td>1183.000000</td>\n",
       "      <td>1183.000000</td>\n",
       "      <td>1.183000e+03</td>\n",
       "    </tr>\n",
       "    <tr>\n",
       "      <th>mean</th>\n",
       "      <td>43949.774303</td>\n",
       "      <td>12.534687</td>\n",
       "      <td>7.961116</td>\n",
       "      <td>9.650042</td>\n",
       "      <td>9.068442e+04</td>\n",
       "    </tr>\n",
       "    <tr>\n",
       "      <th>std</th>\n",
       "      <td>25327.979423</td>\n",
       "      <td>8.384094</td>\n",
       "      <td>7.153751</td>\n",
       "      <td>8.189750</td>\n",
       "      <td>8.189586e+04</td>\n",
       "    </tr>\n",
       "    <tr>\n",
       "      <th>min</th>\n",
       "      <td>164.000000</td>\n",
       "      <td>1.000000</td>\n",
       "      <td>0.000000</td>\n",
       "      <td>0.000000</td>\n",
       "      <td>3.000000e+00</td>\n",
       "    </tr>\n",
       "    <tr>\n",
       "      <th>25%</th>\n",
       "      <td>22733.000000</td>\n",
       "      <td>7.000000</td>\n",
       "      <td>3.000000</td>\n",
       "      <td>4.000000</td>\n",
       "      <td>4.159300e+04</td>\n",
       "    </tr>\n",
       "    <tr>\n",
       "      <th>50%</th>\n",
       "      <td>43305.000000</td>\n",
       "      <td>10.000000</td>\n",
       "      <td>6.000000</td>\n",
       "      <td>7.000000</td>\n",
       "      <td>7.271400e+04</td>\n",
       "    </tr>\n",
       "    <tr>\n",
       "      <th>75%</th>\n",
       "      <td>65791.000000</td>\n",
       "      <td>16.000000</td>\n",
       "      <td>10.000000</td>\n",
       "      <td>13.000000</td>\n",
       "      <td>1.200000e+05</td>\n",
       "    </tr>\n",
       "    <tr>\n",
       "      <th>max</th>\n",
       "      <td>89072.000000</td>\n",
       "      <td>50.000000</td>\n",
       "      <td>50.000000</td>\n",
       "      <td>48.000000</td>\n",
       "      <td>1.200000e+06</td>\n",
       "    </tr>\n",
       "  </tbody>\n",
       "</table>\n",
       "</div>"
      ],
      "text/plain": [
       "        response_id   years_code  years_code_pro     work_exp  \\\n",
       "count   1183.000000  1182.000000     1183.000000  1183.000000   \n",
       "mean   43949.774303    12.534687        7.961116     9.650042   \n",
       "std    25327.979423     8.384094        7.153751     8.189750   \n",
       "min      164.000000     1.000000        0.000000     0.000000   \n",
       "25%    22733.000000     7.000000        3.000000     4.000000   \n",
       "50%    43305.000000    10.000000        6.000000     7.000000   \n",
       "75%    65791.000000    16.000000       10.000000    13.000000   \n",
       "max    89072.000000    50.000000       50.000000    48.000000   \n",
       "\n",
       "       converted_comp_yearly  \n",
       "count           1.183000e+03  \n",
       "mean            9.068442e+04  \n",
       "std             8.189586e+04  \n",
       "min             3.000000e+00  \n",
       "25%             4.159300e+04  \n",
       "50%             7.271400e+04  \n",
       "75%             1.200000e+05  \n",
       "max             1.200000e+06  "
      ]
     },
     "execution_count": 8,
     "metadata": {},
     "output_type": "execute_result"
    }
   ],
   "source": [
    "# Display summary statistics on the numeric columns of the DataFrame\n",
    "data_dev_survey.describe()"
   ]
  },
  {
   "cell_type": "markdown",
   "id": "49d1c73c-2738-4967-927e-739bc6acdf13",
   "metadata": {},
   "source": [
    "#### Using SciPy"
   ]
  },
  {
   "cell_type": "code",
   "execution_count": 10,
   "id": "5f922216-74db-4c14-9d77-3392901ea0aa",
   "metadata": {},
   "outputs": [
    {
     "data": {
      "text/plain": [
       "0.9293366153676751"
      ]
     },
     "execution_count": 10,
     "metadata": {},
     "output_type": "execute_result"
    },
    {
     "data": {
      "text/plain": [
       "0.3529304815725288"
      ]
     },
     "execution_count": 10,
     "metadata": {},
     "output_type": "execute_result"
    }
   ],
   "source": [
    "# Separate the data into two groups\n",
    "using_ai = data_dev_survey[ data_dev_survey['plans_to_use_ai'] == 'Using' ]\\\n",
    "    ['converted_comp_yearly']\n",
    "plans_to_use_ai = data_dev_survey[ data_dev_survey.plans_to_use_ai == 'Plan to use']\\\n",
    "    ['converted_comp_yearly']\n",
    "\n",
    "# Perform the t-test\n",
    "t_stat, p_value = stats.ttest_ind(using_ai, plans_to_use_ai, equal_var=False)\n",
    "\n",
    "# Print the results\n",
    "t_stat\n",
    "p_value"
   ]
  },
  {
   "cell_type": "markdown",
   "id": "e8a4a98e-a087-4841-85ff-a476ef641c9b",
   "metadata": {},
   "source": [
    "## Exercise 1.1: Getting Started\n",
    "\n",
    "### Setting Up the Python Environment\n",
    "\n",
    "If you ran the `# Importing libraries and aliasing them` code above, you\n",
    "should be good to proceed here. If not, scroll up and run it.\n",
    "\n",
    "### Exploring a dataset"
   ]
  },
  {
   "cell_type": "code",
   "execution_count": null,
   "id": "8e4bbc8a-47ac-46e4-a4c7-d01b024119d9",
   "metadata": {},
   "outputs": [],
   "source": [
    "# Load in the coffee_quality dataset"
   ]
  },
  {
   "cell_type": "code",
   "execution_count": null,
   "id": "80458317-d7e9-47ac-b130-c4241d1e7c8a",
   "metadata": {},
   "outputs": [],
   "source": [
    "# Display information about the DataFrame"
   ]
  },
  {
   "cell_type": "markdown",
   "id": "bc49fc15-1293-4ca5-a74f-93a134845d7c",
   "metadata": {},
   "source": [
    "### Performing basic statistical functions using NumPy, Pandas, and SciPy.\n",
    "\n",
    "#### Using NumPy"
   ]
  },
  {
   "cell_type": "code",
   "execution_count": null,
   "id": "ddf92ab0-8ee1-4e43-b225-fed8a12b2a32",
   "metadata": {},
   "outputs": [],
   "source": [
    "# Calculate the mean of the aroma column"
   ]
  },
  {
   "cell_type": "code",
   "execution_count": null,
   "id": "72dbad3d-a201-4164-a350-bc864ac2627f",
   "metadata": {},
   "outputs": [],
   "source": [
    "# Calculate the median of the total_cup_points column"
   ]
  },
  {
   "cell_type": "code",
   "execution_count": null,
   "id": "fc97c058-862b-43f7-8731-332acd1b6d64",
   "metadata": {},
   "outputs": [],
   "source": [
    "# Calculate the standard deviation of the moisture_percentage column"
   ]
  },
  {
   "cell_type": "markdown",
   "id": "3ea3e674-7bb7-4530-8e38-06977211d7a7",
   "metadata": {},
   "source": [
    "#### Using Pandas"
   ]
  },
  {
   "cell_type": "code",
   "execution_count": null,
   "id": "772a5f64-0cde-44ce-b0b5-4d70fdb423c6",
   "metadata": {},
   "outputs": [],
   "source": [
    "# Display summary statistics on the numeric columns of the DataFrame"
   ]
  },
  {
   "cell_type": "markdown",
   "id": "d4059117-7800-4a8b-a8e6-19fec6505c3c",
   "metadata": {},
   "source": [
    "#### Using SciPy"
   ]
  },
  {
   "cell_type": "code",
   "execution_count": null,
   "id": "fb82397e-4930-45a4-96cd-670fb90777df",
   "metadata": {},
   "outputs": [],
   "source": [
    "# Focus on only Asia and North America entries\n",
    "\n",
    "# Separate the data into two groups\n",
    "\n",
    "\n",
    "# Perform the t-test to test for difference in total_cup_points\n",
    "\n",
    "\n",
    "# Print the results\n"
   ]
  },
  {
   "cell_type": "markdown",
   "id": "f7101595-109d-4021-ba6d-9d274fd9292c",
   "metadata": {},
   "source": [
    "------------------------------------------------------------------------\n",
    "\n",
    "## Walkthrough 1.2: Data Summarizing\n",
    "\n",
    "### Compute and interpret measures of central tendency"
   ]
  },
  {
   "cell_type": "code",
   "execution_count": 13,
   "id": "08ce610e-fac0-404e-ac8c-e3e8d0756fcc",
   "metadata": {},
   "outputs": [
    {
     "data": {
      "text/plain": [
       "7.961115807269653"
      ]
     },
     "execution_count": 13,
     "metadata": {},
     "output_type": "execute_result"
    },
    {
     "data": {
      "text/plain": [
       "6.0"
      ]
     },
     "execution_count": 13,
     "metadata": {},
     "output_type": "execute_result"
    },
    {
     "data": {
      "text/plain": [
       "2"
      ]
     },
     "execution_count": 13,
     "metadata": {},
     "output_type": "execute_result"
    }
   ],
   "source": [
    "# Calculate center statistics for years_code_pro\n",
    "# Could also use NumPy, but this is a Pandas way:\n",
    "data_dev_survey.years_code_pro.mean()\n",
    "data_dev_survey.years_code_pro.median()\n",
    "\n",
    "# To extract just the value for mode\n",
    "data_dev_survey.years_code_pro.mode()[0]"
   ]
  },
  {
   "cell_type": "markdown",
   "id": "755311a2-e6d9-4210-9bd0-0d8a9d40ba9e",
   "metadata": {},
   "source": [
    "### Compute and interpret measures of variation"
   ]
  },
  {
   "cell_type": "code",
   "execution_count": 25,
   "id": "95cb58fc-35e5-4188-8f71-628e47e4c7d7",
   "metadata": {},
   "outputs": [
    {
     "data": {
      "text/plain": [
       "50"
      ]
     },
     "execution_count": 25,
     "metadata": {},
     "output_type": "execute_result"
    },
    {
     "data": {
      "text/plain": [
       "51.17615171500372"
      ]
     },
     "execution_count": 25,
     "metadata": {},
     "output_type": "execute_result"
    },
    {
     "data": {
      "text/plain": [
       "7.153750884326607"
      ]
     },
     "execution_count": 25,
     "metadata": {},
     "output_type": "execute_result"
    }
   ],
   "source": [
    "# Calculating a mean\n",
    "list_of_values = [1, 2, 3, 4, 70]\n",
    "#np.mean(list_of_values)\n",
    "#np.median(list_of_values)\n",
    "\n",
    "# Calculate spread statistics for years_code_pro\n",
    "\n",
    "# Range\n",
    "range_years_code_pro = data_dev_survey.years_code_pro.max() - data_dev_survey.years_code_pro.min()\n",
    "range_years_code_pro\n",
    "\n",
    "# Variance\n",
    "data_dev_survey.years_code_pro.var()\n",
    "\n",
    "# Standard deviation is the square root of variance\n",
    "# In the same units as our original data\n",
    "data_dev_survey.years_code_pro.std()"
   ]
  },
  {
   "cell_type": "code",
   "execution_count": 26,
   "id": "dcc28085-9fe1-4a13-ac13-1d208ddd2058",
   "metadata": {},
   "outputs": [
    {
     "data": {
      "text/plain": [
       "0"
      ]
     },
     "execution_count": 26,
     "metadata": {},
     "output_type": "execute_result"
    },
    {
     "data": {
      "text/plain": [
       "3.0"
      ]
     },
     "execution_count": 26,
     "metadata": {},
     "output_type": "execute_result"
    },
    {
     "data": {
      "text/plain": [
       "6.0"
      ]
     },
     "execution_count": 26,
     "metadata": {},
     "output_type": "execute_result"
    },
    {
     "data": {
      "text/plain": [
       "10.0"
      ]
     },
     "execution_count": 26,
     "metadata": {},
     "output_type": "execute_result"
    },
    {
     "data": {
      "text/plain": [
       "50"
      ]
     },
     "execution_count": 26,
     "metadata": {},
     "output_type": "execute_result"
    }
   ],
   "source": [
    "# Calculate the five-number summary for 'years_code_pro'\n",
    "data_dev_survey.years_code_pro.min()\n",
    "data_dev_survey.years_code_pro.quantile(0.25)\n",
    "data_dev_survey.years_code_pro.median()\n",
    "data_dev_survey.years_code_pro.quantile(0.75)\n",
    "data_dev_survey.years_code_pro.max()\n",
    "\n",
    "# Print them out"
   ]
  },
  {
   "cell_type": "markdown",
   "id": "052eb762-0fb0-4715-81ca-77f254a032b4",
   "metadata": {},
   "source": [
    "## Exercise 1.2: Data Summarizing"
   ]
  },
  {
   "cell_type": "code",
   "execution_count": null,
   "id": "1a036009-eed1-4824-a527-a034482483df",
   "metadata": {},
   "outputs": [],
   "source": [
    "# Calculate center statistics for 'aroma'"
   ]
  },
  {
   "cell_type": "code",
   "execution_count": null,
   "id": "770187cc-e7b5-4d68-9ca2-73d34bf00715",
   "metadata": {},
   "outputs": [],
   "source": [
    "# Calculate spread statistics for 'aroma'"
   ]
  },
  {
   "cell_type": "code",
   "execution_count": null,
   "id": "58ba038a-1fd4-4b27-99f8-e91df19e20ab",
   "metadata": {},
   "outputs": [],
   "source": [
    "# Calculate the five-number summary for 'aroma'"
   ]
  },
  {
   "cell_type": "markdown",
   "id": "21e0caed-2745-46c1-8a83-01a09947b873",
   "metadata": {},
   "source": [
    "------------------------------------------------------------------------\n",
    "\n",
    "## Walkthrough 1.3: Data Visualization"
   ]
  },
  {
   "cell_type": "code",
   "execution_count": null,
   "id": "4f33e842-a405-4176-8b79-e24f787a0b2b",
   "metadata": {},
   "outputs": [],
   "source": [
    "# Histogram for years_code_pro"
   ]
  },
  {
   "cell_type": "code",
   "execution_count": null,
   "id": "57ad5dea-5025-4a8a-a34b-b56e0b3f4fc6",
   "metadata": {},
   "outputs": [],
   "source": [
    "# Set the default figure size for all plots"
   ]
  },
  {
   "cell_type": "code",
   "execution_count": null,
   "id": "96907e4c-4e67-419f-9b63-050425d17613",
   "metadata": {},
   "outputs": [],
   "source": [
    "# Box plot for work_exp"
   ]
  },
  {
   "cell_type": "code",
   "execution_count": null,
   "id": "75f4aee0-4af9-4fcd-b3f9-33ee5bb3f7dd",
   "metadata": {},
   "outputs": [],
   "source": [
    "# Scatter plot for years_code_pro vs. converted_comp_yearly"
   ]
  },
  {
   "cell_type": "markdown",
   "id": "06cb242e-f700-4c73-8cb7-607cae57b661",
   "metadata": {},
   "source": [
    "## Exercise 1.3: Data Visualization"
   ]
  },
  {
   "cell_type": "code",
   "execution_count": null,
   "id": "880b0a51-3a69-4ad9-8f87-d72204750348",
   "metadata": {},
   "outputs": [],
   "source": [
    "# Histogram for acidity"
   ]
  },
  {
   "cell_type": "code",
   "execution_count": null,
   "id": "de481710-306e-43f3-a328-fd26ce7b7cb5",
   "metadata": {},
   "outputs": [],
   "source": [
    "# Box plot for body"
   ]
  },
  {
   "cell_type": "code",
   "execution_count": null,
   "id": "28082b80-1f3c-423a-aa14-1ef10775111b",
   "metadata": {},
   "outputs": [],
   "source": [
    "# Scatter plot for body vs. acidity"
   ]
  },
  {
   "cell_type": "markdown",
   "id": "a70db917-31e8-4a7e-842f-cd67f63d12dc",
   "metadata": {},
   "source": [
    "------------------------------------------------------------------------\n",
    "\n",
    "## Walkthrough 1.4: Sampling Distribution Generation"
   ]
  },
  {
   "cell_type": "code",
   "execution_count": null,
   "id": "1ef2acb8-f0ee-4c69-97ce-4360fb67f861",
   "metadata": {},
   "outputs": [],
   "source": [
    "# Think of our data as a population to draw from\n",
    "\n",
    "# Generate a large sample from the 'converted_comp_yearly' column\n",
    "# Parameters\n",
    "\n",
    "\n",
    "# Set a seed to make code reproducible\n",
    "\n",
    "\n",
    "# Simulate sampling distribution of the mean\n",
    "\n",
    "\n",
    "# Plot the sampling distribution of the sample means"
   ]
  },
  {
   "cell_type": "markdown",
   "id": "51dfe232-b9b9-4bd2-a442-8d1ca6da7296",
   "metadata": {},
   "source": [
    "## Exercise 1.4: Sampling Distribution Generation"
   ]
  },
  {
   "cell_type": "code",
   "execution_count": null,
   "id": "c91c00f7-ee2c-41d4-8167-f79cc0874110",
   "metadata": {},
   "outputs": [],
   "source": [
    "# Think of our aroma data as a population to draw from\n",
    "\n",
    "# Parameters\n",
    "\n",
    "\n",
    "\n",
    "# Set random seed\n",
    "\n",
    "\n",
    "# Simulate sampling distribution of the mean\n",
    "\n",
    "\n",
    "\n",
    "# Plot the sampling distribution of the sample means"
   ]
  },
  {
   "cell_type": "markdown",
   "id": "e6b7e49d-e186-4466-9f30-4469ec6acf83",
   "metadata": {},
   "source": [
    "------------------------------------------------------------------------\n",
    "\n",
    "# Week 2\n",
    "\n",
    "## Walkthrough 2.1: Advanced Plots"
   ]
  },
  {
   "cell_type": "code",
   "execution_count": null,
   "id": "d33012ea-49fa-416b-b3c3-2c2f46958aee",
   "metadata": {},
   "outputs": [],
   "source": [
    "# Select only numeric columns\n",
    "\n",
    "# Calculate the correlation matrix for numeric columns\n",
    "\n",
    "# Heatmap for correlation matrix"
   ]
  },
  {
   "cell_type": "code",
   "execution_count": null,
   "id": "b725752c-3aba-4b5b-91d7-479c95601cf4",
   "metadata": {},
   "outputs": [],
   "source": [
    "# Pair plot for selected variables 'years_code_pro', 'work_exp', 'converted_comp_yearly'"
   ]
  },
  {
   "cell_type": "code",
   "execution_count": null,
   "id": "0662ddc3-c1b1-49f6-b0b3-c6427950844f",
   "metadata": {},
   "outputs": [],
   "source": [
    "# Time series plot\n",
    "\n",
    "\n",
    "# Count the number of surveys completed each day\n",
    "\n",
    "# Plot the counts as a line chart"
   ]
  },
  {
   "cell_type": "markdown",
   "id": "3d5cc3a4-f919-4a37-b99d-71aa83bd31bb",
   "metadata": {},
   "source": [
    "## Exercise 2.1: Advanced Plots"
   ]
  },
  {
   "cell_type": "code",
   "execution_count": null,
   "id": "d7ceea95-8569-441b-8ace-676a7cc61cfa",
   "metadata": {},
   "outputs": [],
   "source": [
    "# Select only numeric columns\n",
    "\n",
    "# Drop the 'clean_cup' and 'sweetness' columns since they are always 10\n",
    "numeric_columns = numeric_columns.drop(columns=['clean_cup', 'sweetness'], errors='ignore')\n",
    "\n",
    "# Calculate the correlation matrix for numeric columns\n",
    "\n",
    "\n",
    "# Heatmap for correlation matrix"
   ]
  },
  {
   "cell_type": "code",
   "execution_count": null,
   "id": "3ca0aec9-80c8-487a-85b8-34e57f6e663a",
   "metadata": {},
   "outputs": [],
   "source": [
    "# Pair plot for selected variables ['aroma', 'acidity', 'body']"
   ]
  },
  {
   "cell_type": "code",
   "execution_count": null,
   "id": "ef8c4463-bac7-4683-a99d-72cc949e8ace",
   "metadata": {},
   "outputs": [],
   "source": [
    "# Plot the mean total_cup_points for each grading_date\n",
    "\n",
    "# Convert to datetime\n",
    "\n",
    "# Extract the month and year from the grading_date column\n",
    "coffee_quality['month'] = coffee_quality['grading_date'].dt.to_period('M')\n",
    "\n",
    "# Aggregate the mean total_cup_points by month\n",
    "\n",
    "# Plot the mean total_cup_points by month as a line chart"
   ]
  },
  {
   "cell_type": "markdown",
   "id": "58454869-1378-4a96-b039-7420aaec7561",
   "metadata": {},
   "source": [
    "------------------------------------------------------------------------\n",
    "\n",
    "## Walkthrough 2.2: EDA\n",
    "\n",
    "### Data Cleaning"
   ]
  },
  {
   "cell_type": "code",
   "execution_count": null,
   "id": "fc37dd6b-5716-4d29-89dd-f30ca506e009",
   "metadata": {},
   "outputs": [],
   "source": [
    "# Check for missing values\n",
    "\n",
    "\n",
    "# Remove duplicates if any"
   ]
  },
  {
   "cell_type": "markdown",
   "id": "cc30ad91-9540-47f3-afaf-cdea271fb78c",
   "metadata": {},
   "source": [
    "### Data Visualization"
   ]
  },
  {
   "cell_type": "code",
   "execution_count": null,
   "id": "0d329262-a59c-4778-9407-bcdf3b7c6e1c",
   "metadata": {},
   "outputs": [],
   "source": [
    "# Histogram for years_code_pro\n",
    "\n",
    "\n",
    "# Box plot for work_exp\n",
    "\n",
    "\n",
    "# Scatter plot for years_code_pro vs. converted_comp_yearly"
   ]
  },
  {
   "cell_type": "markdown",
   "id": "87fe2461-1979-4b5c-8e30-80a364007cb8",
   "metadata": {},
   "source": [
    "### Summary Statistics"
   ]
  },
  {
   "cell_type": "code",
   "execution_count": null,
   "id": "66baa659-58ea-487a-81e1-5638594466e8",
   "metadata": {},
   "outputs": [],
   "source": [
    "# Calculate summary statistics"
   ]
  },
  {
   "cell_type": "markdown",
   "id": "52780f2c-21a4-4108-9dd8-005ea629e3f4",
   "metadata": {},
   "source": [
    "## Exercise 2.2: EDA\n",
    "\n",
    "### Data Cleaning"
   ]
  },
  {
   "cell_type": "code",
   "execution_count": null,
   "id": "55da604d-43d5-4bca-bc68-f910f53f012e",
   "metadata": {},
   "outputs": [],
   "source": [
    "# Check for missing values\n",
    "\n",
    "\n",
    "# Remove duplicates if any"
   ]
  },
  {
   "cell_type": "markdown",
   "id": "ec416294-c137-418c-9d8c-4bfd3a2a5312",
   "metadata": {},
   "source": [
    "### Data Visualization"
   ]
  },
  {
   "cell_type": "code",
   "execution_count": null,
   "id": "071b7768-f225-4612-a101-374da69c76c3",
   "metadata": {},
   "outputs": [],
   "source": [
    "# Histogram for aroma\n",
    "\n",
    "\n",
    "# Box plot for acidity\n",
    "\n",
    "\n",
    "# Scatter plot for aroma vs. total_cup_points"
   ]
  },
  {
   "cell_type": "markdown",
   "id": "1d5af980-2ad9-4a22-88c9-d320b3eb70b4",
   "metadata": {},
   "source": [
    "### Summary Statistics"
   ]
  },
  {
   "cell_type": "code",
   "execution_count": null,
   "id": "4055a1c2-769c-425a-8f4b-6bb89b4bd173",
   "metadata": {},
   "outputs": [],
   "source": [
    "# Calculate summary statistics"
   ]
  },
  {
   "cell_type": "markdown",
   "id": "be0a4ae7-5d5d-4450-8d20-dc1d910ebfdc",
   "metadata": {},
   "source": [
    "------------------------------------------------------------------------\n",
    "\n",
    "## Walkthrough 2.3: Data Preprocessing\n",
    "\n",
    "### Inspect the Data after Loading"
   ]
  },
  {
   "cell_type": "code",
   "execution_count": null,
   "id": "2a99aee8-e043-40ac-8014-cd4881bd509b",
   "metadata": {},
   "outputs": [],
   "source": [
    "# Display basic information about the dataset\n",
    "\n",
    "\n",
    "# Display the first few rows of the dataset"
   ]
  },
  {
   "cell_type": "markdown",
   "id": "9a723f69-1b62-4ed9-b172-e8944188904b",
   "metadata": {},
   "source": [
    "### Handle Missing Values"
   ]
  },
  {
   "cell_type": "code",
   "execution_count": null,
   "id": "c4f07da3-c96f-46b9-ad2f-f5fbf411e40c",
   "metadata": {},
   "outputs": [],
   "source": [
    "# Check for missing values\n",
    "\n",
    "\n",
    "# Make a copy of the dataset for imputation\n",
    "\n",
    "# Select only numeric columns\n",
    "\n",
    "# Fill missing values in numeric columns with the median\n",
    "\n",
    "\n",
    "# Display the first few rows of the imputed dataset"
   ]
  },
  {
   "cell_type": "markdown",
   "id": "10ab9f0a-d378-42f7-9d2f-b94c7af1a5c9",
   "metadata": {},
   "source": [
    "### Handling Outliers"
   ]
  },
  {
   "cell_type": "code",
   "execution_count": null,
   "id": "297a58ab-fd8e-40d5-8f54-5413306f0bca",
   "metadata": {},
   "outputs": [],
   "source": [
    "# Select only numeric columns\n",
    "\n",
    "# Identify outliers using IQR\n",
    "\n",
    "\n",
    "# Remove outliers"
   ]
  },
  {
   "cell_type": "markdown",
   "id": "4385f1f8-0b22-4eae-8ba0-6ecf214c548b",
   "metadata": {},
   "source": [
    "### Data Transformation"
   ]
  },
  {
   "cell_type": "code",
   "execution_count": null,
   "id": "2829cd2a-e0da-4457-9d48-7a1608d54127",
   "metadata": {},
   "outputs": [],
   "source": [
    "# Normalization on converted_comp_yearly\n",
    "\n",
    "\n",
    "# Standardization on work_exp\n",
    "\n",
    "\n",
    "# Encoding categorical variables (country)"
   ]
  },
  {
   "cell_type": "markdown",
   "id": "f13b4858-c096-4de8-bcd9-0512cbdea904",
   "metadata": {},
   "source": [
    "### Data Visualizations on Preprocessed Data"
   ]
  },
  {
   "cell_type": "code",
   "execution_count": null,
   "id": "4862de9e-4ffe-42aa-b235-33f8908fd1b6",
   "metadata": {},
   "outputs": [],
   "source": [
    "# Histogram for years_code_pro\n",
    "\n",
    "\n",
    "# Box plot for work_exp\n",
    "\n",
    "\n",
    "# Scatter plot for years_code_pro vs. converted_comp_yearly"
   ]
  },
  {
   "cell_type": "markdown",
   "id": "f656d083-0490-4b59-bae1-9e538c8fe46c",
   "metadata": {},
   "source": [
    "## Exercise 2.3: Data Preprocessing\n",
    "\n",
    "### Inspect the Data after Loading"
   ]
  },
  {
   "cell_type": "code",
   "execution_count": null,
   "id": "4294e349-1c97-45ae-a2b3-5812e88f601f",
   "metadata": {},
   "outputs": [],
   "source": [
    "# Display basic information about the dataset\n",
    "\n",
    "\n",
    "# Display the first few rows of the dataset"
   ]
  },
  {
   "cell_type": "markdown",
   "id": "8d841f98-ccc2-4fea-bb0f-62da5df8bf8f",
   "metadata": {},
   "source": [
    "### Handle Missing Values"
   ]
  },
  {
   "cell_type": "code",
   "execution_count": null,
   "id": "41d30a9e-80ad-420d-9a5b-7b4e77262444",
   "metadata": {},
   "outputs": [],
   "source": [
    "# Check for missing values\n",
    "\n",
    "\n",
    "# Make a copy of the dataset for imputation\n",
    "\n",
    "\n",
    "# Select only numeric columns\n",
    "\n",
    "\n",
    "# Fill missing values in numeric columns with the median\n",
    "\n",
    "\n",
    "# Display the first few rows of the imputed dataset"
   ]
  },
  {
   "cell_type": "markdown",
   "id": "71adff6d-aeaf-4cd4-a761-691a1fb242f8",
   "metadata": {},
   "source": [
    "### Handle Outliers"
   ]
  },
  {
   "cell_type": "code",
   "execution_count": null,
   "id": "92afb7a2-e0a0-46da-88aa-d3c4d6030598",
   "metadata": {},
   "outputs": [],
   "source": [
    "# Select only numeric columns\n",
    "\n",
    "# Identify outliers using IQR\n",
    "\n",
    "\n",
    "# Remove outliers"
   ]
  },
  {
   "cell_type": "markdown",
   "id": "6b8c3cc3-c7e0-4e19-8c2c-debfadb0af42",
   "metadata": {},
   "source": [
    "### Data Transformation"
   ]
  },
  {
   "cell_type": "code",
   "execution_count": null,
   "id": "44ec0fe3-26df-4abf-be10-f38da8123031",
   "metadata": {},
   "outputs": [],
   "source": [
    "# Normalization on total_cup_points\n",
    "\n",
    "\n",
    "# Standardization on acidity\n",
    "\n",
    "\n",
    "# Encoding categorical variables (country and continent of origin)"
   ]
  },
  {
   "cell_type": "markdown",
   "id": "1363949d-c962-454c-b022-22eb96e623d6",
   "metadata": {},
   "source": [
    "### Data Visualizations on Preprocessed Data"
   ]
  },
  {
   "cell_type": "code",
   "execution_count": null,
   "id": "b30dd58b-244d-4218-b949-53a6b7069615",
   "metadata": {},
   "outputs": [],
   "source": [
    "# Histogram for aroma\n",
    "\n",
    "\n",
    "# Box plot for acidity\n",
    "\n",
    "\n",
    "# Scatter plot for aroma vs. total_cup_points"
   ]
  },
  {
   "cell_type": "markdown",
   "id": "d9bd7888-56f9-461b-8265-17226e15d511",
   "metadata": {},
   "source": [
    "------------------------------------------------------------------------\n",
    "\n",
    "## Walkthrough 2.4: Correlations\n",
    "\n",
    "### Correlation Matrix"
   ]
  },
  {
   "cell_type": "code",
   "execution_count": null,
   "id": "4b0096f6-4ea5-4f58-af08-704f1323ea5d",
   "metadata": {},
   "outputs": [],
   "source": [
    "# Select only numeric columns\n",
    "\n",
    "# Calculate the correlation matrix\n",
    "\n",
    "# Display the correlation matrix"
   ]
  },
  {
   "cell_type": "markdown",
   "id": "792eac96-fcd0-4855-b1db-5e25dbd946a5",
   "metadata": {},
   "source": [
    "### Visualize Correlations"
   ]
  },
  {
   "cell_type": "code",
   "execution_count": null,
   "id": "d857adb8-fd36-4a5e-b97c-4eea47ec44a0",
   "metadata": {},
   "outputs": [],
   "source": [
    "# Heatmap for correlation matrix"
   ]
  },
  {
   "cell_type": "markdown",
   "id": "b3aa1704-d295-4816-91cc-d8c07dfe0b8a",
   "metadata": {},
   "source": [
    "### Create Scatter Plots for Meaningful Correlations"
   ]
  },
  {
   "cell_type": "code",
   "execution_count": null,
   "id": "c552e3c9-af70-4a2a-a9ce-adc23d4ee7bd",
   "metadata": {},
   "outputs": [],
   "source": [
    "# Scatter plot for years_code_pro vs. years_code\n",
    "\n",
    "\n",
    "# Scatter plot for work_exp vs. years_code_pro"
   ]
  },
  {
   "cell_type": "markdown",
   "id": "be165cc9-55ce-46d3-a88c-7f73d0fd74d8",
   "metadata": {},
   "source": [
    "## Exercise 2.4: Correlations\n",
    "\n",
    "### Correlation Matrix"
   ]
  },
  {
   "cell_type": "code",
   "execution_count": null,
   "id": "00e7b00e-4fc5-4847-ace0-c9e56cb2792e",
   "metadata": {},
   "outputs": [],
   "source": [
    "# Select only numeric columns\n",
    "\n",
    "# Remove clean_cup and sweetness too\n",
    "\n",
    "# Calculate the correlation matrix\n",
    "\n",
    "# Display the correlation matrix"
   ]
  },
  {
   "cell_type": "markdown",
   "id": "4db115f0-267e-4369-a90f-bb7f20f5218d",
   "metadata": {},
   "source": [
    "### Visualize Correlations"
   ]
  },
  {
   "cell_type": "code",
   "execution_count": null,
   "id": "43398def-15c8-45f4-a892-27665496862f",
   "metadata": {},
   "outputs": [],
   "source": [
    "# Heatmap for correlation matrix"
   ]
  },
  {
   "cell_type": "markdown",
   "id": "8722058a-fc59-4472-8a57-120e9863bba6",
   "metadata": {},
   "source": [
    "### Create Scatter Plots for Meaningful Correlations"
   ]
  },
  {
   "cell_type": "code",
   "execution_count": null,
   "id": "3936d623-e38b-47e5-b8aa-8d25b0c9238d",
   "metadata": {},
   "outputs": [],
   "source": [
    "# Scatter plot for flavor vs. total_cup_points\n",
    "\n",
    "\n",
    "# Scatter plot for overall vs. total_cup_points"
   ]
  },
  {
   "cell_type": "markdown",
   "id": "013f46a0-136d-4e15-b50f-dbc82f1ba335",
   "metadata": {},
   "source": [
    "------------------------------------------------------------------------\n",
    "\n",
    "# Week 3\n",
    "\n",
    "## Walkthrough 3.1: Simulating Distributions\n",
    "\n",
    "### Simulating Binomial"
   ]
  },
  {
   "cell_type": "code",
   "execution_count": null,
   "id": "e120d8fb-7c8a-42cd-b6f2-fedf61b97f5f",
   "metadata": {},
   "outputs": [],
   "source": [
    "# Simulate binomial distribution\n",
    "\n",
    "# Plot histogram"
   ]
  },
  {
   "cell_type": "markdown",
   "id": "a333fd24-9074-484c-a206-dd155b5e2747",
   "metadata": {},
   "source": [
    "### Simulating Normal"
   ]
  },
  {
   "cell_type": "code",
   "execution_count": null,
   "id": "a31885ca-fe33-45d6-9cd6-2496b1856288",
   "metadata": {},
   "outputs": [],
   "source": [
    "# Simulate normal distribution\n",
    "\n",
    "# Plot histogram"
   ]
  },
  {
   "cell_type": "markdown",
   "id": "3578432f-f8c3-43b0-a80a-3bf5a0983a68",
   "metadata": {},
   "source": [
    "## Exercise 3.1:\n",
    "\n",
    "### Simulating Poisson"
   ]
  },
  {
   "cell_type": "code",
   "execution_count": null,
   "id": "9372044c-502f-4858-bd69-c0e84390ea41",
   "metadata": {},
   "outputs": [],
   "source": [
    "# Simulate Poisson distribution with lambda (lam) parameter 3\n",
    "\n",
    "# Plot histogram"
   ]
  },
  {
   "cell_type": "markdown",
   "id": "789fad6c-0489-47e7-a4d2-8bdcda980ca0",
   "metadata": {},
   "source": [
    "### Simulating Exponential"
   ]
  },
  {
   "cell_type": "code",
   "execution_count": null,
   "id": "684b5df9-1a67-496a-bb01-49122b353cfb",
   "metadata": {},
   "outputs": [],
   "source": [
    "# Simulate exponential distribution with scale parameter 1\n",
    "\n",
    "# Plot histogram"
   ]
  },
  {
   "cell_type": "markdown",
   "id": "82658fa7-5453-4709-84f9-1cc90ddbb1bd",
   "metadata": {},
   "source": [
    "------------------------------------------------------------------------\n",
    "\n",
    "## Walkthrough 3.2: t-tests"
   ]
  },
  {
   "cell_type": "code",
   "execution_count": null,
   "id": "6a961857-3844-49c3-9866-a4ed2f0151e3",
   "metadata": {},
   "outputs": [],
   "source": [
    "# One-sample t-test checking for evidence that mu compensation > 85000"
   ]
  },
  {
   "cell_type": "code",
   "execution_count": null,
   "id": "32e5fce0-aa71-45e2-8bee-b24eb665d730",
   "metadata": {},
   "outputs": [],
   "source": [
    "# Two-sample t-test comparing compensation across plans_to_use_ai groups\n",
    "# Checking for a difference"
   ]
  },
  {
   "cell_type": "markdown",
   "id": "cbb04a1f-29b3-49de-bfe5-3ddc6c68c2ba",
   "metadata": {},
   "source": [
    "## Exercise 3.2: t-tests"
   ]
  },
  {
   "cell_type": "code",
   "execution_count": null,
   "id": "608a5396-1a26-4957-80f7-0502f7ba9821",
   "metadata": {},
   "outputs": [],
   "source": [
    "# One-sample t-test checking for evidence that mu flavor < 7.8"
   ]
  },
  {
   "cell_type": "code",
   "execution_count": null,
   "id": "8a01600a-6775-4262-89ed-19af7018d571",
   "metadata": {},
   "outputs": [],
   "source": [
    "# Two-sample t-test checking for difference in Columbia and Brazil total_cup_points"
   ]
  },
  {
   "cell_type": "markdown",
   "id": "86a8542d-3abe-4f35-9fd3-13b9bcde34fd",
   "metadata": {},
   "source": [
    "------------------------------------------------------------------------\n",
    "\n",
    "## Walkthrough 3.3: Comparative Tests"
   ]
  },
  {
   "cell_type": "code",
   "execution_count": null,
   "id": "4733b683-4f5c-4240-bf3d-6eb8b93f0b9d",
   "metadata": {},
   "outputs": [],
   "source": [
    "# Perform one-way ANOVA comparing compensation across different levels of\n",
    "# remote_work"
   ]
  },
  {
   "cell_type": "code",
   "execution_count": null,
   "id": "c47f2dcc-6f5b-484c-8597-68d1cef6e76d",
   "metadata": {},
   "outputs": [],
   "source": [
    "# Create a contingency table of employment and remote_work\n",
    "\n",
    "\n",
    "# Perform chi-square test"
   ]
  },
  {
   "cell_type": "markdown",
   "id": "fbd2b804-7ea0-4f1e-95da-162abc16df67",
   "metadata": {},
   "source": [
    "## Exercise 3.3: Comparative Tests"
   ]
  },
  {
   "cell_type": "code",
   "execution_count": null,
   "id": "52f38c7c-5b59-4f03-aead-24995b92fa01",
   "metadata": {},
   "outputs": [],
   "source": [
    "# Perform one-way ANOVA comparing total_cup_points across country_of_origin"
   ]
  },
  {
   "cell_type": "code",
   "execution_count": null,
   "id": "7590e31b-2021-4f26-9233-191b0510a1ab",
   "metadata": {},
   "outputs": [],
   "source": [
    "# Perform a chi-square test of independence for processing_method versus\n",
    "# continent_of_origin\n",
    "\n",
    "# Create a contingency table\n",
    "\n",
    "\n",
    "# Perform chi-square test"
   ]
  },
  {
   "cell_type": "markdown",
   "id": "feb3b26b-f0bd-4cbd-b89f-9af79dce74c6",
   "metadata": {},
   "source": [
    "------------------------------------------------------------------------\n",
    "\n",
    "## Walkthrough 3.4: Non-Parametric Tests"
   ]
  },
  {
   "cell_type": "code",
   "execution_count": null,
   "id": "dbbb7e1b-5eed-4fbf-8b77-71e0ee27dffa",
   "metadata": {},
   "outputs": [],
   "source": [
    "# Perform Mann-Whitney U Test comparing compensation for Remote and In-person"
   ]
  },
  {
   "cell_type": "code",
   "execution_count": null,
   "id": "42448ad0-fda1-41e0-8341-cc25c2e20570",
   "metadata": {},
   "outputs": [],
   "source": [
    "# Perform Kruskal-Wallis H Test comparing compensation across countries"
   ]
  },
  {
   "cell_type": "markdown",
   "id": "ada4123d-5786-457e-ac51-3129fa2ae5d0",
   "metadata": {},
   "source": [
    "## Exercise 3.4: Non-Parametric Tests"
   ]
  },
  {
   "cell_type": "code",
   "execution_count": null,
   "id": "fdc72771-be38-4547-bded-66418c3d4e94",
   "metadata": {},
   "outputs": [],
   "source": [
    "# Perform Mann-Whitney U Test comparing total_cup_points for Guatemala\n",
    "# and Honduras"
   ]
  },
  {
   "cell_type": "code",
   "execution_count": null,
   "id": "30febe01-584f-4818-9af2-a3bc4fe277a0",
   "metadata": {},
   "outputs": [],
   "source": [
    "# Perform Kruskal-Wallis H Test comparing total_cup_points across \n",
    "# continent_of_origin"
   ]
  }
 ],
 "metadata": {
  "kernelspec": {
   "display_name": "Python 3 (ipykernel)",
   "language": "python",
   "name": "python3"
  },
  "language_info": {
   "codemirror_mode": {
    "name": "ipython",
    "version": 3
   },
   "file_extension": ".py",
   "mimetype": "text/x-python",
   "name": "python",
   "nbconvert_exporter": "python",
   "pygments_lexer": "ipython3",
   "version": "3.9.6"
  }
 },
 "nbformat": 4,
 "nbformat_minor": 5
}
